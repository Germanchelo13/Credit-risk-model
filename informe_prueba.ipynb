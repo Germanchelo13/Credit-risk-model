{
 "cells": [
  {
   "cell_type": "raw",
   "id": "a3890540",
   "metadata": {},
   "source": [
    "---\n",
    "title: \"informe\"\n",
    "author: \"Germán alonso\"\n",
    "date: \"2022-10-10\"\n",
    "output: \n",
    "  html_document:\n",
    "    toc: true\n",
    "    toc_depth: 3\n",
    "    toc_float: true\n",
    "    code_folding: hide\n",
    "    theme: paper\n",
    "\n",
    "    fig_width: 8\n",
    "    fig_height: 8\n",
    "    fig_caption: true\n",
    "---"
   ]
  },
  {
   "cell_type": "code",
   "execution_count": 2,
   "id": "9f9e2328",
   "metadata": {},
   "outputs": [
    {
     "name": "stderr",
     "output_type": "stream",
     "text": [
      "UsageError: Cell magic `%%R` not found.\n"
     ]
    }
   ],
   "source": [
    "%%R\n",
    "\n"
   ]
  },
  {
   "cell_type": "code",
   "execution_count": 3,
   "id": "2b840a0a",
   "metadata": {
    "echo": false,
    "language": "css"
   },
   "outputs": [
    {
     "ename": "SyntaxError",
     "evalue": "invalid syntax (350376206.py, line 1)",
     "output_type": "error",
     "traceback": [
      "\u001b[1;36m  Input \u001b[1;32mIn [3]\u001b[1;36m\u001b[0m\n\u001b[1;33m    h1  {\u001b[0m\n\u001b[1;37m        ^\u001b[0m\n\u001b[1;31mSyntaxError\u001b[0m\u001b[1;31m:\u001b[0m invalid syntax\n"
     ]
    }
   ],
   "source": [
    "h1  {\n",
    "  text-align: center;\n",
    "  color: navy;\n",
    "  text-decoration: underline #BE05FA;\n",
    "}\n",
    "h2 {\n",
    "  text-align: center;\n",
    "  color: blue;\n",
    "  text-decoration: underline #BE05FA;\n",
    "}\n",
    "h3 {\n",
    "  text-align: center;\n",
    "  color: blue;\n",
    "  text-decoration: underline #BE05FA;\n",
    "}\n",
    "body {\n",
    "  color: black;\n",
    "  counter-reset:section;\n",
    "}\n",
    "caption {\n",
    "  text-align: center;\n",
    "  color: black;\n",
    "}\n",
    "caption::before {\n",
    "    counter-increment: section;\n",
    "    content:\"Table - \" counter(section);\n",
    "}"
   ]
  },
  {
   "cell_type": "code",
   "execution_count": null,
   "id": "07469673",
   "metadata": {
    "tags": [
     "remove_cell"
    ]
   },
   "outputs": [],
   "source": [
    "%%R\n",
    "#  background-color: #EEF6F9;"
   ]
  },
  {
   "cell_type": "markdown",
   "id": "772c5b2f",
   "metadata": {},
   "source": [
    "#  Introducción \n"
   ]
  },
  {
   "cell_type": "markdown",
   "id": "b7fb4aba",
   "metadata": {},
   "source": [
    "El riesgo de crédito se refiere a la probabilidad de pérdida debido a un incumplimiento en los pagos de cualquier tipo de deuda, se cuenta con una base de datos <a href=\"https://drive.google.com/file/d/1xaF743cmUgI5kc76I86AeZDE84SMkMnt/view\"> loan_data_2007_2014.csv </a> con información de usuarios desde 2007 a 2014 disponible en <a href =\"https://www.kaggle.com/datasets/devanshi23/loan-data-2007-2014\"> kaggle </a> su fuente es de <a href=\"https://www.lendingclub.com/\" > lendingclub </a> que es un tipo de prestamista P2P (prestamos digitales) de EE. UU. contiene información reciente de interés como el estado del prestamo y varios factores que pueden influir en si la persona paga o no el prestamo.\n"
   ]
  },
  {
   "cell_type": "markdown",
   "id": "142da6e8",
   "metadata": {},
   "source": [
    "# Objetivo\n"
   ]
  },
  {
   "cell_type": "markdown",
   "id": "25a1c958",
   "metadata": {},
   "source": [
    "Crear un modelo de probabilidad para el incumplimiento de los pagos con la base de datos, para predecir la probabilidad de que un individuo incumpla sus obligaciones financieras en los siguientes 12 meses desde que se genero el crédito."
   ]
  },
  {
   "cell_type": "code",
   "execution_count": 4,
   "id": "85655745",
   "metadata": {
    "lines_to_next_cell": 0,
    "name": "setup",
    "tags": [
     "remove_cell"
    ]
   },
   "outputs": [
    {
     "name": "stderr",
     "output_type": "stream",
     "text": [
      "UsageError: Cell magic `%%R` not found.\n"
     ]
    }
   ],
   "source": [
    "%%R\n",
    "knitr::opts_chunk$set(echo = TRUE)\n",
    "library(reticulate)\n",
    "library(kableExtra)"
   ]
  },
  {
   "cell_type": "markdown",
   "id": "ed72abb1",
   "metadata": {},
   "source": []
  },
  {
   "cell_type": "markdown",
   "id": "f3b38570",
   "metadata": {},
   "source": [
    "Este informe se usara con un lenguaje de programación Python usando las siguientes librerias:\n",
    "\n",
    "-   pandas: Lectura y manejo de data frame.\n",
    "-   numpy: Arreglos matriciales."
   ]
  },
  {
   "cell_type": "code",
   "execution_count": 39,
   "id": "58cc3aca",
   "metadata": {
    "name": "librerias"
   },
   "outputs": [],
   "source": [
    "import pandas as pd\n",
    "import numpy as np\n",
    "import seaborn as sns\n",
    "from scipy.stats import chi2_contingency\n",
    "from sklearn.neighbors import KNeighborsClassifier\n",
    "from sklearn.metrics import accuracy_score\n",
    "from sklearn.model_selection import train_test_split\n",
    "import matplotlib.pyplot as plt\n",
    "mes_name=['Dec', 'Nov', 'Oct', 'Sep', 'Aug', 'Jul', 'Jun', 'May', 'Apr', 'Mar', 'Feb', 'Jan']\n",
    "mes_num=list(pd.Series(list((13-np.arange(1,13)))).astype(\"str\"))\n",
    "def format_replace(string_):\n",
    "    for i in range(0,12):\n",
    "        string_=str(string_).replace(mes_name[i],mes_num[i] )\n",
    "    return string_\n",
    "def dummy_creation(df_, columns_list):\n",
    "    df_dummies = []\n",
    "    for col in columns_list:\n",
    "        df_dummies.append(pd.get_dummies(df_[col], prefix = col, prefix_sep = ':'))\n",
    "    df_dummies = pd.concat(df_dummies, axis = 1)\n",
    "    df_ = pd.concat([df_, df_dummies], axis = 1)\n",
    "    df_=df_.drop(labels=columns_list,axis=1)\n",
    "    return df_\n"
   ]
  },
  {
   "cell_type": "markdown",
   "id": "3c3337c0",
   "metadata": {},
   "source": [
    "# Depuración"
   ]
  },
  {
   "cell_type": "code",
   "execution_count": 2,
   "id": "606633a7",
   "metadata": {
    "lines_to_next_cell": 0,
    "message": false
   },
   "outputs": [
    {
     "name": "stderr",
     "output_type": "stream",
     "text": [
      "C:\\Users\\German\\AppData\\Local\\Temp\\ipykernel_3852\\1835913424.py:1: DtypeWarning: Columns (19) have mixed types. Specify dtype option on import or set low_memory=False.\n",
      "  df=pd.read_csv(\"loan_data_2007_2014.csv\")\n"
     ]
    }
   ],
   "source": [
    "df=pd.read_csv(\"loan_data_2007_2014.csv\")"
   ]
  },
  {
   "cell_type": "code",
   "execution_count": 3,
   "id": "3aa1383f",
   "metadata": {
    "tags": [
     "remove_cell"
    ]
   },
   "outputs": [],
   "source": [
    "df[ 'issue_d']=df[ 'issue_d'].apply(format_replace)\n",
    "df['last_pymnt_d']=df['last_pymnt_d'].apply(format_replace)\n",
    "df[ 'earliest_cr_line']=df[ 'earliest_cr_line'].apply(format_replace)\n",
    "df['earliest_cr_line']=pd.to_datetime(df['earliest_cr_line'], format = \"%m-%y\")"
   ]
  },
  {
   "cell_type": "markdown",
   "id": "17e45413",
   "metadata": {},
   "source": [
    "La base de datos <a href=\"https://drive.google.com/file/d/1xaF743cmUgI5kc76I86AeZDE84SMkMnt/view\"> loan_data_2007_2014.csv </a> cuenta con 74 columnas y 466285 registros.\n",
    "\n",
    "-   Las columnas id, member_id, url, title hacen referencia a información de identificación del usuario, que no es de interés para el estudio.\n"
   ]
  },
  {
   "cell_type": "markdown",
   "id": "a19ddce5",
   "metadata": {},
   "source": [
    "## Variables primordiales\n",
    "\n",
    "Para la creación del modelo se tienen:\n",
    "\n",
    "- __issue_d__: El mes en que se financió el préstamo (mes-año).\n",
    "\n",
    "- __last_pymnt_d__: El último mes de pago fue recibido."
   ]
  },
  {
   "cell_type": "markdown",
   "id": "16a9a707",
   "metadata": {},
   "source": [
    "- __loan_satus__: Esta sera la variable objetivo, cuenta con 9 categorías que clasifican el ultimo estado registrado."
   ]
  },
  {
   "cell_type": "markdown",
   "id": "6e71d3b7",
   "metadata": {},
   "source": [
    "## Creación de variables\n",
    "\n",
    "Como el objetivo es crear un modelo para predecir si al cabo de 12 meses que se origina el credíto (issue_d) el usuario incumple sus obligaciones financieras, luego de analizar las variables fecha registradas se crea __month_last__: meses que han pasado desde el ultimo pago, que es la diferencia  (last_pymnt_d-issue_d ) esto nos dará informción del tiempo que pago el usuario y con la variable loan_status se podrá saber si el usuario incumple entre el tiempo de interés (antes de 12 meses).\n",
    "\n",
    "Se crea las variables.\n",
    "\n",
    "- __good_status__: Que tomara valores 0 (con morosidad) y 1 (Sin morosidad)"
   ]
  },
  {
   "cell_type": "code",
   "execution_count": 4,
   "id": "6fcf058f",
   "metadata": {
    "lines_to_next_cell": 0,
    "results": "asis"
   },
   "outputs": [],
   "source": [
    "table_frec=pd.DataFrame(df[\"loan_status\"].value_counts())\n",
    "status_mora=['Charged Off', 'Default', 'Late (31-120 days)','Does not meet the credit policy. Status:Charged Off']\n",
    "table_frec[\"good_status\"]=1\n",
    "filtro=pd.Series(table_frec.index).isin( status_mora)\n",
    "table_frec.loc[list(filtro), \"good_status\"]=0\n",
    "table_frec=table_frec.reset_index()\n",
    "table_frec.columns=[\"loan_status\", \"Frec\", \"good_status\" ]\n",
    "df_temp=table_frec[[\"loan_status\", \"good_status\",\"Frec\" ]]\n",
    "df[\"good_status\"]=1\n",
    "df.loc[df[\"loan_status\"].isin(status_mora),\"good_status\"]=0"
   ]
  },
  {
   "cell_type": "markdown",
   "id": "a2505fb3",
   "metadata": {},
   "source": [
    "\n"
   ]
  },
  {
   "cell_type": "markdown",
   "id": "977a5310",
   "metadata": {},
   "source": [
    "`r kbl(py$df_temp, escape = F, align = \"c\", caption=\"Categorías good_status \") %>%  kable_classic_2(\"striped\", full_width = F)`"
   ]
  },
  {
   "cell_type": "markdown",
   "id": "d4ed44f3",
   "metadata": {},
   "source": [
    "- __month_last__: last_pymnt_d-issue_d en meses."
   ]
  },
  {
   "cell_type": "code",
   "execution_count": 5,
   "id": "6155d69e",
   "metadata": {
    "lines_to_next_cell": 2,
    "warning": false
   },
   "outputs": [],
   "source": [
    "df[ 'issue_d']=pd.to_datetime(df['issue_d'], format = \"%m-%y\")\n",
    "df['last_pymnt_d']=pd.to_datetime(df['last_pymnt_d'], format = \"%m-%y\")\n",
    "df[\"month_last\"]= ((df.last_pymnt_d - df.issue_d)/np.timedelta64(1, 'M'))\n"
   ]
  },
  {
   "cell_type": "markdown",
   "id": "28eda195",
   "metadata": {},
   "source": [
    "- __target_time__: 1 si month_last $\\leq$ 12, 0 si >12."
   ]
  },
  {
   "cell_type": "code",
   "execution_count": 6,
   "id": "3dc22d6a",
   "metadata": {
    "lines_to_next_cell": 2
   },
   "outputs": [],
   "source": [
    "df['target_time']=0\n",
    "df.loc[df[\"month_last\"]<=12,'target_time']=1"
   ]
  },
  {
   "cell_type": "markdown",
   "id": "058d6362",
   "metadata": {},
   "source": [
    "### Estructura del modelo\n",
    "\n",
    "El modelo general tendra la estructura:"
   ]
  },
  {
   "cell_type": "markdown",
   "id": "55c3e65b",
   "metadata": {},
   "source": [
    "$$\n",
    "P(\\text{good_status=1} )= f(\\text{month_last}, {X },\\theta )\n",
    "$$\n",
    "Donde __month_last__ define el tiempo en que queremos predecir, $X$ es un vector de variables que puedan afectar la probabilidad y $\\theta$ son los parámetros que puede contener el modelo."
   ]
  },
  {
   "cell_type": "markdown",
   "id": "325b7ade",
   "metadata": {},
   "source": [
    "### Valores NA\n",
    "\n",
    "Asumiendo que se tolera al menos un 20 % de valores NA en los datos de las y omitiendo las columnas de identificación se cuenta con:\n"
   ]
  },
  {
   "cell_type": "code",
   "execution_count": 7,
   "id": "37f0525b",
   "metadata": {
    "lines_to_next_cell": 2,
    "results": "asis"
   },
   "outputs": [],
   "source": [
    "drop_columns=[\"id\", \"member_id\", \"url\", \"title\"]\n",
    "df=df.drop(labels=drop_columns,axis=1 )\n",
    "total_na=df.isna().sum()\n",
    "filtro=total_na< df.shape[0]*0.2\n",
    "total_na=total_na[filtro]\n",
    "result=pd.DataFrame({\"Variables\":[\"Menos del 20% NA\",\" Mas del 20% NA\"],\n",
    "\"Total variables\":[total_na.shape[0], 70-total_na.shape[0] ]} )"
   ]
  },
  {
   "cell_type": "markdown",
   "id": "27712bec",
   "metadata": {},
   "source": [
    "`r kbl(py$result, escape = F, align = \"c\", caption=\"Resumen de NA\") %>%  kable_classic_2(\"striped\", full_width = F)`"
   ]
  },
  {
   "cell_type": "markdown",
   "id": "43769841",
   "metadata": {},
   "source": [
    "Se omiten 22 variables por su alto porcentaje de valores faltantes, aunque 20% de valores faltantes es una cantidad alta, existen variables importantes que contienen alta cantidad de valores faltantes que se muestran a continuación."
   ]
  },
  {
   "cell_type": "markdown",
   "id": "6bbcdd83",
   "metadata": {},
   "source": [
    "## Variables modelo\n"
   ]
  },
  {
   "cell_type": "code",
   "execution_count": 8,
   "id": "a780bb2a",
   "metadata": {
    "lines_to_next_cell": 2,
    "results": "asis"
   },
   "outputs": [],
   "source": [
    "vars_=total_na.sort_values(ascending=False).head()\n",
    "result=pd.DataFrame({\"Variables\":vars_.index,\"Descripción\":[\" Total crédito rotativo alto entre límite de crédito. \",\"Saldo corriente en todas las cuentas \", \" Montos totales de cobro adeudados. \", \"Tipo de trabajo.\",\"Años en el trabajo \"   ], \"Total NA\":vars_ })\n",
    "result=result.reset_index()"
   ]
  },
  {
   "cell_type": "markdown",
   "id": "b880c9c8",
   "metadata": {},
   "source": [
    "`r kbl(py$result, escape = F, align = \"c\", caption=\"Variables candidatas\") %>%  kable_classic_2(\"striped\", full_width = F)`\n",
    "\n",
    "De estas variables puede ser dificil que el usuario obtenga __total_rev_hi_lim__, __emp_title__ tiene muchas categorías.\n",
    "\n",
    "Es importante identificar que variables puede dar un usuario al momento del registro, pues existen variables donde se obtienen la información al pasar el tiempo o un usuario no puede identificar.\n"
   ]
  },
  {
   "cell_type": "code",
   "execution_count": 9,
   "id": "763b4fee",
   "metadata": {
    "lines_to_next_cell": 2,
    "tags": [
     "remove_cell"
    ]
   },
   "outputs": [],
   "source": [
    "variables_eliminar=\"\"\"funded_amnt_inv\n",
    "grade\n",
    "sub_grade\n",
    "emp_title\n",
    "verification_status\n",
    "zip_code\n",
    "addr_state\n",
    "dti\n",
    "delinq_2yrs\n",
    "inq_last_6mths\n",
    "revol_bal\n",
    "revol_util\n",
    "total_acc\n",
    "out_prncp\n",
    "out_prncp_inv\n",
    "out_prncp_inv\n",
    "total_pymnt\n",
    "total_rec_prncp\n",
    "total_rec_int\n",
    "total_rec_late_fee\n",
    "recoveries\n",
    "collection_recovery_fee\n",
    "last_pymnt_amnt\n",
    "last_credit_pull_d\n",
    "collections_12_mths_ex_med\n",
    "policy_code\n",
    "tot_coll_amt\n",
    "total_rev_hi_lim\"\"\"\n",
    "variables_eliminar=np.array(variables_eliminar.replace(\" \", \"\").split(\"\\n\"))\n",
    "variables_eliminar.shape=(7,4)\n",
    "variables_eliminar=pd.DataFrame(variables_eliminar)\n",
    "variables_eliminar.columns=[\" \"]*4"
   ]
  },
  {
   "cell_type": "markdown",
   "id": "09d5c668",
   "metadata": {},
   "source": [
    "`r kbl(py$variables_eliminar, escape = F, align = \"c\", caption=\"Variables que no se incluyen\") %>%  kable_classic_2(\"striped\", full_width = F)`"
   ]
  },
  {
   "cell_type": "markdown",
   "id": "d4cb31c4",
   "metadata": {},
   "source": [
    "Las variables en la tabla no se tienen en cuenta porque son medidas que son proporcionadas por LC, información al pasar el tiempo después del prestamo o son extraidas de un externo, por ende, las variables a considerar como influyentes en el incumplimiento de las finanzas son:\n",
    "\n"
   ]
  },
  {
   "cell_type": "code",
   "execution_count": 10,
   "id": "81f3599e",
   "metadata": {
    "lines_to_next_cell": 0,
    "tags": [
     "remove_cell"
    ]
   },
   "outputs": [],
   "source": [
    "variables=\"\"\"__loan_amnt__:El monto indicado del préstamo solicitado por el prestatario. Si en algún momento, el departamento de crédito reduce el monto del préstamo, entonces se reflejará en este valor.\n",
    "\n",
    "__funded_amnt__: El monto total comprometido con ese préstamo en ese momento.\n",
    "\n",
    "__term__: El número de pagos del préstamo. Los valores son en meses y pueden ser 36 o 60.\n",
    "\n",
    "__int_rate__: tasa de interés del préstamo.\n",
    "\n",
    "__installment__:cuota El pago mensual adeudado por el prestatario si el préstamo se origina.\n",
    "\n",
    "__emp_length__: años trabajo\n",
    "\n",
    "__home_ownership__: El estado de propiedad de la vivienda proporcionado por el prestatario durante el registro. Nuestros valores son: ALQUILER, PROPIEDAD, HIPOTECA, OTRO.\n",
    "\n",
    "__annual_inc__: Los ingresos anuales autoinformados proporcionados por el prestatario durante el registro.\n",
    "\n",
    "__pymnt_plan__: indica si se a establecido un plan de pago.\n",
    "\n",
    "__earliest_cr_line__: El mes en que se abrió la primera línea de crédito reportada del prestatario.\n",
    "\n",
    "__open_acc__: El número de líneas de crédito abiertas en el archivo de crédito del prestatario.\n",
    "\n",
    "__pub_rec__: numero de derogatory public records.\n",
    "\n",
    "__initial_list_status__: El estado inicial de listado del préstamo. Los valores posibles son – W, F\n",
    "\n",
    "__acc_now_delinq__:El número de cuentas en las que el prestatario está ahora en mora.\n",
    "\n",
    "__purpose__: Razón por la que se hace el prestamo.\n",
    "\n",
    "__tot_cur_bal__:Saldo corriente total de todas las cuentas\n",
    "\"\"\".split(\"\\n\")\n",
    "#.replace(\"__\",\"\")\n",
    "variables=pd.Series(variables)\n",
    "variables_= variables[~(variables==\"\")].apply(lambda x: x.split(\":\")[0])\n",
    "descripcion_=variables[~(variables==\"\")].apply(lambda x: x.split(\":\")[1])\n",
    "result=pd.DataFrame({\"Variables\": variables_, \"Descripción\":descripcion_ })"
   ]
  },
  {
   "cell_type": "markdown",
   "id": "0ae3f2cb",
   "metadata": {},
   "source": []
  },
  {
   "cell_type": "markdown",
   "id": "613b3456",
   "metadata": {},
   "source": [
    "`r kbl(py$result, escape = F, align = \"l\", caption=\"Covariables candidatas\",row.names=F) %>%  kable_classic_2(\"striped\", full_width = F)`\n",
    "\n",
    "En esta tabla se tienen las posibles variables para el modelo, con __good_status__ y __target_time__.\n"
   ]
  },
  {
   "cell_type": "code",
   "execution_count": 11,
   "id": "eefd6305",
   "metadata": {
    "results": "asis"
   },
   "outputs": [],
   "source": [
    "variables_=pd.Series(variables_).apply(lambda x: x.replace(\"__\",\"\" ))\n",
    "df[\"month_earliest_cr_line\"]=((df.earliest_cr_line - df.issue_d)/np.timedelta64(1, 'M'))\n",
    "df=df[ [*variables_, \"good_status\",\"target_time\",\"month_earliest_cr_line\" ]] \n",
    "df=df[~df.isna().any(axis=1)]\n",
    "result=pd.DataFrame({\"\":[\"Filas\", \"Columnas\"] ,\"Cantidad\":df.shape})\n",
    "#print_table(result, \"Dimensiones\")"
   ]
  },
  {
   "cell_type": "markdown",
   "id": "6c85de64",
   "metadata": {},
   "source": [
    "`r kbl(py$result, escape = F, align = \"l\", caption=\"Dimensión de datos\") %>%  kable_classic_2(\"striped\", full_width = F)`\n",
    "\n",
    "Como resultado para el modelo se usara un data frame con estas dimesiones.\n",
    "\n",
    "# Analisis Descriptivo\n",
    "\n",
    "¿Cuál es la distribución de __good_estatus__?\n"
   ]
  },
  {
   "cell_type": "code",
   "execution_count": 12,
   "id": "116fc0a1",
   "metadata": {
    "lines_to_next_cell": 2
   },
   "outputs": [],
   "source": [
    "tabla_1=df.good_status.value_counts(normalize=True)*100\n",
    "tabla_2=df.good_status.value_counts()\n",
    "tabla_3=df.target_time.value_counts(normalize=True)*100\n",
    "tabla_4=df.target_time.value_counts()\n",
    "table_final=pd.DataFrame({\"good status\":[1,0],\"Frecuencia\":tabla_2, \n",
    "                          \"Frec %\":tabla_1, \"target time\":[0,1],\n",
    "                         \"Frecuencia \":tabla_4, \"Frec % \":tabla_3 } )"
   ]
  },
  {
   "cell_type": "markdown",
   "id": "a70e0492",
   "metadata": {},
   "source": [
    "`r kbl(py$table_final, escape = F, align = \"l\", caption=\"Distribución global\",row.names=F,digits =2) %>%  kable_classic_2(\"striped\", full_width = F)`\n",
    "\n"
   ]
  },
  {
   "cell_type": "markdown",
   "id": "3cb228f7",
   "metadata": {},
   "source": [
    "La variable __acc_now_delinq__ se puede transformar en 1 si tiene al menos una cuenta en mora, 0 sino tiene cunetas en mora. También la variable __pub_rec__ se transforma 1 si tiene al menos un derogatory public records, 0 sino. Se tomo la decisión ya que son variables conteos donde no parece ser necesario. Como esta es la fecha en que se hizo su primer prestamo __earliest_cr_line__, se debe calcular los meses que han pasado desde que solicito el prestamo __month_earliest_cr_line__\n"
   ]
  },
  {
   "cell_type": "code",
   "execution_count": 13,
   "id": "e3a3a8cd",
   "metadata": {
    "lines_to_next_cell": 2
   },
   "outputs": [],
   "source": [
    "df=df.drop(labels=\"earliest_cr_line\",axis=1)\n",
    "df[\"acc_now_delinq\"]=np.where(df[\"acc_now_delinq\"]>0, 1,0)\n",
    "df[\"pub_rec\"]=np.where(df[\"pub_rec\"]>0,1,0)"
   ]
  },
  {
   "cell_type": "code",
   "execution_count": 14,
   "id": "dabef49d",
   "metadata": {
    "lines_to_next_cell": 2
   },
   "outputs": [],
   "source": [
    "df_temp=df.copy()\n",
    "df_temp[\"acc_now_delinq\"]=df_temp[\"acc_now_delinq\"].astype(\"str\")\n",
    "df_temp[\"target_time\"]=df_temp[\"target_time\"].astype(\"str\")\n",
    "df_temp[\"pub_rec\"]=df_temp[\"pub_rec\"].astype(\"str\")\n",
    "X=df_temp.drop(labels=\"good_status\",axis=1)\n",
    "Y=df_temp[\"good_status\"]\n",
    "\n",
    "X_train_cat = X.select_dtypes(include = 'object').copy()\n",
    "X_train_num = X.select_dtypes(include = 'number').copy()\n",
    "# define an empty dictionary to store chi-squared test results\n",
    "chi2_check = {}\n",
    "\n",
    "# loop over each column in the training set to calculate chi-statistic with the target variable\n",
    "for column in X_train_cat:\n",
    "    chi, p, dof, ex = chi2_contingency(pd.crosstab(Y, X_train_cat[column]))\n",
    "    chi2_check.setdefault('Feature',[]).append(column)\n",
    "    chi2_check.setdefault('p-value',[]).append(round(p, 10))\n",
    "\n",
    "# convert the dictionary to a DF\n",
    "chi2_result = pd.DataFrame(data = chi2_check)\n",
    "chi2_result.sort_values(by = ['p-value'], ascending = True, ignore_index = True, inplace = True)\n"
   ]
  },
  {
   "cell_type": "markdown",
   "id": "f4241569",
   "metadata": {},
   "source": [
    "`r kbl(py$chi2_result, escape = F, align = \"c\", caption=\"Prueba \",row.names=F,digits =2) %>%  kable_classic_2(\"striped\", full_width = F)`\n",
    "\n",
    "Se realiza pruebas $\\chi^2$ para las variables categoricas en contraste con la variable __good_status__ y se observa 8 variables con un p-valor pequeño, esto significa que estas variables pueden influir en el incumplimiento de las finanzas. Se excluye __pymnt_plan__ debido a un p-valor > 0.05.\n"
   ]
  },
  {
   "cell_type": "code",
   "execution_count": 15,
   "id": "758a6631",
   "metadata": {
    "fig.cap": "Correlación entre variables númericas.",
    "lines_to_next_cell": 2
   },
   "outputs": [
    {
     "data": {
      "text/plain": [
       "<AxesSubplot:>"
      ]
     },
     "execution_count": 15,
     "metadata": {},
     "output_type": "execute_result"
    },
    {
     "data": {
      "image/png": "[encoded data removed]",
      "text/plain": [
       "<Figure size 432x288 with 2 Axes>"
      ]
     },
     "metadata": {
      "needs_background": "light"
     },
     "output_type": "display_data"
    }
   ],
   "source": [
    "corrmat = X_train_num.corr()\n",
    "sns.heatmap(corrmat)"
   ]
  },
  {
   "cell_type": "markdown",
   "id": "6543e64f",
   "metadata": {},
   "source": [
    "En la figura 1 se observa que hay 3 variables con una alta correlación entre si ($\\approx$ 1) que son: __loan_amnt__, __funded_amnt__, __installment__ y según la table - 5 se opta por __loan_amnt__ por ser el prestamo definitivo que dio LC."
   ]
  },
  {
   "cell_type": "code",
   "execution_count": 20,
   "id": "5b44c48e",
   "metadata": {
    "lines_to_next_cell": 0
   },
   "outputs": [
    {
     "data": {
      "text/plain": [
       "<AxesSubplot:xlabel='good_status', ylabel='month_earliest_cr_line'>"
      ]
     },
     "execution_count": 20,
     "metadata": {},
     "output_type": "execute_result"
    },
    {
     "data": {
      "image/png": "[encoded data removed]",
      "text/plain": [
       "<Figure size 1080x1080 with 6 Axes>"
      ]
     },
     "metadata": {
      "needs_background": "light"
     },
     "output_type": "display_data"
    }
   ],
   "source": [
    "vars_=['loan_amnt',  'int_rate', 'annual_inc',\n",
    "       'open_acc', 'tot_cur_bal',\"month_earliest_cr_line\"]\n",
    "fig, axs = plt.subplots(ncols=3,nrows=2,figsize=(15, 15))\n",
    "sns.boxplot(data=df, x=\"good_status\", y=vars_[0], ax=axs[0, 0],showfliers = False)\n",
    "sns.boxplot(data=df, x=\"good_status\", y=vars_[1], ax=axs[0, 1],showfliers = False)\n",
    "sns.boxplot(data=df, x=\"good_status\", y=vars_[2], ax=axs[0, 2],showfliers = False)\n",
    "sns.boxplot(data=df, x=\"good_status\", y=vars_[3], ax=axs[1, 1],showfliers = False)\n",
    "sns.boxplot(data=df, x=\"good_status\", y=vars_[4], ax=axs[1, 2],showfliers = False)\n",
    "sns.boxplot(data=df, x=\"good_status\", y=vars_[5], ax=axs[1, 0],showfliers = False)"
   ]
  },
  {
   "cell_type": "markdown",
   "id": "1776503b-620b-4420-a188-be04411f89ce",
   "metadata": {},
   "source": [
    "En la figura se observa que las variables con una tendencia de influir en __good_status__ son __int_rate__, __annual_inc__ pues aunque no se observa gran diferencia, parece existir una influencia.\n",
    "\n",
    "Las variables a usar para crear el modelo son: "
   ]
  },
  {
   "cell_type": "code",
   "execution_count": 30,
   "id": "07c725d3-7f34-43d7-8f18-282d953afc7e",
   "metadata": {},
   "outputs": [],
   "source": [
    "variables_final=list(chi2_result[\"Feature\"].iloc[0:7])\n",
    "variables_final=[*variables_final,*[\"int_rate\", \"annual_inc\",\"good_status\" ]]"
   ]
  },
  {
   "cell_type": "code",
   "execution_count": 34,
   "id": "0482a90e-8a63-44a8-abf6-54404e53eab1",
   "metadata": {},
   "outputs": [
    {
     "data": {
      "text/plain": [
       "['term',\n",
       " 'emp_length',\n",
       " 'home_ownership',\n",
       " 'initial_list_status',\n",
       " 'purpose',\n",
       " 'target_time',\n",
       " 'pub_rec',\n",
       " 'int_rate',\n",
       " 'annual_inc',\n",
       " 'good_status']"
      ]
     },
     "execution_count": 34,
     "metadata": {},
     "output_type": "execute_result"
    }
   ],
   "source": [
    "variables_final"
   ]
  },
  {
   "cell_type": "markdown",
   "id": "8041ea9d-9d49-4642-9e02-4c43177529a0",
   "metadata": {},
   "source": [
    "# Modelos\n",
    "\n",
    "Se plantean diferentes modelos aplicando validación cruzada.\n",
    "\n",
    "## Partición de datos"
   ]
  },
  {
   "cell_type": "code",
   "execution_count": 40,
   "id": "3a74f8b5-7581-4ab2-94af-0cc989090544",
   "metadata": {},
   "outputs": [],
   "source": [
    "df_modelo=df[variables_final].copy()\n",
    "X = df_modelo.drop('good_status', axis = 1)\n",
    "y = df_modelo['good_status']\n",
    "X_train, X_test, y_train, y_test = train_test_split(X, y, test_size = 0.2, random_state = 42, stratify = y)\n",
    "X_train, X_test = X_train.copy(), X_test.copy()\n",
    "X_train=dummy_creation(X_train, [\"term\",\"emp_length\",\"home_ownership\",\"initial_list_status\", \"purpose\" ])\n",
    "X_test=dummy_creation(X_test, [\"term\",\"emp_length\",\"home_ownership\",\"initial_list_status\", \"purpose\" ])"
   ]
  },
  {
   "cell_type": "code",
   "execution_count": 41,
   "id": "77b446c5-68ca-416a-880f-1511ba371d44",
   "metadata": {},
   "outputs": [
    {
     "data": {
      "text/html": [
       "<div>\n",
       "<style scoped>\n",
       "    .dataframe tbody tr th:only-of-type {\n",
       "        vertical-align: middle;\n",
       "    }\n",
       "\n",
       "    .dataframe tbody tr th {\n",
       "        vertical-align: top;\n",
       "    }\n",
       "\n",
       "    .dataframe thead th {\n",
       "        text-align: right;\n",
       "    }\n",
       "</style>\n",
       "<table border=\"1\" class=\"dataframe\">\n",
       "  <thead>\n",
       "    <tr style=\"text-align: right;\">\n",
       "      <th></th>\n",
       "      <th>target_time</th>\n",
       "      <th>pub_rec</th>\n",
       "      <th>int_rate</th>\n",
       "      <th>annual_inc</th>\n",
       "      <th>term: 36 months</th>\n",
       "      <th>term: 60 months</th>\n",
       "      <th>emp_length:1 year</th>\n",
       "      <th>emp_length:10+ years</th>\n",
       "      <th>emp_length:2 years</th>\n",
       "      <th>emp_length:3 years</th>\n",
       "      <th>...</th>\n",
       "      <th>purpose:home_improvement</th>\n",
       "      <th>purpose:house</th>\n",
       "      <th>purpose:major_purchase</th>\n",
       "      <th>purpose:medical</th>\n",
       "      <th>purpose:moving</th>\n",
       "      <th>purpose:other</th>\n",
       "      <th>purpose:renewable_energy</th>\n",
       "      <th>purpose:small_business</th>\n",
       "      <th>purpose:vacation</th>\n",
       "      <th>purpose:wedding</th>\n",
       "    </tr>\n",
       "  </thead>\n",
       "  <tbody>\n",
       "    <tr>\n",
       "      <th>101320</th>\n",
       "      <td>0</td>\n",
       "      <td>0</td>\n",
       "      <td>15.88</td>\n",
       "      <td>87500.0</td>\n",
       "      <td>0</td>\n",
       "      <td>1</td>\n",
       "      <td>0</td>\n",
       "      <td>0</td>\n",
       "      <td>1</td>\n",
       "      <td>0</td>\n",
       "      <td>...</td>\n",
       "      <td>0</td>\n",
       "      <td>0</td>\n",
       "      <td>0</td>\n",
       "      <td>0</td>\n",
       "      <td>0</td>\n",
       "      <td>0</td>\n",
       "      <td>0</td>\n",
       "      <td>0</td>\n",
       "      <td>0</td>\n",
       "      <td>0</td>\n",
       "    </tr>\n",
       "    <tr>\n",
       "      <th>45482</th>\n",
       "      <td>0</td>\n",
       "      <td>0</td>\n",
       "      <td>12.85</td>\n",
       "      <td>49000.0</td>\n",
       "      <td>1</td>\n",
       "      <td>0</td>\n",
       "      <td>0</td>\n",
       "      <td>1</td>\n",
       "      <td>0</td>\n",
       "      <td>0</td>\n",
       "      <td>...</td>\n",
       "      <td>1</td>\n",
       "      <td>0</td>\n",
       "      <td>0</td>\n",
       "      <td>0</td>\n",
       "      <td>0</td>\n",
       "      <td>0</td>\n",
       "      <td>0</td>\n",
       "      <td>0</td>\n",
       "      <td>0</td>\n",
       "      <td>0</td>\n",
       "    </tr>\n",
       "    <tr>\n",
       "      <th>377339</th>\n",
       "      <td>0</td>\n",
       "      <td>0</td>\n",
       "      <td>13.35</td>\n",
       "      <td>25001.0</td>\n",
       "      <td>0</td>\n",
       "      <td>1</td>\n",
       "      <td>0</td>\n",
       "      <td>0</td>\n",
       "      <td>0</td>\n",
       "      <td>0</td>\n",
       "      <td>...</td>\n",
       "      <td>0</td>\n",
       "      <td>0</td>\n",
       "      <td>0</td>\n",
       "      <td>0</td>\n",
       "      <td>0</td>\n",
       "      <td>0</td>\n",
       "      <td>0</td>\n",
       "      <td>0</td>\n",
       "      <td>0</td>\n",
       "      <td>0</td>\n",
       "    </tr>\n",
       "    <tr>\n",
       "      <th>122763</th>\n",
       "      <td>0</td>\n",
       "      <td>0</td>\n",
       "      <td>11.55</td>\n",
       "      <td>35000.0</td>\n",
       "      <td>1</td>\n",
       "      <td>0</td>\n",
       "      <td>0</td>\n",
       "      <td>0</td>\n",
       "      <td>1</td>\n",
       "      <td>0</td>\n",
       "      <td>...</td>\n",
       "      <td>0</td>\n",
       "      <td>0</td>\n",
       "      <td>0</td>\n",
       "      <td>0</td>\n",
       "      <td>0</td>\n",
       "      <td>0</td>\n",
       "      <td>0</td>\n",
       "      <td>0</td>\n",
       "      <td>0</td>\n",
       "      <td>0</td>\n",
       "    </tr>\n",
       "    <tr>\n",
       "      <th>184151</th>\n",
       "      <td>0</td>\n",
       "      <td>0</td>\n",
       "      <td>13.11</td>\n",
       "      <td>79152.0</td>\n",
       "      <td>1</td>\n",
       "      <td>0</td>\n",
       "      <td>0</td>\n",
       "      <td>0</td>\n",
       "      <td>0</td>\n",
       "      <td>0</td>\n",
       "      <td>...</td>\n",
       "      <td>0</td>\n",
       "      <td>0</td>\n",
       "      <td>0</td>\n",
       "      <td>0</td>\n",
       "      <td>0</td>\n",
       "      <td>0</td>\n",
       "      <td>0</td>\n",
       "      <td>0</td>\n",
       "      <td>0</td>\n",
       "      <td>1</td>\n",
       "    </tr>\n",
       "    <tr>\n",
       "      <th>...</th>\n",
       "      <td>...</td>\n",
       "      <td>...</td>\n",
       "      <td>...</td>\n",
       "      <td>...</td>\n",
       "      <td>...</td>\n",
       "      <td>...</td>\n",
       "      <td>...</td>\n",
       "      <td>...</td>\n",
       "      <td>...</td>\n",
       "      <td>...</td>\n",
       "      <td>...</td>\n",
       "      <td>...</td>\n",
       "      <td>...</td>\n",
       "      <td>...</td>\n",
       "      <td>...</td>\n",
       "      <td>...</td>\n",
       "      <td>...</td>\n",
       "      <td>...</td>\n",
       "      <td>...</td>\n",
       "      <td>...</td>\n",
       "      <td>...</td>\n",
       "    </tr>\n",
       "    <tr>\n",
       "      <th>460396</th>\n",
       "      <td>0</td>\n",
       "      <td>0</td>\n",
       "      <td>12.85</td>\n",
       "      <td>115000.0</td>\n",
       "      <td>0</td>\n",
       "      <td>1</td>\n",
       "      <td>0</td>\n",
       "      <td>0</td>\n",
       "      <td>0</td>\n",
       "      <td>1</td>\n",
       "      <td>...</td>\n",
       "      <td>0</td>\n",
       "      <td>0</td>\n",
       "      <td>0</td>\n",
       "      <td>0</td>\n",
       "      <td>0</td>\n",
       "      <td>0</td>\n",
       "      <td>0</td>\n",
       "      <td>0</td>\n",
       "      <td>0</td>\n",
       "      <td>0</td>\n",
       "    </tr>\n",
       "    <tr>\n",
       "      <th>72197</th>\n",
       "      <td>0</td>\n",
       "      <td>0</td>\n",
       "      <td>10.99</td>\n",
       "      <td>130000.0</td>\n",
       "      <td>1</td>\n",
       "      <td>0</td>\n",
       "      <td>0</td>\n",
       "      <td>1</td>\n",
       "      <td>0</td>\n",
       "      <td>0</td>\n",
       "      <td>...</td>\n",
       "      <td>0</td>\n",
       "      <td>0</td>\n",
       "      <td>0</td>\n",
       "      <td>0</td>\n",
       "      <td>0</td>\n",
       "      <td>0</td>\n",
       "      <td>0</td>\n",
       "      <td>0</td>\n",
       "      <td>0</td>\n",
       "      <td>0</td>\n",
       "    </tr>\n",
       "    <tr>\n",
       "      <th>99033</th>\n",
       "      <td>1</td>\n",
       "      <td>0</td>\n",
       "      <td>14.33</td>\n",
       "      <td>76000.0</td>\n",
       "      <td>0</td>\n",
       "      <td>1</td>\n",
       "      <td>0</td>\n",
       "      <td>0</td>\n",
       "      <td>0</td>\n",
       "      <td>0</td>\n",
       "      <td>...</td>\n",
       "      <td>0</td>\n",
       "      <td>0</td>\n",
       "      <td>0</td>\n",
       "      <td>0</td>\n",
       "      <td>0</td>\n",
       "      <td>0</td>\n",
       "      <td>0</td>\n",
       "      <td>0</td>\n",
       "      <td>0</td>\n",
       "      <td>0</td>\n",
       "    </tr>\n",
       "    <tr>\n",
       "      <th>326212</th>\n",
       "      <td>0</td>\n",
       "      <td>0</td>\n",
       "      <td>10.99</td>\n",
       "      <td>75000.0</td>\n",
       "      <td>1</td>\n",
       "      <td>0</td>\n",
       "      <td>0</td>\n",
       "      <td>0</td>\n",
       "      <td>0</td>\n",
       "      <td>0</td>\n",
       "      <td>...</td>\n",
       "      <td>0</td>\n",
       "      <td>0</td>\n",
       "      <td>0</td>\n",
       "      <td>0</td>\n",
       "      <td>0</td>\n",
       "      <td>0</td>\n",
       "      <td>0</td>\n",
       "      <td>0</td>\n",
       "      <td>0</td>\n",
       "      <td>0</td>\n",
       "    </tr>\n",
       "    <tr>\n",
       "      <th>113251</th>\n",
       "      <td>1</td>\n",
       "      <td>0</td>\n",
       "      <td>8.90</td>\n",
       "      <td>60000.0</td>\n",
       "      <td>1</td>\n",
       "      <td>0</td>\n",
       "      <td>0</td>\n",
       "      <td>1</td>\n",
       "      <td>0</td>\n",
       "      <td>0</td>\n",
       "      <td>...</td>\n",
       "      <td>0</td>\n",
       "      <td>0</td>\n",
       "      <td>0</td>\n",
       "      <td>0</td>\n",
       "      <td>0</td>\n",
       "      <td>0</td>\n",
       "      <td>0</td>\n",
       "      <td>0</td>\n",
       "      <td>0</td>\n",
       "      <td>0</td>\n",
       "    </tr>\n",
       "  </tbody>\n",
       "</table>\n",
       "<p>301649 rows × 38 columns</p>\n",
       "</div>"
      ],
      "text/plain": [
       "        target_time  pub_rec  int_rate  annual_inc  term: 36 months  \\\n",
       "101320            0        0     15.88     87500.0                0   \n",
       "45482             0        0     12.85     49000.0                1   \n",
       "377339            0        0     13.35     25001.0                0   \n",
       "122763            0        0     11.55     35000.0                1   \n",
       "184151            0        0     13.11     79152.0                1   \n",
       "...             ...      ...       ...         ...              ...   \n",
       "460396            0        0     12.85    115000.0                0   \n",
       "72197             0        0     10.99    130000.0                1   \n",
       "99033             1        0     14.33     76000.0                0   \n",
       "326212            0        0     10.99     75000.0                1   \n",
       "113251            1        0      8.90     60000.0                1   \n",
       "\n",
       "        term: 60 months  emp_length:1 year  emp_length:10+ years  \\\n",
       "101320                1                  0                     0   \n",
       "45482                 0                  0                     1   \n",
       "377339                1                  0                     0   \n",
       "122763                0                  0                     0   \n",
       "184151                0                  0                     0   \n",
       "...                 ...                ...                   ...   \n",
       "460396                1                  0                     0   \n",
       "72197                 0                  0                     1   \n",
       "99033                 1                  0                     0   \n",
       "326212                0                  0                     0   \n",
       "113251                0                  0                     1   \n",
       "\n",
       "        emp_length:2 years  emp_length:3 years  ...  purpose:home_improvement  \\\n",
       "101320                   1                   0  ...                         0   \n",
       "45482                    0                   0  ...                         1   \n",
       "377339                   0                   0  ...                         0   \n",
       "122763                   1                   0  ...                         0   \n",
       "184151                   0                   0  ...                         0   \n",
       "...                    ...                 ...  ...                       ...   \n",
       "460396                   0                   1  ...                         0   \n",
       "72197                    0                   0  ...                         0   \n",
       "99033                    0                   0  ...                         0   \n",
       "326212                   0                   0  ...                         0   \n",
       "113251                   0                   0  ...                         0   \n",
       "\n",
       "        purpose:house  purpose:major_purchase  purpose:medical  \\\n",
       "101320              0                       0                0   \n",
       "45482               0                       0                0   \n",
       "377339              0                       0                0   \n",
       "122763              0                       0                0   \n",
       "184151              0                       0                0   \n",
       "...               ...                     ...              ...   \n",
       "460396              0                       0                0   \n",
       "72197               0                       0                0   \n",
       "99033               0                       0                0   \n",
       "326212              0                       0                0   \n",
       "113251              0                       0                0   \n",
       "\n",
       "        purpose:moving  purpose:other  purpose:renewable_energy  \\\n",
       "101320               0              0                         0   \n",
       "45482                0              0                         0   \n",
       "377339               0              0                         0   \n",
       "122763               0              0                         0   \n",
       "184151               0              0                         0   \n",
       "...                ...            ...                       ...   \n",
       "460396               0              0                         0   \n",
       "72197                0              0                         0   \n",
       "99033                0              0                         0   \n",
       "326212               0              0                         0   \n",
       "113251               0              0                         0   \n",
       "\n",
       "        purpose:small_business  purpose:vacation  purpose:wedding  \n",
       "101320                       0                 0                0  \n",
       "45482                        0                 0                0  \n",
       "377339                       0                 0                0  \n",
       "122763                       0                 0                0  \n",
       "184151                       0                 0                1  \n",
       "...                        ...               ...              ...  \n",
       "460396                       0                 0                0  \n",
       "72197                        0                 0                0  \n",
       "99033                        0                 0                0  \n",
       "326212                       0                 0                0  \n",
       "113251                       0                 0                0  \n",
       "\n",
       "[301649 rows x 38 columns]"
      ]
     },
     "execution_count": 41,
     "metadata": {},
     "output_type": "execute_result"
    }
   ],
   "source": [
    "X_train"
   ]
  },
  {
   "cell_type": "markdown",
   "id": "6a5a99e9-b88c-4fbf-baa2-ffa44d549ba7",
   "metadata": {},
   "source": [
    "## Modelo K-nn"
   ]
  },
  {
   "cell_type": "code",
   "execution_count": 45,
   "id": "a06207b8-39b0-47c4-8718-921d27ed6751",
   "metadata": {
    "tags": []
   },
   "outputs": [
    {
     "ename": "KeyboardInterrupt",
     "evalue": "",
     "output_type": "error",
     "traceback": [
      "\u001b[1;31m---------------------------------------------------------------------------\u001b[0m",
      "\u001b[1;31mKeyboardInterrupt\u001b[0m                         Traceback (most recent call last)",
      "Input \u001b[1;32mIn [45]\u001b[0m, in \u001b[0;36m<cell line: 3>\u001b[1;34m()\u001b[0m\n\u001b[0;32m      4\u001b[0m neigh \u001b[38;5;241m=\u001b[39m KNeighborsClassifier(n_neighbors\u001b[38;5;241m=\u001b[39mi)\n\u001b[0;32m      5\u001b[0m neigh\u001b[38;5;241m.\u001b[39mfit(X_train, y_train)\n\u001b[1;32m----> 6\u001b[0m score_train\u001b[38;5;241m.\u001b[39mappend(accuracy_score(y_train, \u001b[43mneigh\u001b[49m\u001b[38;5;241;43m.\u001b[39;49m\u001b[43mpredict\u001b[49m\u001b[43m(\u001b[49m\u001b[43mX_train\u001b[49m\u001b[43m)\u001b[49m))\n\u001b[0;32m      7\u001b[0m score_test\u001b[38;5;241m.\u001b[39mappend(accuracy_score(y_test, neigh\u001b[38;5;241m.\u001b[39mpredict(X_test)))\n",
      "File \u001b[1;32mC:\\ProgramData\\Anaconda3\\lib\\site-packages\\sklearn\\neighbors\\_classification.py:214\u001b[0m, in \u001b[0;36mKNeighborsClassifier.predict\u001b[1;34m(self, X)\u001b[0m\n\u001b[0;32m    200\u001b[0m \u001b[38;5;28;01mdef\u001b[39;00m \u001b[38;5;21mpredict\u001b[39m(\u001b[38;5;28mself\u001b[39m, X):\n\u001b[0;32m    201\u001b[0m     \u001b[38;5;124;03m\"\"\"Predict the class labels for the provided data.\u001b[39;00m\n\u001b[0;32m    202\u001b[0m \n\u001b[0;32m    203\u001b[0m \u001b[38;5;124;03m    Parameters\u001b[39;00m\n\u001b[1;32m   (...)\u001b[0m\n\u001b[0;32m    212\u001b[0m \u001b[38;5;124;03m        Class labels for each data sample.\u001b[39;00m\n\u001b[0;32m    213\u001b[0m \u001b[38;5;124;03m    \"\"\"\u001b[39;00m\n\u001b[1;32m--> 214\u001b[0m     neigh_dist, neigh_ind \u001b[38;5;241m=\u001b[39m \u001b[38;5;28;43mself\u001b[39;49m\u001b[38;5;241;43m.\u001b[39;49m\u001b[43mkneighbors\u001b[49m\u001b[43m(\u001b[49m\u001b[43mX\u001b[49m\u001b[43m)\u001b[49m\n\u001b[0;32m    215\u001b[0m     classes_ \u001b[38;5;241m=\u001b[39m \u001b[38;5;28mself\u001b[39m\u001b[38;5;241m.\u001b[39mclasses_\n\u001b[0;32m    216\u001b[0m     _y \u001b[38;5;241m=\u001b[39m \u001b[38;5;28mself\u001b[39m\u001b[38;5;241m.\u001b[39m_y\n",
      "File \u001b[1;32mC:\\ProgramData\\Anaconda3\\lib\\site-packages\\sklearn\\neighbors\\_base.py:752\u001b[0m, in \u001b[0;36mKNeighborsMixin.kneighbors\u001b[1;34m(self, X, n_neighbors, return_distance)\u001b[0m\n\u001b[0;32m    749\u001b[0m     \u001b[38;5;28;01melse\u001b[39;00m:\n\u001b[0;32m    750\u001b[0m         kwds \u001b[38;5;241m=\u001b[39m \u001b[38;5;28mself\u001b[39m\u001b[38;5;241m.\u001b[39meffective_metric_params_\n\u001b[1;32m--> 752\u001b[0m     chunked_results \u001b[38;5;241m=\u001b[39m \u001b[38;5;28;43mlist\u001b[39;49m\u001b[43m(\u001b[49m\n\u001b[0;32m    753\u001b[0m \u001b[43m        \u001b[49m\u001b[43mpairwise_distances_chunked\u001b[49m\u001b[43m(\u001b[49m\n\u001b[0;32m    754\u001b[0m \u001b[43m            \u001b[49m\u001b[43mX\u001b[49m\u001b[43m,\u001b[49m\n\u001b[0;32m    755\u001b[0m \u001b[43m            \u001b[49m\u001b[38;5;28;43mself\u001b[39;49m\u001b[38;5;241;43m.\u001b[39;49m\u001b[43m_fit_X\u001b[49m\u001b[43m,\u001b[49m\n\u001b[0;32m    756\u001b[0m \u001b[43m            \u001b[49m\u001b[43mreduce_func\u001b[49m\u001b[38;5;241;43m=\u001b[39;49m\u001b[43mreduce_func\u001b[49m\u001b[43m,\u001b[49m\n\u001b[0;32m    757\u001b[0m \u001b[43m            \u001b[49m\u001b[43mmetric\u001b[49m\u001b[38;5;241;43m=\u001b[39;49m\u001b[38;5;28;43mself\u001b[39;49m\u001b[38;5;241;43m.\u001b[39;49m\u001b[43meffective_metric_\u001b[49m\u001b[43m,\u001b[49m\n\u001b[0;32m    758\u001b[0m \u001b[43m            \u001b[49m\u001b[43mn_jobs\u001b[49m\u001b[38;5;241;43m=\u001b[39;49m\u001b[43mn_jobs\u001b[49m\u001b[43m,\u001b[49m\n\u001b[0;32m    759\u001b[0m \u001b[43m            \u001b[49m\u001b[38;5;241;43m*\u001b[39;49m\u001b[38;5;241;43m*\u001b[39;49m\u001b[43mkwds\u001b[49m\u001b[43m,\u001b[49m\n\u001b[0;32m    760\u001b[0m \u001b[43m        \u001b[49m\u001b[43m)\u001b[49m\n\u001b[0;32m    761\u001b[0m \u001b[43m    \u001b[49m\u001b[43m)\u001b[49m\n\u001b[0;32m    763\u001b[0m \u001b[38;5;28;01melif\u001b[39;00m \u001b[38;5;28mself\u001b[39m\u001b[38;5;241m.\u001b[39m_fit_method \u001b[38;5;129;01min\u001b[39;00m [\u001b[38;5;124m\"\u001b[39m\u001b[38;5;124mball_tree\u001b[39m\u001b[38;5;124m\"\u001b[39m, \u001b[38;5;124m\"\u001b[39m\u001b[38;5;124mkd_tree\u001b[39m\u001b[38;5;124m\"\u001b[39m]:\n\u001b[0;32m    764\u001b[0m     \u001b[38;5;28;01mif\u001b[39;00m issparse(X):\n",
      "File \u001b[1;32mC:\\ProgramData\\Anaconda3\\lib\\site-packages\\sklearn\\metrics\\pairwise.py:1727\u001b[0m, in \u001b[0;36mpairwise_distances_chunked\u001b[1;34m(X, Y, reduce_func, metric, n_jobs, working_memory, **kwds)\u001b[0m\n\u001b[0;32m   1725\u001b[0m     chunk_size \u001b[38;5;241m=\u001b[39m D_chunk\u001b[38;5;241m.\u001b[39mshape[\u001b[38;5;241m0\u001b[39m]\n\u001b[0;32m   1726\u001b[0m     D_chunk \u001b[38;5;241m=\u001b[39m reduce_func(D_chunk, sl\u001b[38;5;241m.\u001b[39mstart)\n\u001b[1;32m-> 1727\u001b[0m     \u001b[43m_check_chunk_size\u001b[49m\u001b[43m(\u001b[49m\u001b[43mD_chunk\u001b[49m\u001b[43m,\u001b[49m\u001b[43m \u001b[49m\u001b[43mchunk_size\u001b[49m\u001b[43m)\u001b[49m\n\u001b[0;32m   1728\u001b[0m \u001b[38;5;28;01myield\u001b[39;00m D_chunk\n",
      "File \u001b[1;32mC:\\ProgramData\\Anaconda3\\lib\\site-packages\\sklearn\\metrics\\pairwise.py:1512\u001b[0m, in \u001b[0;36m_check_chunk_size\u001b[1;34m(reduced, chunk_size)\u001b[0m\n\u001b[0;32m   1479\u001b[0m _VALID_METRICS \u001b[38;5;241m=\u001b[39m [\n\u001b[0;32m   1480\u001b[0m     \u001b[38;5;124m\"\u001b[39m\u001b[38;5;124meuclidean\u001b[39m\u001b[38;5;124m\"\u001b[39m,\n\u001b[0;32m   1481\u001b[0m     \u001b[38;5;124m\"\u001b[39m\u001b[38;5;124ml2\u001b[39m\u001b[38;5;124m\"\u001b[39m,\n\u001b[1;32m   (...)\u001b[0m\n\u001b[0;32m   1506\u001b[0m     \u001b[38;5;124m\"\u001b[39m\u001b[38;5;124mhaversine\u001b[39m\u001b[38;5;124m\"\u001b[39m,\n\u001b[0;32m   1507\u001b[0m ]\n\u001b[0;32m   1509\u001b[0m _NAN_METRICS \u001b[38;5;241m=\u001b[39m [\u001b[38;5;124m\"\u001b[39m\u001b[38;5;124mnan_euclidean\u001b[39m\u001b[38;5;124m\"\u001b[39m]\n\u001b[1;32m-> 1512\u001b[0m \u001b[38;5;28;01mdef\u001b[39;00m \u001b[38;5;21m_check_chunk_size\u001b[39m(reduced, chunk_size):\n\u001b[0;32m   1513\u001b[0m     \u001b[38;5;124;03m\"\"\"Checks chunk is a sequence of expected size or a tuple of same.\"\"\"\u001b[39;00m\n\u001b[0;32m   1514\u001b[0m     \u001b[38;5;28;01mif\u001b[39;00m reduced \u001b[38;5;129;01mis\u001b[39;00m \u001b[38;5;28;01mNone\u001b[39;00m:\n",
      "\u001b[1;31mKeyboardInterrupt\u001b[0m: "
     ]
    }
   ],
   "source": [
    "score_train = []\n",
    "score_test=[]\n",
    "for i in range(1,20):\n",
    "    neigh = KNeighborsClassifier(n_neighbors=i)\n",
    "    neigh.fit(X_train, y_train)\n",
    "    score_train.append(accuracy_score(y_train, neigh.predict(X_train)))\n",
    "    score_test.append(accuracy_score(y_test, neigh.predict(X_test)))\n",
    "    # print(i)"
   ]
  },
  {
   "cell_type": "code",
   "execution_count": null,
   "id": "b0dcc9f6-83fb-4bd0-a220-0b0d383b4742",
   "metadata": {},
   "outputs": [],
   "source": []
  },
  {
   "cell_type": "markdown",
   "id": "7a683a70-88d9-47e2-8883-f299156b5eee",
   "metadata": {},
   "source": [
    "## Modelo logístico "
   ]
  },
  {
   "cell_type": "code",
   "execution_count": null,
   "id": "b86ae0b2-7d38-49c7-b385-66a81cf867b2",
   "metadata": {},
   "outputs": [],
   "source": []
  },
  {
   "cell_type": "code",
   "execution_count": null,
   "id": "791556a1-b488-4f9c-8bc1-b1aca2576fd3",
   "metadata": {},
   "outputs": [],
   "source": []
  },
  {
   "cell_type": "code",
   "execution_count": null,
   "id": "304f2da9-633a-4ceb-9358-f4b754d95968",
   "metadata": {},
   "outputs": [],
   "source": []
  },
  {
   "cell_type": "code",
   "execution_count": null,
   "id": "807d1adf-07f0-4df2-a4ad-c20861da3a11",
   "metadata": {},
   "outputs": [],
   "source": []
  },
  {
   "cell_type": "markdown",
   "id": "e7c5e27a-80fb-46b6-b9ae-644e2cc763b9",
   "metadata": {},
   "source": [
    "de notebook a R markdwon "
   ]
  },
  {
   "cell_type": "code",
   "execution_count": 47,
   "id": "e38d9045-85c4-4395-af69-3a627536920d",
   "metadata": {},
   "outputs": [
    {
     "name": "stdout",
     "output_type": "stream",
     "text": [
      "[jupytext] Reading informe_prueba.ipynb in format ipynb\n",
      "[jupytext] Writing informe_prueba.Rmd (destination file replaced)\n"
     ]
    }
   ],
   "source": [
    "# import jupytext\n",
    "# !jupytext --to rmarkdown informe_prueba.ipynb"
   ]
  }
 ],
 "metadata": {
  "jupytext": {
   "cell_metadata_filter": "echo,name,results,tags,fig.cap,warning,language,message,-all",
   "main_language": "python",
   "notebook_metadata_filter": "-all"
  },
  "kernelspec": {
   "display_name": "Python 3 (ipykernel)",
   "language": "python",
   "name": "python3"
  },
  "language_info": {
   "codemirror_mode": {
    "name": "ipython",
    "version": 3
   },
   "file_extension": ".py",
   "mimetype": "text/x-python",
   "name": "python",
   "nbconvert_exporter": "python",
   "pygments_lexer": "ipython3",
   "version": "3.9.12"
  }
 },
 "nbformat": 4,
 "nbformat_minor": 5
}
