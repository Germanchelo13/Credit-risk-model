{
 "cells": [
  {
   "cell_type": "raw",
   "id": "a3890540",
   "metadata": {
    "id": "a3890540"
   },
   "source": [
    "---\n",
    "title: \"informe\"\n",
    "author: \"Germán alonso\"\n",
    "date: \"2022-10-10\"\n",
    "output: \n",
    "  html_document:\n",
    "    toc: true\n",
    "    toc_depth: 3\n",
    "    toc_float: true\n",
    "    code_folding: hide\n",
    "    theme: paper\n",
    "\n",
    "    fig_width: 8\n",
    "    fig_height: 8\n",
    "    fig_caption: true\n",
    "---"
   ]
  },
  {
   "cell_type": "code",
   "execution_count": null,
   "id": "2b840a0a",
   "metadata": {
    "echo": false,
    "id": "2b840a0a",
    "language": "css",
    "outputId": "ccdc6d33-72a4-46a8-c04f-f82ca04b5e77"
   },
   "outputs": [
    {
     "ename": "SyntaxError",
     "evalue": "invalid syntax (Temp/ipykernel_22980/350376206.py, line 1)",
     "output_type": "error",
     "traceback": [
      "\u001b[1;36m  File \u001b[1;32m\"C:\\Users\\dgbla\\AppData\\Local\\Temp/ipykernel_22980/350376206.py\"\u001b[1;36m, line \u001b[1;32m1\u001b[0m\n\u001b[1;33m    h1  {\u001b[0m\n\u001b[1;37m        ^\u001b[0m\n\u001b[1;31mSyntaxError\u001b[0m\u001b[1;31m:\u001b[0m invalid syntax\n"
     ]
    }
   ],
   "source": [
    "h1  {\n",
    "  text-align: center;\n",
    "  color: navy;\n",
    "  text-decoration: underline #BE05FA;\n",
    "}\n",
    "h2 {\n",
    "  text-align: center;\n",
    "  color: blue;\n",
    "  text-decoration: underline #BE05FA;\n",
    "}\n",
    "h3 {\n",
    "  text-align: center;\n",
    "  color: blue;\n",
    "  text-decoration: underline #BE05FA;\n",
    "}\n",
    "body {\n",
    "  color: black;\n",
    "  counter-reset:section;\n",
    "}\n",
    "caption {\n",
    "  text-align: center;\n",
    "  color: black;\n",
    "}\n",
    "caption::before {\n",
    "    counter-increment: section;\n",
    "    content:\"Table - \" counter(section);\n",
    "}"
   ]
  },
  {
   "cell_type": "code",
   "execution_count": null,
   "id": "07469673",
   "metadata": {
    "id": "07469673",
    "tags": [
     "remove_cell"
    ]
   },
   "outputs": [],
   "source": [
    "\n",
    "#  background-color: #EEF6F9;"
   ]
  },
  {
   "cell_type": "markdown",
   "id": "772c5b2f",
   "metadata": {
    "id": "772c5b2f"
   },
   "source": [
    "#  Introducción \n"
   ]
  },
  {
   "cell_type": "markdown",
   "id": "b7fb4aba",
   "metadata": {
    "id": "b7fb4aba"
   },
   "source": [
    "El riesgo de crédito se refiere a la probabilidad de pérdida debido a un incumplimiento en los pagos de cualquier tipo de deuda, se cuenta con una base de datos <a href=\"https://drive.google.com/file/d/1xaF743cmUgI5kc76I86AeZDE84SMkMnt/view\"> loan_data_2007_2014.csv </a> con información de usuarios desde 2007 a 2014 disponible en <a href =\"https://www.kaggle.com/datasets/devanshi23/loan-data-2007-2014\"> kaggle </a> su fuente es de <a href=\"https://www.lendingclub.com/\" > lendingclub </a> que es un tipo de prestamista P2P (prestamos digitales) de EE. UU. contiene información reciente de interés como el estado del prestamo y varios factores que pueden influir en si la persona paga o no el prestamo.\n"
   ]
  },
  {
   "cell_type": "markdown",
   "id": "142da6e8",
   "metadata": {
    "id": "142da6e8"
   },
   "source": [
    "# Objetivo\n"
   ]
  },
  {
   "cell_type": "markdown",
   "id": "25a1c958",
   "metadata": {
    "id": "25a1c958"
   },
   "source": [
    "Crear un modelo de probabilidad para el incumplimiento de los pagos con la base de datos, para predecir la probabilidad de que un individuo incumpla sus obligaciones financieras en los siguientes 12 meses desde que se genero el crédito."
   ]
  },
  {
   "cell_type": "code",
   "execution_count": null,
   "id": "85655745",
   "metadata": {
    "id": "85655745",
    "lines_to_next_cell": 0,
    "name": "setup",
    "tags": [
     "remove_cell"
    ]
   },
   "outputs": [],
   "source": [
    "%%R\n",
    "knitr::opts_chunk$set(echo = TRUE)\n",
    "library(reticulate)\n",
    "library(kableExtra)"
   ]
  },
  {
   "cell_type": "markdown",
   "id": "f3b38570",
   "metadata": {
    "id": "f3b38570"
   },
   "source": [
    "Este informe se usara con un lenguaje de programación Python usando las siguientes librerias:\n",
    "\n",
    "-   pandas: Lectura y manejo de data frame.\n",
    "-   numpy: Arreglos matriciales."
   ]
  },
  {
   "cell_type": "code",
   "execution_count": 309,
   "id": "58cc3aca",
   "metadata": {
    "id": "58cc3aca",
    "name": "librerias"
   },
   "outputs": [],
   "source": [
    "import pandas as pd\n",
    "import numpy as np\n",
    "import seaborn as sns\n",
    "from scipy.stats import chi2_contingency\n",
    "from sklearn.neighbors import KNeighborsClassifier\n",
    "from sklearn.metrics import accuracy_score\n",
    "from sklearn.model_selection import train_test_split\n",
    "import matplotlib.pyplot as plt\n",
    "import plotly.express as px\n",
    "from sklearn.naive_bayes import GaussianNB\n",
    "from tqdm import tqdm\n",
    "from plotly.subplots import make_subplots\n",
    "import plotly.graph_objects as go\n",
    "from sklearn.decomposition import PCA\n",
    "from sklearn.linear_model import LogisticRegression"
   ]
  },
  {
   "cell_type": "code",
   "execution_count": 310,
   "id": "71a496b0-744f-41af-9423-ee19985d53af",
   "metadata": {
    "id": "71a496b0-744f-41af-9423-ee19985d53af"
   },
   "outputs": [],
   "source": [
    "mes_name=['Dec', 'Nov', 'Oct', 'Sep', 'Aug', 'Jul', 'Jun', 'May', 'Apr', 'Mar', 'Feb', 'Jan']\n",
    "mes_num=list(pd.Series(list((13-np.arange(1,13)))).astype(\"str\"))\n",
    "def format_replace(string_): # ajust formato de fecha\n",
    "    for i in range(0,12):\n",
    "        string_=str(string_).replace(mes_name[i],mes_num[i] )\n",
    "    return string_\n",
    "def dummy_creation(df_, columns_list): # creacion de variables dummy\n",
    "    df_dummies = []\n",
    "    for col in columns_list:\n",
    "        df_dummies.append(pd.get_dummies(df_[col], prefix = col, prefix_sep = ':',drop_first=True))\n",
    "    df_dummies = pd.concat(df_dummies, axis = 1)\n",
    "    df_ = pd.concat([df_, df_dummies], axis = 1)\n",
    "    df_=df_.drop(labels=columns_list,axis=1)\n",
    "    return df_\n",
    "def plot_barplot(df_temp, x, y,nrow,ncol,fig_temp,show_leg):\n",
    "    df1 = df_temp.groupby(x)[y].value_counts(normalize=True)\n",
    "    df1 = df1.mul(100)\n",
    "    df1 = df1.rename('percent').reset_index()\n",
    "    df_temp=df1[df1[y]==1].copy()\n",
    "    fig_temp.add_trace(go.Bar(x=df_temp[x],\n",
    "                y=df_temp[\"percent\"],\n",
    "                name=\"1\",\n",
    "                marker_color='rgb(55, 83, 109)',\n",
    "                              hovertext =(x,\"percent\" ),\n",
    "                              showlegend=show_leg\n",
    "                ), row=nrow,col=ncol)\n",
    "    df_temp=df1[df1[y]==0].copy()\n",
    "    fig_temp.add_trace(go.Bar(x=df_temp[x],\n",
    "                y=df_temp[\"percent\"],\n",
    "                name=\"0\",\n",
    "                marker_color='rgb(26, 118, 255)',\n",
    "                              hovertext =(x,\"percent\" ),\n",
    "                              showlegend=show_leg\n",
    "                ),row=nrow,col=ncol)\n",
    "    fig_temp.update_yaxes(range = [0,100])\n",
    "    return fig_temp\n"
   ]
  },
  {
   "cell_type": "markdown",
   "id": "3c3337c0",
   "metadata": {
    "id": "3c3337c0"
   },
   "source": [
    "# Depuración"
   ]
  },
  {
   "cell_type": "code",
   "execution_count": 311,
   "id": "606633a7",
   "metadata": {
    "id": "606633a7",
    "lines_to_next_cell": 0,
    "message": false,
    "outputId": "4c8fe7e8-78f9-4db0-8e3a-0b48696d82ca"
   },
   "outputs": [
    {
     "name": "stderr",
     "output_type": "stream",
     "text": [
      "C:\\Users\\German\\AppData\\Local\\Temp\\ipykernel_10916\\1835913424.py:1: DtypeWarning:\n",
      "\n",
      "Columns (19) have mixed types. Specify dtype option on import or set low_memory=False.\n",
      "\n"
     ]
    }
   ],
   "source": [
    "df=pd.read_csv(\"loan_data_2007_2014.csv\")"
   ]
  },
  {
   "cell_type": "code",
   "execution_count": 312,
   "id": "3aa1383f",
   "metadata": {
    "id": "3aa1383f",
    "tags": [
     "remove_cell"
    ]
   },
   "outputs": [],
   "source": [
    "df[ 'issue_d']=df[ 'issue_d'].apply(format_replace)\n",
    "df['last_pymnt_d']=df['last_pymnt_d'].apply(format_replace)\n",
    "df[ 'earliest_cr_line']=df[ 'earliest_cr_line'].apply(format_replace)\n",
    "df['earliest_cr_line']=pd.to_datetime(df['earliest_cr_line'], format = \"%m-%y\")"
   ]
  },
  {
   "cell_type": "markdown",
   "id": "17e45413",
   "metadata": {
    "id": "17e45413"
   },
   "source": [
    "La base de datos <a href=\"https://drive.google.com/file/d/1xaF743cmUgI5kc76I86AeZDE84SMkMnt/view\"> loan_data_2007_2014.csv </a> cuenta con 74 columnas y 466285 registros.\n",
    "\n",
    "-   Las columnas id, member_id, url, title hacen referencia a información de identificación del usuario, que no es de interés para el estudio.\n"
   ]
  },
  {
   "cell_type": "markdown",
   "id": "a19ddce5",
   "metadata": {
    "id": "a19ddce5"
   },
   "source": [
    "## Variables primordiales\n",
    "\n",
    "Para la creación del modelo se tienen:\n",
    "\n",
    "- __issue_d__: El mes en que se financió el préstamo (mes-año).\n",
    "\n",
    "- __last_pymnt_d__: El último mes de pago fue recibido."
   ]
  },
  {
   "cell_type": "markdown",
   "id": "16a9a707",
   "metadata": {
    "id": "16a9a707"
   },
   "source": [
    "- __loan_satus__: Esta sera la variable objetivo, cuenta con 9 categorías que clasifican el ultimo estado registrado."
   ]
  },
  {
   "cell_type": "markdown",
   "id": "6e71d3b7",
   "metadata": {
    "id": "6e71d3b7"
   },
   "source": [
    "## Creación de variables\n",
    "\n",
    "Como el objetivo es crear un modelo para predecir si al cabo de 12 meses que se origina el credíto (issue_d) el usuario incumple sus obligaciones financieras, luego de analizar las variables fecha registradas se crea __month_last__: meses que han pasado desde el ultimo pago, que es la diferencia  (last_pymnt_d-issue_d ) esto nos dará informción del tiempo que pago el usuario y con la variable loan_status se podrá saber si el usuario incumple entre el tiempo de interés (antes de 12 meses).\n",
    "\n",
    "Se crea las variables.\n",
    "\n",
    "- __good_status__: Que tomara valores 0 (con morosidad) y 1 (Sin morosidad)"
   ]
  },
  {
   "cell_type": "code",
   "execution_count": 313,
   "id": "6fcf058f",
   "metadata": {
    "id": "6fcf058f",
    "lines_to_next_cell": 0,
    "results": "asis"
   },
   "outputs": [],
   "source": [
    "table_frec=pd.DataFrame(df[\"loan_status\"].value_counts())\n",
    "status_mora=['Charged Off', 'Default', 'Late (31-120 days)','Does not meet the credit policy. Status:Charged Off']\n",
    "table_frec[\"good_status\"]=1\n",
    "filtro=pd.Series(table_frec.index).isin( status_mora)\n",
    "table_frec.loc[list(filtro), \"good_status\"]=0\n",
    "table_frec=table_frec.reset_index()\n",
    "table_frec.columns=[\"loan_status\", \"Frec\", \"good_status\" ]\n",
    "df_temp=table_frec[[\"loan_status\", \"good_status\",\"Frec\" ]]\n",
    "df[\"good_status\"]=1\n",
    "df.loc[df[\"loan_status\"].isin(status_mora),\"good_status\"]=0"
   ]
  },
  {
   "cell_type": "markdown",
   "id": "a2505fb3",
   "metadata": {
    "id": "a2505fb3"
   },
   "source": [
    "\n"
   ]
  },
  {
   "cell_type": "markdown",
   "id": "977a5310",
   "metadata": {
    "id": "977a5310"
   },
   "source": [
    "`r kbl(py$df_temp, escape = F, align = \"c\", caption=\"Categorías good_status \") %>%  kable_classic_2(\"striped\", full_width = F)`"
   ]
  },
  {
   "cell_type": "markdown",
   "id": "d4ed44f3",
   "metadata": {
    "id": "d4ed44f3"
   },
   "source": [
    "- __month_last__: last_pymnt_d-issue_d en meses."
   ]
  },
  {
   "cell_type": "code",
   "execution_count": 314,
   "id": "6155d69e",
   "metadata": {
    "id": "6155d69e",
    "lines_to_next_cell": 2,
    "warning": false
   },
   "outputs": [],
   "source": [
    "df[ 'issue_d']=pd.to_datetime(df['issue_d'], format = \"%m-%y\")\n",
    "df['last_pymnt_d']=pd.to_datetime(df['last_pymnt_d'], format = \"%m-%y\")\n",
    "df[\"month_last\"]= ((df.last_pymnt_d - df.issue_d)/np.timedelta64(1, 'M'))\n"
   ]
  },
  {
   "cell_type": "markdown",
   "id": "28eda195",
   "metadata": {
    "id": "28eda195"
   },
   "source": [
    "- __target_time__: 1 si month_last $\\leq$ 12, 0 si >12."
   ]
  },
  {
   "cell_type": "code",
   "execution_count": 315,
   "id": "3dc22d6a",
   "metadata": {
    "id": "3dc22d6a",
    "lines_to_next_cell": 2
   },
   "outputs": [],
   "source": [
    "df['target_time']=0\n",
    "df.loc[df[\"month_last\"]<=12,'target_time']=1"
   ]
  },
  {
   "cell_type": "markdown",
   "id": "058d6362",
   "metadata": {
    "id": "058d6362"
   },
   "source": [
    "### Estructura del modelo\n",
    "\n",
    "El modelo general tendra la estructura:"
   ]
  },
  {
   "cell_type": "markdown",
   "id": "55c3e65b",
   "metadata": {
    "id": "55c3e65b"
   },
   "source": [
    "$$\n",
    "P(\\text{good_status=1} )= f(\\text{month_last}, {X },\\theta )\n",
    "$$\n",
    "Donde __month_last__ define el tiempo en que queremos predecir, $X$ es un vector de variables que puedan afectar la probabilidad y $\\theta$ son los parámetros que puede contener el modelo."
   ]
  },
  {
   "cell_type": "markdown",
   "id": "325b7ade",
   "metadata": {
    "id": "325b7ade"
   },
   "source": [
    "### Valores NA\n",
    "\n",
    "Asumiendo que se tolera al menos un 20 % de valores NA en los datos de las y omitiendo las columnas de identificación se cuenta con:\n"
   ]
  },
  {
   "cell_type": "code",
   "execution_count": 316,
   "id": "37f0525b",
   "metadata": {
    "id": "37f0525b",
    "lines_to_next_cell": 2,
    "results": "asis"
   },
   "outputs": [],
   "source": [
    "drop_columns=[\"id\", \"member_id\", \"url\", \"title\"]\n",
    "df=df.drop(labels=drop_columns,axis=1 )\n",
    "total_na=df.isna().sum()\n",
    "filtro=total_na< df.shape[0]*0.2\n",
    "total_na=total_na[filtro]\n",
    "result=pd.DataFrame({\"Variables\":[\"Menos del 20% NA\",\" Mas del 20% NA\"],\n",
    "\"Total variables\":[total_na.shape[0], 70-total_na.shape[0] ]} )"
   ]
  },
  {
   "cell_type": "markdown",
   "id": "27712bec",
   "metadata": {
    "id": "27712bec"
   },
   "source": [
    "`r kbl(py$result, escape = F, align = \"c\", caption=\"Resumen de NA\") %>%  kable_classic_2(\"striped\", full_width = F)`"
   ]
  },
  {
   "cell_type": "markdown",
   "id": "43769841",
   "metadata": {
    "id": "43769841"
   },
   "source": [
    "Se omiten 22 variables por su alto porcentaje de valores faltantes, aunque 20% de valores faltantes es una cantidad alta, existen variables importantes que contienen alta cantidad de valores faltantes que se muestran a continuación."
   ]
  },
  {
   "cell_type": "markdown",
   "id": "6bbcdd83",
   "metadata": {
    "id": "6bbcdd83"
   },
   "source": [
    "## Variables modelo\n"
   ]
  },
  {
   "cell_type": "code",
   "execution_count": 317,
   "id": "a780bb2a",
   "metadata": {
    "id": "a780bb2a",
    "lines_to_next_cell": 2,
    "results": "asis"
   },
   "outputs": [],
   "source": [
    "vars_=total_na.sort_values(ascending=False).head()\n",
    "result=pd.DataFrame({\"Variables\":vars_.index,\"Descripción\":[\" Total crédito rotativo alto entre límite de crédito. \",\"Saldo corriente en todas las cuentas \", \" Montos totales de cobro adeudados. \", \"Tipo de trabajo.\",\"Años en el trabajo \"   ], \"Total NA\":vars_ })\n",
    "result=result.reset_index()"
   ]
  },
  {
   "cell_type": "markdown",
   "id": "b880c9c8",
   "metadata": {
    "id": "b880c9c8"
   },
   "source": [
    "`r kbl(py$result, escape = F, align = \"c\", caption=\"Variables candidatas\") %>%  kable_classic_2(\"striped\", full_width = F)`\n",
    "\n",
    "De estas variables puede ser dificil que el usuario obtenga __total_rev_hi_lim__, __emp_title__ tiene muchas categorías.\n",
    "\n",
    "Es importante identificar que variables puede dar un usuario al momento del registro, pues existen variables donde se obtienen la información al pasar el tiempo o un usuario no puede identificar.\n"
   ]
  },
  {
   "cell_type": "code",
   "execution_count": 318,
   "id": "763b4fee",
   "metadata": {
    "id": "763b4fee",
    "lines_to_next_cell": 2,
    "tags": [
     "remove_cell"
    ]
   },
   "outputs": [],
   "source": [
    "variables_eliminar=\"\"\"funded_amnt_inv\n",
    "grade\n",
    "sub_grade\n",
    "emp_title\n",
    "verification_status\n",
    "zip_code\n",
    "addr_state\n",
    "dti\n",
    "delinq_2yrs\n",
    "inq_last_6mths\n",
    "revol_bal\n",
    "revol_util\n",
    "total_acc\n",
    "out_prncp\n",
    "out_prncp_inv\n",
    "out_prncp_inv\n",
    "total_pymnt\n",
    "total_rec_prncp\n",
    "total_rec_int\n",
    "total_rec_late_fee\n",
    "recoveries\n",
    "collection_recovery_fee\n",
    "last_pymnt_amnt\n",
    "last_credit_pull_d\n",
    "collections_12_mths_ex_med\n",
    "policy_code\n",
    "tot_coll_amt\n",
    "total_rev_hi_lim\"\"\"\n",
    "variables_eliminar=np.array(variables_eliminar.replace(\" \", \"\").split(\"\\n\"))\n",
    "variables_eliminar.shape=(7,4)\n",
    "variables_eliminar=pd.DataFrame(variables_eliminar)\n",
    "variables_eliminar.columns=[\" \"]*4"
   ]
  },
  {
   "cell_type": "markdown",
   "id": "09d5c668",
   "metadata": {
    "id": "09d5c668"
   },
   "source": [
    "`r kbl(py$variables_eliminar, escape = F, align = \"c\", caption=\"Variables que no se incluyen\") %>%  kable_classic_2(\"striped\", full_width = F)`"
   ]
  },
  {
   "cell_type": "markdown",
   "id": "d4cb31c4",
   "metadata": {
    "id": "d4cb31c4"
   },
   "source": [
    "Las variables en la tabla no se tienen en cuenta porque son medidas que son proporcionadas por LC, información al pasar el tiempo después del prestamo o son extraidas de un externo, por ende, las variables a considerar como influyentes en el incumplimiento de las finanzas son:\n",
    "\n"
   ]
  },
  {
   "cell_type": "code",
   "execution_count": 319,
   "id": "81f3599e",
   "metadata": {
    "id": "81f3599e",
    "lines_to_next_cell": 0,
    "tags": [
     "remove_cell"
    ]
   },
   "outputs": [],
   "source": [
    "variables=\"\"\"__loan_amnt__:El monto indicado del préstamo solicitado por el prestatario. Si en algún momento, el departamento de crédito reduce el monto del préstamo, entonces se reflejará en este valor.\n",
    "\n",
    "__funded_amnt__: El monto total comprometido con ese préstamo en ese momento.\n",
    "\n",
    "__term__: El número de pagos del préstamo. Los valores son en meses y pueden ser 36 o 60.\n",
    "\n",
    "__int_rate__: tasa de interés del préstamo.\n",
    "\n",
    "__installment__:cuota El pago mensual adeudado por el prestatario si el préstamo se origina.\n",
    "\n",
    "__home_ownership__: El estado de propiedad de la vivienda proporcionado por el prestatario durante el registro. Nuestros valores son: ALQUILER, PROPIEDAD, HIPOTECA, OTRO.\n",
    "\n",
    "__annual_inc__: Los ingresos anuales autoinformados proporcionados por el prestatario durante el registro.\n",
    "\n",
    "__earliest_cr_line__: El mes en que se abrió la primera línea de crédito reportada del prestatario.\n",
    "\n",
    "__open_acc__: El número de líneas de crédito abiertas en el archivo de crédito del prestatario.\n",
    "\n",
    "__pub_rec__: numero de derogatory public records.\n",
    "\n",
    "__acc_now_delinq__:El número de cuentas en las que el prestatario está ahora en mora.\n",
    "\n",
    "__purpose__: Razón por la que se hace el prestamo.\n",
    "\n",
    "__tot_cur_bal__:Saldo corriente total de todas las cuentas\n",
    "\n",
    "__emp_length__: años trabajo\n",
    "\n",
    "__initial_list_status__: El estado inicial de listado del préstamo. Los valores posibles son – W, F\n",
    "\n",
    "__pymnt_plan__: indica si se a establecido un plan de pago.\n",
    "\"\"\".split(\"\\n\")\n",
    "\n",
    "#.replace(\"__\",\"\")\n",
    "variables=pd.Series(variables)\n",
    "variables_= variables[~(variables==\"\")].apply(lambda x: x.split(\":\")[0])\n",
    "descripcion_=variables[~(variables==\"\")].apply(lambda x: x.split(\":\")[1])\n",
    "result=pd.DataFrame({\"Variables\": variables_, \"Descripción\":descripcion_ })"
   ]
  },
  {
   "cell_type": "markdown",
   "id": "0ae3f2cb",
   "metadata": {
    "id": "0ae3f2cb"
   },
   "source": []
  },
  {
   "cell_type": "markdown",
   "id": "613b3456",
   "metadata": {
    "id": "613b3456"
   },
   "source": [
    "`r kbl(py$result, escape = F, align = \"l\", caption=\"Covariables candidatas\",row.names=F) %>%  kable_classic_2(\"striped\", full_width = F)`\n",
    "\n",
    "En esta tabla se tienen las posibles variables para el modelo, con __good_status__ y __target_time__.\n"
   ]
  },
  {
   "cell_type": "code",
   "execution_count": 320,
   "id": "eefd6305",
   "metadata": {
    "id": "eefd6305",
    "results": "asis"
   },
   "outputs": [],
   "source": [
    "variables_=pd.Series(variables_).apply(lambda x: x.replace(\"__\",\"\" ))\n",
    "df[\"month_earliest_cr_line\"]=((df.issue_d-df.earliest_cr_line )/np.timedelta64(1, 'M'))\n",
    "df=df[ [*variables_, \"good_status\",\"target_time\",\"month_earliest_cr_line\" ]] \n",
    "df=df[~df.isna().any(axis=1)]\n",
    "result=pd.DataFrame({\"\":[\"Filas\", \"Columnas\"] ,\"Cantidad\":df.shape})\n",
    "#print_table(result, \"Dimensiones\")"
   ]
  },
  {
   "cell_type": "markdown",
   "id": "6c85de64",
   "metadata": {
    "id": "6c85de64"
   },
   "source": [
    "`r kbl(py$result, escape = F, align = \"l\", caption=\"Dimensión de datos\") %>%  kable_classic_2(\"striped\", full_width = F)`\n",
    "\n",
    "Como resultado para el modelo se usara un data frame con estas dimesiones.\n",
    "\n",
    "# Analisis Descriptivo\n",
    "\n",
    "¿Cuál es la distribución de __good_estatus__?\n"
   ]
  },
  {
   "cell_type": "code",
   "execution_count": 321,
   "id": "116fc0a1",
   "metadata": {
    "id": "116fc0a1",
    "lines_to_next_cell": 2
   },
   "outputs": [],
   "source": [
    "tabla_1=df.good_status.value_counts(normalize=True)*100\n",
    "tabla_2=df.good_status.value_counts()\n",
    "tabla_3=df.target_time.value_counts(normalize=True)*100\n",
    "tabla_4=df.target_time.value_counts()\n",
    "table_final=pd.DataFrame({\"good status\":[1,0],\"Frecuencia\":tabla_2, \n",
    "                          \"Frec %\":tabla_1, \"target time\":[0,1],\n",
    "                         \"Frecuencia \":tabla_4, \"Frec % \":tabla_3 } )"
   ]
  },
  {
   "cell_type": "markdown",
   "id": "a70e0492",
   "metadata": {
    "id": "a70e0492"
   },
   "source": [
    "`r kbl(py$table_final, escape = F, align = \"l\", caption=\"Distribución global\",row.names=F,digits =2) %>%  kable_classic_2(\"striped\", full_width = F)`\n",
    "\n"
   ]
  },
  {
   "cell_type": "markdown",
   "id": "3cb228f7",
   "metadata": {
    "id": "3cb228f7"
   },
   "source": [
    "La variable __acc_now_delinq__ se puede transformar en 1 si tiene al menos una cuenta en mora, 0 sino tiene cunetas en mora. También la variable __pub_rec__ se transforma 1 si tiene al menos un derogatory public records, 0 sino. Se tomo la decisión ya que son variables conteos donde no parece ser necesario. Como esta es la fecha en que se hizo su primer prestamo __earliest_cr_line__, se debe calcular los meses que han pasado desde que solicito el prestamo __month_earliest_cr_line__\n"
   ]
  },
  {
   "cell_type": "code",
   "execution_count": 322,
   "id": "e3a3a8cd",
   "metadata": {
    "id": "e3a3a8cd",
    "lines_to_next_cell": 2,
    "tags": []
   },
   "outputs": [],
   "source": [
    "df=df.drop(labels=\"earliest_cr_line\",axis=1)\n",
    "df[\"acc_now_delinq\"]=np.where(df[\"acc_now_delinq\"]>0, 1,0)\n",
    "df[\"pub_rec\"]=np.where(df[\"pub_rec\"]>0,1,0)"
   ]
  },
  {
   "cell_type": "code",
   "execution_count": 323,
   "id": "dabef49d",
   "metadata": {
    "id": "dabef49d",
    "lines_to_next_cell": 2
   },
   "outputs": [],
   "source": [
    "df_temp=df.copy()\n",
    "df_temp[\"acc_now_delinq\"]=df_temp[\"acc_now_delinq\"].astype(\"str\")\n",
    "df_temp[\"target_time\"]=df_temp[\"target_time\"].astype(\"str\")\n",
    "df_temp[\"pub_rec\"]=df_temp[\"pub_rec\"].astype(\"str\")\n",
    "X=df_temp.drop(labels=\"good_status\",axis=1)\n",
    "Y=df_temp[\"good_status\"]\n",
    "\n",
    "X_train_cat = X.select_dtypes(include = 'object').copy()\n",
    "X_train_num = X.select_dtypes(include = 'number').copy()\n",
    "# define an empty dictionary to store chi-squared test results\n",
    "chi2_check = {}\n",
    "\n",
    "# loop over each column in the training set to calculate chi-statistic with the target variable\n",
    "for column in X_train_cat:\n",
    "    chi, p, dof, ex = chi2_contingency(pd.crosstab(Y, X_train_cat[column]))\n",
    "    chi2_check.setdefault('Feature',[]).append(column)\n",
    "    chi2_check.setdefault('p-value',[]).append(round(p, 10))\n",
    "\n",
    "# convert the dictionary to a DF\n",
    "chi2_result = pd.DataFrame(data = chi2_check)\n",
    "chi2_result.sort_values(by = ['p-value'], ascending = True, ignore_index = True, inplace = True)\n"
   ]
  },
  {
   "cell_type": "markdown",
   "id": "f4241569",
   "metadata": {
    "id": "f4241569"
   },
   "source": [
    "`r kbl(py$chi2_result, escape = F, align = \"c\", caption=\"Prueba \",row.names=F,digits =2) %>%  kable_classic_2(\"striped\", full_width = F)`\n",
    "\n",
    "Se realiza pruebas $\\chi^2$ para las variables categoricas en contraste con la variable __good_status__ y se observa 8 variables con un p-valor pequeño, esto significa que estas variables pueden influir en el incumplimiento de las finanzas. Se excluye __pymnt_plan__ debido a un p-valor > 0.05.\n"
   ]
  },
  {
   "cell_type": "code",
   "execution_count": 324,
   "id": "758a6631",
   "metadata": {
    "fig.cap": "Correlación entre variables númericas.",
    "id": "758a6631",
    "lines_to_next_cell": 2,
    "outputId": "7de49fdf-a191-47f6-f2a2-0059c7c1a21e"
   },
   "outputs": [
    {
     "data": {
      "text/plain": [
       "<AxesSubplot:>"
      ]
     },
     "execution_count": 324,
     "metadata": {},
     "output_type": "execute_result"
    },
    {
     "data": {
      "image/png": "[encoded data removed]",
      "text/plain": [
       "<Figure size 432x288 with 2 Axes>"
      ]
     },
     "metadata": {
      "needs_background": "light"
     },
     "output_type": "display_data"
    }
   ],
   "source": [
    "corrmat = X_train_num.corr()\n",
    "sns.heatmap(corrmat)"
   ]
  },
  {
   "cell_type": "markdown",
   "id": "6543e64f",
   "metadata": {
    "id": "6543e64f"
   },
   "source": [
    "En la figura 1 se observa que hay 3 variables con una alta correlación entre si ($\\approx$ 1) que son: __loan_amnt__, __funded_amnt__, __installment__ y según la table - 5 se opta por __loan_amnt__ por ser el prestamo definitivo que dio LC."
   ]
  },
  {
   "cell_type": "code",
   "execution_count": 325,
   "id": "5b44c48e",
   "metadata": {
    "id": "5b44c48e",
    "lines_to_next_cell": 0,
    "outputId": "9563f741-d8a5-4186-e34c-41d602f5204d"
   },
   "outputs": [
    {
     "data": {
      "text/plain": [
       "<AxesSubplot:xlabel='good_status', ylabel='month_earliest_cr_line'>"
      ]
     },
     "execution_count": 325,
     "metadata": {},
     "output_type": "execute_result"
    },
    {
     "data": {
      "image/png": "[encoded data removed]",
      "text/plain": [
       "<Figure size 1296x504 with 6 Axes>"
      ]
     },
     "metadata": {
      "needs_background": "light"
     },
     "output_type": "display_data"
    }
   ],
   "source": [
    "vars_=['loan_amnt',  'int_rate', 'annual_inc',\n",
    "       'open_acc', 'tot_cur_bal',\"month_earliest_cr_line\"]\n",
    "fig, axs = plt.subplots(ncols=3,nrows=2,figsize=(18, 7))\n",
    "sns.boxplot(data=df, x=\"good_status\", y=vars_[0], ax=axs[0, 0],showfliers = False)\n",
    "sns.boxplot(data=df, x=\"good_status\", y=vars_[1], ax=axs[0, 1],showfliers = False)\n",
    "sns.boxplot(data=df, x=\"good_status\", y=vars_[2], ax=axs[0, 2],showfliers = False)\n",
    "sns.boxplot(data=df, x=\"good_status\", y=vars_[3], ax=axs[1, 1],showfliers = False)\n",
    "sns.boxplot(data=df, x=\"good_status\", y=vars_[4], ax=axs[1, 2],showfliers = False)\n",
    "sns.boxplot(data=df, x=\"good_status\", y=vars_[5], ax=axs[1, 0],showfliers = False)"
   ]
  },
  {
   "cell_type": "markdown",
   "id": "1776503b-620b-4420-a188-be04411f89ce",
   "metadata": {
    "id": "1776503b-620b-4420-a188-be04411f89ce"
   },
   "source": [
    "En la figura se observa que las variables con una tendencia de influir en __good_status__ son __int_rate__, __annual_inc__ pues aunque no se observa gran diferencia, parece existir una influencia.\n",
    "\n",
    "Las variables a usar para crear el modelo son: "
   ]
  },
  {
   "cell_type": "code",
   "execution_count": 326,
   "id": "07c725d3-7f34-43d7-8f18-282d953afc7e",
   "metadata": {
    "id": "07c725d3-7f34-43d7-8f18-282d953afc7e"
   },
   "outputs": [],
   "source": [
    "variables_final=list(chi2_result[\"Feature\"].iloc[0:8])\n",
    "variables_final=[*variables_final,*vars_,\"good_status\"]\n",
    "result=np.array([*variables_final,\"\"])\n",
    "result.shape=(4,4)\n",
    "result=pd.DataFrame(result)\n",
    "result.columns=[\"\"]*4"
   ]
  },
  {
   "cell_type": "markdown",
   "id": "1fdab112-31d2-4e13-b977-48df10a796a4",
   "metadata": {
    "id": "1fdab112-31d2-4e13-b977-48df10a796a4"
   },
   "source": [
    "`r kbl(py$result, escape = F, align = \"l\", caption=\"Covariables del modelo\",row.names=F,digits =2) %>%  kable_classic_2(\"striped\", full_width = F)`\n",
    "\n",
    "Estas son las covariables que se tendrán en el modelo."
   ]
  },
  {
   "cell_type": "code",
   "execution_count": 327,
   "id": "9f60c6e8-22f2-4b72-8c22-c5f80113a666",
   "metadata": {
    "id": "9f60c6e8-22f2-4b72-8c22-c5f80113a666",
    "outputId": "9e1b7139-c0aa-4114-c359-087f7ece3e5d",
    "tags": []
   },
   "outputs": [
    {
     "data": {
      "application/vnd.plotly.v1+json": {
       "config": {
        "plotlyServerURL": "https://plot.ly"
       },
       "data": [
        {
         "hovertext": [
          "term",
          "percent"
         ],
         "marker": {
          "color": "rgb(55, 83, 109)"
         },
         "name": "1",
         "showlegend": true,
         "type": "bar",
         "x": [
          " 36 months",
          " 60 months"
         ],
         "xaxis": "x",
         "y": [
          91.10557126833831,
          87.26806067909808
         ],
         "yaxis": "y"
        },
        {
         "hovertext": [
          "term",
          "percent"
         ],
         "marker": {
          "color": "rgb(26, 118, 255)"
         },
         "name": "0",
         "showlegend": true,
         "type": "bar",
         "x": [
          " 36 months",
          " 60 months"
         ],
         "xaxis": "x",
         "y": [
          8.894428731661693,
          12.731939320901908
         ],
         "yaxis": "y"
        },
        {
         "hovertext": [
          "pub_rec",
          "percent"
         ],
         "marker": {
          "color": "rgb(55, 83, 109)"
         },
         "name": "1",
         "showlegend": true,
         "type": "bar",
         "x": [
          0,
          1
         ],
         "xaxis": "x2",
         "y": [
          89.90782897703755,
          90.55443018981168
         ],
         "yaxis": "y2"
        },
        {
         "hovertext": [
          "pub_rec",
          "percent"
         ],
         "marker": {
          "color": "rgb(26, 118, 255)"
         },
         "name": "0",
         "showlegend": true,
         "type": "bar",
         "x": [
          0,
          1
         ],
         "xaxis": "x2",
         "y": [
          10.092171022962445,
          9.445569810188312
         ],
         "yaxis": "y2"
        },
        {
         "hovertext": [
          "home_ownership",
          "percent"
         ],
         "marker": {
          "color": "rgb(55, 83, 109)"
         },
         "name": "1",
         "showlegend": true,
         "type": "bar",
         "x": [
          "MORTGAGE",
          "NONE",
          "OTHER",
          "OWN",
          "RENT"
         ],
         "xaxis": "x3",
         "y": [
          91.24095800424303,
          85.71428571428571,
          80.95238095238095,
          90.1046247156937,
          88.3427231312505
         ],
         "yaxis": "y3"
        },
        {
         "hovertext": [
          "home_ownership",
          "percent"
         ],
         "marker": {
          "color": "rgb(26, 118, 255)"
         },
         "name": "0",
         "showlegend": true,
         "type": "bar",
         "x": [
          "MORTGAGE",
          "NONE",
          "OTHER",
          "OWN",
          "RENT"
         ],
         "xaxis": "x3",
         "y": [
          8.759041995756972,
          14.285714285714285,
          19.047619047619047,
          9.895375284306294,
          11.657276868749495
         ],
         "yaxis": "y3"
        },
        {
         "hovertext": [
          "initial_list_status",
          "percent"
         ],
         "marker": {
          "color": "rgb(55, 83, 109)"
         },
         "name": "1",
         "showlegend": true,
         "type": "bar",
         "x": [
          "f",
          "w"
         ],
         "xaxis": "x4",
         "y": [
          89.1305624443812,
          91.23444816268331
         ],
         "yaxis": "y4"
        },
        {
         "hovertext": [
          "initial_list_status",
          "percent"
         ],
         "marker": {
          "color": "rgb(26, 118, 255)"
         },
         "name": "0",
         "showlegend": true,
         "type": "bar",
         "x": [
          "f",
          "w"
         ],
         "xaxis": "x4",
         "y": [
          10.869437555618797,
          8.765551837316702
         ],
         "yaxis": "y4"
        },
        {
         "hovertext": [
          "purpose",
          "percent"
         ],
         "marker": {
          "color": "rgb(55, 83, 109)"
         },
         "name": "1",
         "showlegend": true,
         "type": "bar",
         "x": [
          "car",
          "credit_card",
          "debt_consolidation",
          "home_improvement",
          "house",
          "major_purchase",
          "medical",
          "moving",
          "other",
          "renewable_energy",
          "small_business",
          "vacation",
          "wedding"
         ],
         "xaxis": "x5",
         "y": [
          92.61811023622047,
          91.92241729476012,
          89.50162219831921,
          91.00443131462333,
          87.54163890739507,
          91.1875589066918,
          87.95144157814872,
          85.90704647676162,
          87.61207685269899,
          89.34010152284264,
          82.14196137446702,
          89.85343855693348,
          86.36363636363636
         ],
         "yaxis": "y5"
        },
        {
         "hovertext": [
          "purpose",
          "percent"
         ],
         "marker": {
          "color": "rgb(26, 118, 255)"
         },
         "name": "0",
         "showlegend": true,
         "type": "bar",
         "x": [
          "car",
          "credit_card",
          "debt_consolidation",
          "home_improvement",
          "house",
          "major_purchase",
          "medical",
          "moving",
          "other",
          "renewable_energy",
          "small_business",
          "vacation",
          "wedding"
         ],
         "xaxis": "x5",
         "y": [
          7.381889763779527,
          8.077582705239879,
          10.49837780168079,
          8.995568685376663,
          12.45836109260493,
          8.8124410933082,
          12.04855842185129,
          14.09295352323838,
          12.387923147301008,
          10.65989847715736,
          17.85803862553298,
          10.146561443066517,
          13.636363636363635
         ],
         "yaxis": "y5"
        },
        {
         "hovertext": [
          "emp_length",
          "percent"
         ],
         "marker": {
          "color": "rgb(55, 83, 109)"
         },
         "name": "1",
         "showlegend": true,
         "type": "bar",
         "x": [
          "1 year",
          "10+ years",
          "2 years",
          "3 years",
          "4 years",
          "5 years",
          "6 years",
          "7 years",
          "8 years",
          "9 years",
          "< 1 year"
         ],
         "xaxis": "x6",
         "y": [
          89.68079365738242,
          90.83378394616679,
          89.68648076866572,
          89.88302349471452,
          90.08208551325997,
          89.33644521347229,
          89.02209361076662,
          89.71343309781894,
          89.66729505273348,
          89.32038834951457,
          88.96630615640599
         ],
         "yaxis": "y6"
        },
        {
         "hovertext": [
          "emp_length",
          "percent"
         ],
         "marker": {
          "color": "rgb(26, 118, 255)"
         },
         "name": "0",
         "showlegend": true,
         "type": "bar",
         "x": [
          "1 year",
          "10+ years",
          "2 years",
          "3 years",
          "4 years",
          "5 years",
          "6 years",
          "7 years",
          "8 years",
          "9 years",
          "< 1 year"
         ],
         "xaxis": "x6",
         "y": [
          10.319206342617575,
          9.166216053833214,
          10.313519231334293,
          10.116976505285482,
          9.917914486740033,
          10.663554786527705,
          10.977906389233384,
          10.286566902181068,
          10.332704947266521,
          10.679611650485436,
          11.03369384359401
         ],
         "yaxis": "y6"
        }
       ],
       "layout": {
        "annotations": [
         {
          "font": {
           "size": 16
          },
          "showarrow": false,
          "text": "term",
          "x": 0.225,
          "xanchor": "center",
          "xref": "paper",
          "y": 1,
          "yanchor": "bottom",
          "yref": "paper"
         },
         {
          "font": {
           "size": 16
          },
          "showarrow": false,
          "text": "pub_rec",
          "x": 0.775,
          "xanchor": "center",
          "xref": "paper",
          "y": 1,
          "yanchor": "bottom",
          "yref": "paper"
         },
         {
          "font": {
           "size": 16
          },
          "showarrow": false,
          "text": "home_ownership",
          "x": 0.225,
          "xanchor": "center",
          "xref": "paper",
          "y": 0.71875,
          "yanchor": "bottom",
          "yref": "paper"
         },
         {
          "font": {
           "size": 16
          },
          "showarrow": false,
          "text": "initial_list_status",
          "x": 0.775,
          "xanchor": "center",
          "xref": "paper",
          "y": 0.71875,
          "yanchor": "bottom",
          "yref": "paper"
         },
         {
          "font": {
           "size": 16
          },
          "showarrow": false,
          "text": "purpose",
          "x": 0.225,
          "xanchor": "center",
          "xref": "paper",
          "y": 0.4375,
          "yanchor": "bottom",
          "yref": "paper"
         },
         {
          "font": {
           "size": 16
          },
          "showarrow": false,
          "text": "emp_length",
          "x": 0.775,
          "xanchor": "center",
          "xref": "paper",
          "y": 0.4375,
          "yanchor": "bottom",
          "yref": "paper"
         }
        ],
        "bargap": 0.15,
        "bargroupgap": 0.1,
        "barmode": "group",
        "height": 1000,
        "legend": {
         "bgcolor": "rgba(255, 255, 255, 0)",
         "bordercolor": "rgba(255, 255, 255, 0)",
         "x": 1,
         "y": 1
        },
        "template": {
         "data": {
          "bar": [
           {
            "error_x": {
             "color": "#2a3f5f"
            },
            "error_y": {
             "color": "#2a3f5f"
            },
            "marker": {
             "line": {
              "color": "#E5ECF6",
              "width": 0.5
             },
             "pattern": {
              "fillmode": "overlay",
              "size": 10,
              "solidity": 0.2
             }
            },
            "type": "bar"
           }
          ],
          "barpolar": [
           {
            "marker": {
             "line": {
              "color": "#E5ECF6",
              "width": 0.5
             },
             "pattern": {
              "fillmode": "overlay",
              "size": 10,
              "solidity": 0.2
             }
            },
            "type": "barpolar"
           }
          ],
          "carpet": [
           {
            "aaxis": {
             "endlinecolor": "#2a3f5f",
             "gridcolor": "white",
             "linecolor": "white",
             "minorgridcolor": "white",
             "startlinecolor": "#2a3f5f"
            },
            "baxis": {
             "endlinecolor": "#2a3f5f",
             "gridcolor": "white",
             "linecolor": "white",
             "minorgridcolor": "white",
             "startlinecolor": "#2a3f5f"
            },
            "type": "carpet"
           }
          ],
          "choropleth": [
           {
            "colorbar": {
             "outlinewidth": 0,
             "ticks": ""
            },
            "type": "choropleth"
           }
          ],
          "contour": [
           {
            "colorbar": {
             "outlinewidth": 0,
             "ticks": ""
            },
            "colorscale": [
             [
              0,
              "#0d0887"
             ],
             [
              0.1111111111111111,
              "#46039f"
             ],
             [
              0.2222222222222222,
              "#7201a8"
             ],
             [
              0.3333333333333333,
              "#9c179e"
             ],
             [
              0.4444444444444444,
              "#bd3786"
             ],
             [
              0.5555555555555556,
              "#d8576b"
             ],
             [
              0.6666666666666666,
              "#ed7953"
             ],
             [
              0.7777777777777778,
              "#fb9f3a"
             ],
             [
              0.8888888888888888,
              "#fdca26"
             ],
             [
              1,
              "#f0f921"
             ]
            ],
            "type": "contour"
           }
          ],
          "contourcarpet": [
           {
            "colorbar": {
             "outlinewidth": 0,
             "ticks": ""
            },
            "type": "contourcarpet"
           }
          ],
          "heatmap": [
           {
            "colorbar": {
             "outlinewidth": 0,
             "ticks": ""
            },
            "colorscale": [
             [
              0,
              "#0d0887"
             ],
             [
              0.1111111111111111,
              "#46039f"
             ],
             [
              0.2222222222222222,
              "#7201a8"
             ],
             [
              0.3333333333333333,
              "#9c179e"
             ],
             [
              0.4444444444444444,
              "#bd3786"
             ],
             [
              0.5555555555555556,
              "#d8576b"
             ],
             [
              0.6666666666666666,
              "#ed7953"
             ],
             [
              0.7777777777777778,
              "#fb9f3a"
             ],
             [
              0.8888888888888888,
              "#fdca26"
             ],
             [
              1,
              "#f0f921"
             ]
            ],
            "type": "heatmap"
           }
          ],
          "heatmapgl": [
           {
            "colorbar": {
             "outlinewidth": 0,
             "ticks": ""
            },
            "colorscale": [
             [
              0,
              "#0d0887"
             ],
             [
              0.1111111111111111,
              "#46039f"
             ],
             [
              0.2222222222222222,
              "#7201a8"
             ],
             [
              0.3333333333333333,
              "#9c179e"
             ],
             [
              0.4444444444444444,
              "#bd3786"
             ],
             [
              0.5555555555555556,
              "#d8576b"
             ],
             [
              0.6666666666666666,
              "#ed7953"
             ],
             [
              0.7777777777777778,
              "#fb9f3a"
             ],
             [
              0.8888888888888888,
              "#fdca26"
             ],
             [
              1,
              "#f0f921"
             ]
            ],
            "type": "heatmapgl"
           }
          ],
          "histogram": [
           {
            "marker": {
             "pattern": {
              "fillmode": "overlay",
              "size": 10,
              "solidity": 0.2
             }
            },
            "type": "histogram"
           }
          ],
          "histogram2d": [
           {
            "colorbar": {
             "outlinewidth": 0,
             "ticks": ""
            },
            "colorscale": [
             [
              0,
              "#0d0887"
             ],
             [
              0.1111111111111111,
              "#46039f"
             ],
             [
              0.2222222222222222,
              "#7201a8"
             ],
             [
              0.3333333333333333,
              "#9c179e"
             ],
             [
              0.4444444444444444,
              "#bd3786"
             ],
             [
              0.5555555555555556,
              "#d8576b"
             ],
             [
              0.6666666666666666,
              "#ed7953"
             ],
             [
              0.7777777777777778,
              "#fb9f3a"
             ],
             [
              0.8888888888888888,
              "#fdca26"
             ],
             [
              1,
              "#f0f921"
             ]
            ],
            "type": "histogram2d"
           }
          ],
          "histogram2dcontour": [
           {
            "colorbar": {
             "outlinewidth": 0,
             "ticks": ""
            },
            "colorscale": [
             [
              0,
              "#0d0887"
             ],
             [
              0.1111111111111111,
              "#46039f"
             ],
             [
              0.2222222222222222,
              "#7201a8"
             ],
             [
              0.3333333333333333,
              "#9c179e"
             ],
             [
              0.4444444444444444,
              "#bd3786"
             ],
             [
              0.5555555555555556,
              "#d8576b"
             ],
             [
              0.6666666666666666,
              "#ed7953"
             ],
             [
              0.7777777777777778,
              "#fb9f3a"
             ],
             [
              0.8888888888888888,
              "#fdca26"
             ],
             [
              1,
              "#f0f921"
             ]
            ],
            "type": "histogram2dcontour"
           }
          ],
          "mesh3d": [
           {
            "colorbar": {
             "outlinewidth": 0,
             "ticks": ""
            },
            "type": "mesh3d"
           }
          ],
          "parcoords": [
           {
            "line": {
             "colorbar": {
              "outlinewidth": 0,
              "ticks": ""
             }
            },
            "type": "parcoords"
           }
          ],
          "pie": [
           {
            "automargin": true,
            "type": "pie"
           }
          ],
          "scatter": [
           {
            "marker": {
             "colorbar": {
              "outlinewidth": 0,
              "ticks": ""
             }
            },
            "type": "scatter"
           }
          ],
          "scatter3d": [
           {
            "line": {
             "colorbar": {
              "outlinewidth": 0,
              "ticks": ""
             }
            },
            "marker": {
             "colorbar": {
              "outlinewidth": 0,
              "ticks": ""
             }
            },
            "type": "scatter3d"
           }
          ],
          "scattercarpet": [
           {
            "marker": {
             "colorbar": {
              "outlinewidth": 0,
              "ticks": ""
             }
            },
            "type": "scattercarpet"
           }
          ],
          "scattergeo": [
           {
            "marker": {
             "colorbar": {
              "outlinewidth": 0,
              "ticks": ""
             }
            },
            "type": "scattergeo"
           }
          ],
          "scattergl": [
           {
            "marker": {
             "colorbar": {
              "outlinewidth": 0,
              "ticks": ""
             }
            },
            "type": "scattergl"
           }
          ],
          "scattermapbox": [
           {
            "marker": {
             "colorbar": {
              "outlinewidth": 0,
              "ticks": ""
             }
            },
            "type": "scattermapbox"
           }
          ],
          "scatterpolar": [
           {
            "marker": {
             "colorbar": {
              "outlinewidth": 0,
              "ticks": ""
             }
            },
            "type": "scatterpolar"
           }
          ],
          "scatterpolargl": [
           {
            "marker": {
             "colorbar": {
              "outlinewidth": 0,
              "ticks": ""
             }
            },
            "type": "scatterpolargl"
           }
          ],
          "scatterternary": [
           {
            "marker": {
             "colorbar": {
              "outlinewidth": 0,
              "ticks": ""
             }
            },
            "type": "scatterternary"
           }
          ],
          "surface": [
           {
            "colorbar": {
             "outlinewidth": 0,
             "ticks": ""
            },
            "colorscale": [
             [
              0,
              "#0d0887"
             ],
             [
              0.1111111111111111,
              "#46039f"
             ],
             [
              0.2222222222222222,
              "#7201a8"
             ],
             [
              0.3333333333333333,
              "#9c179e"
             ],
             [
              0.4444444444444444,
              "#bd3786"
             ],
             [
              0.5555555555555556,
              "#d8576b"
             ],
             [
              0.6666666666666666,
              "#ed7953"
             ],
             [
              0.7777777777777778,
              "#fb9f3a"
             ],
             [
              0.8888888888888888,
              "#fdca26"
             ],
             [
              1,
              "#f0f921"
             ]
            ],
            "type": "surface"
           }
          ],
          "table": [
           {
            "cells": {
             "fill": {
              "color": "#EBF0F8"
             },
             "line": {
              "color": "white"
             }
            },
            "header": {
             "fill": {
              "color": "#C8D4E3"
             },
             "line": {
              "color": "white"
             }
            },
            "type": "table"
           }
          ]
         },
         "layout": {
          "annotationdefaults": {
           "arrowcolor": "#2a3f5f",
           "arrowhead": 0,
           "arrowwidth": 1
          },
          "autotypenumbers": "strict",
          "coloraxis": {
           "colorbar": {
            "outlinewidth": 0,
            "ticks": ""
           }
          },
          "colorscale": {
           "diverging": [
            [
             0,
             "#8e0152"
            ],
            [
             0.1,
             "#c51b7d"
            ],
            [
             0.2,
             "#de77ae"
            ],
            [
             0.3,
             "#f1b6da"
            ],
            [
             0.4,
             "#fde0ef"
            ],
            [
             0.5,
             "#f7f7f7"
            ],
            [
             0.6,
             "#e6f5d0"
            ],
            [
             0.7,
             "#b8e186"
            ],
            [
             0.8,
             "#7fbc41"
            ],
            [
             0.9,
             "#4d9221"
            ],
            [
             1,
             "#276419"
            ]
           ],
           "sequential": [
            [
             0,
             "#0d0887"
            ],
            [
             0.1111111111111111,
             "#46039f"
            ],
            [
             0.2222222222222222,
             "#7201a8"
            ],
            [
             0.3333333333333333,
             "#9c179e"
            ],
            [
             0.4444444444444444,
             "#bd3786"
            ],
            [
             0.5555555555555556,
             "#d8576b"
            ],
            [
             0.6666666666666666,
             "#ed7953"
            ],
            [
             0.7777777777777778,
             "#fb9f3a"
            ],
            [
             0.8888888888888888,
             "#fdca26"
            ],
            [
             1,
             "#f0f921"
            ]
           ],
           "sequentialminus": [
            [
             0,
             "#0d0887"
            ],
            [
             0.1111111111111111,
             "#46039f"
            ],
            [
             0.2222222222222222,
             "#7201a8"
            ],
            [
             0.3333333333333333,
             "#9c179e"
            ],
            [
             0.4444444444444444,
             "#bd3786"
            ],
            [
             0.5555555555555556,
             "#d8576b"
            ],
            [
             0.6666666666666666,
             "#ed7953"
            ],
            [
             0.7777777777777778,
             "#fb9f3a"
            ],
            [
             0.8888888888888888,
             "#fdca26"
            ],
            [
             1,
             "#f0f921"
            ]
           ]
          },
          "colorway": [
           "#636efa",
           "#EF553B",
           "#00cc96",
           "#ab63fa",
           "#FFA15A",
           "#19d3f3",
           "#FF6692",
           "#B6E880",
           "#FF97FF",
           "#FECB52"
          ],
          "font": {
           "color": "#2a3f5f"
          },
          "geo": {
           "bgcolor": "white",
           "lakecolor": "white",
           "landcolor": "#E5ECF6",
           "showlakes": true,
           "showland": true,
           "subunitcolor": "white"
          },
          "hoverlabel": {
           "align": "left"
          },
          "hovermode": "closest",
          "mapbox": {
           "style": "light"
          },
          "paper_bgcolor": "white",
          "plot_bgcolor": "#E5ECF6",
          "polar": {
           "angularaxis": {
            "gridcolor": "white",
            "linecolor": "white",
            "ticks": ""
           },
           "bgcolor": "#E5ECF6",
           "radialaxis": {
            "gridcolor": "white",
            "linecolor": "white",
            "ticks": ""
           }
          },
          "scene": {
           "xaxis": {
            "backgroundcolor": "#E5ECF6",
            "gridcolor": "white",
            "gridwidth": 2,
            "linecolor": "white",
            "showbackground": true,
            "ticks": "",
            "zerolinecolor": "white"
           },
           "yaxis": {
            "backgroundcolor": "#E5ECF6",
            "gridcolor": "white",
            "gridwidth": 2,
            "linecolor": "white",
            "showbackground": true,
            "ticks": "",
            "zerolinecolor": "white"
           },
           "zaxis": {
            "backgroundcolor": "#E5ECF6",
            "gridcolor": "white",
            "gridwidth": 2,
            "linecolor": "white",
            "showbackground": true,
            "ticks": "",
            "zerolinecolor": "white"
           }
          },
          "shapedefaults": {
           "line": {
            "color": "#2a3f5f"
           }
          },
          "ternary": {
           "aaxis": {
            "gridcolor": "white",
            "linecolor": "white",
            "ticks": ""
           },
           "baxis": {
            "gridcolor": "white",
            "linecolor": "white",
            "ticks": ""
           },
           "bgcolor": "#E5ECF6",
           "caxis": {
            "gridcolor": "white",
            "linecolor": "white",
            "ticks": ""
           }
          },
          "title": {
           "x": 0.05
          },
          "xaxis": {
           "automargin": true,
           "gridcolor": "white",
           "linecolor": "white",
           "ticks": "",
           "title": {
            "standoff": 15
           },
           "zerolinecolor": "white",
           "zerolinewidth": 2
          },
          "yaxis": {
           "automargin": true,
           "gridcolor": "white",
           "linecolor": "white",
           "ticks": "",
           "title": {
            "standoff": 15
           },
           "zerolinecolor": "white",
           "zerolinewidth": 2
          }
         }
        },
        "title": {
         "text": "Good status"
        },
        "width": 900,
        "xaxis": {
         "anchor": "y",
         "autorange": true,
         "domain": [
          0,
          0.45
         ],
         "range": [
          -0.5,
          1.5
         ],
         "tickfont": {
          "size": 14
         },
         "type": "category"
        },
        "xaxis2": {
         "anchor": "y2",
         "autorange": true,
         "domain": [
          0.55,
          1
         ],
         "range": [
          -0.5,
          1.5
         ],
         "type": "linear"
        },
        "xaxis3": {
         "anchor": "y3",
         "autorange": true,
         "domain": [
          0,
          0.45
         ],
         "range": [
          -0.5,
          4.5
         ],
         "type": "category"
        },
        "xaxis4": {
         "anchor": "y4",
         "autorange": true,
         "domain": [
          0.55,
          1
         ],
         "range": [
          -0.5,
          1.5
         ],
         "type": "category"
        },
        "xaxis5": {
         "anchor": "y5",
         "autorange": true,
         "domain": [
          0,
          0.45
         ],
         "range": [
          -0.5,
          12.5
         ],
         "type": "category"
        },
        "xaxis6": {
         "anchor": "y6",
         "autorange": true,
         "domain": [
          0.55,
          1
         ],
         "range": [
          -0.5,
          10.5
         ],
         "type": "category"
        },
        "xaxis7": {
         "anchor": "y7",
         "domain": [
          0,
          0.45
         ]
        },
        "xaxis8": {
         "anchor": "y8",
         "domain": [
          0.55,
          1
         ]
        },
        "yaxis": {
         "anchor": "x",
         "domain": [
          0.84375,
          1
         ],
         "range": [
          0,
          100
         ],
         "tickfont": {
          "size": 14
         },
         "title": {
          "font": {
           "size": 16
          },
          "text": "Distribution percent "
         },
         "type": "linear"
        },
        "yaxis2": {
         "anchor": "x2",
         "domain": [
          0.84375,
          1
         ],
         "range": [
          0,
          100
         ],
         "type": "linear"
        },
        "yaxis3": {
         "anchor": "x3",
         "domain": [
          0.5625,
          0.71875
         ],
         "range": [
          0,
          100
         ],
         "type": "linear"
        },
        "yaxis4": {
         "anchor": "x4",
         "domain": [
          0.5625,
          0.71875
         ],
         "range": [
          0,
          100
         ],
         "type": "linear"
        },
        "yaxis5": {
         "anchor": "x5",
         "domain": [
          0.28125,
          0.4375
         ],
         "range": [
          0,
          100
         ],
         "type": "linear"
        },
        "yaxis6": {
         "anchor": "x6",
         "domain": [
          0.28125,
          0.4375
         ],
         "range": [
          0,
          100
         ],
         "type": "linear"
        },
        "yaxis7": {
         "anchor": "x7",
         "domain": [
          0,
          0.15625
         ],
         "range": [
          0,
          100
         ]
        },
        "yaxis8": {
         "anchor": "x8",
         "domain": [
          0,
          0.15625
         ],
         "range": [
          0,
          100
         ]
        }
       }
      },
      "image/png": "[encoded data removed]",
      "text/html": [
       "<div>                            <div id=\"8051cce2-ae57-4b2c-b6ea-36fb5ee436f0\" class=\"plotly-graph-div\" style=\"height:1000px; width:900px;\"></div>            <script type=\"text/javascript\">                require([\"plotly\"], function(Plotly) {                    window.PLOTLYENV=window.PLOTLYENV || {};                                    if (document.getElementById(\"8051cce2-ae57-4b2c-b6ea-36fb5ee436f0\")) {                    Plotly.newPlot(                        \"8051cce2-ae57-4b2c-b6ea-36fb5ee436f0\",                        [{\"hovertext\":[\"term\",\"percent\"],\"marker\":{\"color\":\"rgb(55, 83, 109)\"},\"name\":\"1\",\"showlegend\":true,\"x\":[\" 36 months\",\" 60 months\"],\"y\":[91.10557126833831,87.26806067909808],\"type\":\"bar\",\"xaxis\":\"x\",\"yaxis\":\"y\"},{\"hovertext\":[\"term\",\"percent\"],\"marker\":{\"color\":\"rgb(26, 118, 255)\"},\"name\":\"0\",\"showlegend\":true,\"x\":[\" 36 months\",\" 60 months\"],\"y\":[8.894428731661693,12.731939320901908],\"type\":\"bar\",\"xaxis\":\"x\",\"yaxis\":\"y\"},{\"hovertext\":[\"pub_rec\",\"percent\"],\"marker\":{\"color\":\"rgb(55, 83, 109)\"},\"name\":\"1\",\"showlegend\":true,\"x\":[0,1],\"y\":[89.90782897703755,90.55443018981168],\"type\":\"bar\",\"xaxis\":\"x2\",\"yaxis\":\"y2\"},{\"hovertext\":[\"pub_rec\",\"percent\"],\"marker\":{\"color\":\"rgb(26, 118, 255)\"},\"name\":\"0\",\"showlegend\":true,\"x\":[0,1],\"y\":[10.092171022962445,9.445569810188312],\"type\":\"bar\",\"xaxis\":\"x2\",\"yaxis\":\"y2\"},{\"hovertext\":[\"home_ownership\",\"percent\"],\"marker\":{\"color\":\"rgb(55, 83, 109)\"},\"name\":\"1\",\"showlegend\":true,\"x\":[\"MORTGAGE\",\"NONE\",\"OTHER\",\"OWN\",\"RENT\"],\"y\":[91.24095800424303,85.71428571428571,80.95238095238095,90.1046247156937,88.3427231312505],\"type\":\"bar\",\"xaxis\":\"x3\",\"yaxis\":\"y3\"},{\"hovertext\":[\"home_ownership\",\"percent\"],\"marker\":{\"color\":\"rgb(26, 118, 255)\"},\"name\":\"0\",\"showlegend\":true,\"x\":[\"MORTGAGE\",\"NONE\",\"OTHER\",\"OWN\",\"RENT\"],\"y\":[8.759041995756972,14.285714285714285,19.047619047619047,9.895375284306294,11.657276868749495],\"type\":\"bar\",\"xaxis\":\"x3\",\"yaxis\":\"y3\"},{\"hovertext\":[\"initial_list_status\",\"percent\"],\"marker\":{\"color\":\"rgb(55, 83, 109)\"},\"name\":\"1\",\"showlegend\":true,\"x\":[\"f\",\"w\"],\"y\":[89.1305624443812,91.23444816268331],\"type\":\"bar\",\"xaxis\":\"x4\",\"yaxis\":\"y4\"},{\"hovertext\":[\"initial_list_status\",\"percent\"],\"marker\":{\"color\":\"rgb(26, 118, 255)\"},\"name\":\"0\",\"showlegend\":true,\"x\":[\"f\",\"w\"],\"y\":[10.869437555618797,8.765551837316702],\"type\":\"bar\",\"xaxis\":\"x4\",\"yaxis\":\"y4\"},{\"hovertext\":[\"purpose\",\"percent\"],\"marker\":{\"color\":\"rgb(55, 83, 109)\"},\"name\":\"1\",\"showlegend\":true,\"x\":[\"car\",\"credit_card\",\"debt_consolidation\",\"home_improvement\",\"house\",\"major_purchase\",\"medical\",\"moving\",\"other\",\"renewable_energy\",\"small_business\",\"vacation\",\"wedding\"],\"y\":[92.61811023622047,91.92241729476012,89.50162219831921,91.00443131462333,87.54163890739507,91.1875589066918,87.95144157814872,85.90704647676162,87.61207685269899,89.34010152284264,82.14196137446702,89.85343855693348,86.36363636363636],\"type\":\"bar\",\"xaxis\":\"x5\",\"yaxis\":\"y5\"},{\"hovertext\":[\"purpose\",\"percent\"],\"marker\":{\"color\":\"rgb(26, 118, 255)\"},\"name\":\"0\",\"showlegend\":true,\"x\":[\"car\",\"credit_card\",\"debt_consolidation\",\"home_improvement\",\"house\",\"major_purchase\",\"medical\",\"moving\",\"other\",\"renewable_energy\",\"small_business\",\"vacation\",\"wedding\"],\"y\":[7.381889763779527,8.077582705239879,10.49837780168079,8.995568685376663,12.45836109260493,8.8124410933082,12.04855842185129,14.09295352323838,12.387923147301008,10.65989847715736,17.85803862553298,10.146561443066517,13.636363636363635],\"type\":\"bar\",\"xaxis\":\"x5\",\"yaxis\":\"y5\"},{\"hovertext\":[\"emp_length\",\"percent\"],\"marker\":{\"color\":\"rgb(55, 83, 109)\"},\"name\":\"1\",\"showlegend\":true,\"x\":[\"1 year\",\"10+ years\",\"2 years\",\"3 years\",\"4 years\",\"5 years\",\"6 years\",\"7 years\",\"8 years\",\"9 years\",\"< 1 year\"],\"y\":[89.68079365738242,90.83378394616679,89.68648076866572,89.88302349471452,90.08208551325997,89.33644521347229,89.02209361076662,89.71343309781894,89.66729505273348,89.32038834951457,88.96630615640599],\"type\":\"bar\",\"xaxis\":\"x6\",\"yaxis\":\"y6\"},{\"hovertext\":[\"emp_length\",\"percent\"],\"marker\":{\"color\":\"rgb(26, 118, 255)\"},\"name\":\"0\",\"showlegend\":true,\"x\":[\"1 year\",\"10+ years\",\"2 years\",\"3 years\",\"4 years\",\"5 years\",\"6 years\",\"7 years\",\"8 years\",\"9 years\",\"< 1 year\"],\"y\":[10.319206342617575,9.166216053833214,10.313519231334293,10.116976505285482,9.917914486740033,10.663554786527705,10.977906389233384,10.286566902181068,10.332704947266521,10.679611650485436,11.03369384359401],\"type\":\"bar\",\"xaxis\":\"x6\",\"yaxis\":\"y6\"}],                        {\"template\":{\"data\":{\"bar\":[{\"error_x\":{\"color\":\"#2a3f5f\"},\"error_y\":{\"color\":\"#2a3f5f\"},\"marker\":{\"line\":{\"color\":\"#E5ECF6\",\"width\":0.5},\"pattern\":{\"fillmode\":\"overlay\",\"size\":10,\"solidity\":0.2}},\"type\":\"bar\"}],\"barpolar\":[{\"marker\":{\"line\":{\"color\":\"#E5ECF6\",\"width\":0.5},\"pattern\":{\"fillmode\":\"overlay\",\"size\":10,\"solidity\":0.2}},\"type\":\"barpolar\"}],\"carpet\":[{\"aaxis\":{\"endlinecolor\":\"#2a3f5f\",\"gridcolor\":\"white\",\"linecolor\":\"white\",\"minorgridcolor\":\"white\",\"startlinecolor\":\"#2a3f5f\"},\"baxis\":{\"endlinecolor\":\"#2a3f5f\",\"gridcolor\":\"white\",\"linecolor\":\"white\",\"minorgridcolor\":\"white\",\"startlinecolor\":\"#2a3f5f\"},\"type\":\"carpet\"}],\"choropleth\":[{\"colorbar\":{\"outlinewidth\":0,\"ticks\":\"\"},\"type\":\"choropleth\"}],\"contour\":[{\"colorbar\":{\"outlinewidth\":0,\"ticks\":\"\"},\"colorscale\":[[0.0,\"#0d0887\"],[0.1111111111111111,\"#46039f\"],[0.2222222222222222,\"#7201a8\"],[0.3333333333333333,\"#9c179e\"],[0.4444444444444444,\"#bd3786\"],[0.5555555555555556,\"#d8576b\"],[0.6666666666666666,\"#ed7953\"],[0.7777777777777778,\"#fb9f3a\"],[0.8888888888888888,\"#fdca26\"],[1.0,\"#f0f921\"]],\"type\":\"contour\"}],\"contourcarpet\":[{\"colorbar\":{\"outlinewidth\":0,\"ticks\":\"\"},\"type\":\"contourcarpet\"}],\"heatmap\":[{\"colorbar\":{\"outlinewidth\":0,\"ticks\":\"\"},\"colorscale\":[[0.0,\"#0d0887\"],[0.1111111111111111,\"#46039f\"],[0.2222222222222222,\"#7201a8\"],[0.3333333333333333,\"#9c179e\"],[0.4444444444444444,\"#bd3786\"],[0.5555555555555556,\"#d8576b\"],[0.6666666666666666,\"#ed7953\"],[0.7777777777777778,\"#fb9f3a\"],[0.8888888888888888,\"#fdca26\"],[1.0,\"#f0f921\"]],\"type\":\"heatmap\"}],\"heatmapgl\":[{\"colorbar\":{\"outlinewidth\":0,\"ticks\":\"\"},\"colorscale\":[[0.0,\"#0d0887\"],[0.1111111111111111,\"#46039f\"],[0.2222222222222222,\"#7201a8\"],[0.3333333333333333,\"#9c179e\"],[0.4444444444444444,\"#bd3786\"],[0.5555555555555556,\"#d8576b\"],[0.6666666666666666,\"#ed7953\"],[0.7777777777777778,\"#fb9f3a\"],[0.8888888888888888,\"#fdca26\"],[1.0,\"#f0f921\"]],\"type\":\"heatmapgl\"}],\"histogram\":[{\"marker\":{\"pattern\":{\"fillmode\":\"overlay\",\"size\":10,\"solidity\":0.2}},\"type\":\"histogram\"}],\"histogram2d\":[{\"colorbar\":{\"outlinewidth\":0,\"ticks\":\"\"},\"colorscale\":[[0.0,\"#0d0887\"],[0.1111111111111111,\"#46039f\"],[0.2222222222222222,\"#7201a8\"],[0.3333333333333333,\"#9c179e\"],[0.4444444444444444,\"#bd3786\"],[0.5555555555555556,\"#d8576b\"],[0.6666666666666666,\"#ed7953\"],[0.7777777777777778,\"#fb9f3a\"],[0.8888888888888888,\"#fdca26\"],[1.0,\"#f0f921\"]],\"type\":\"histogram2d\"}],\"histogram2dcontour\":[{\"colorbar\":{\"outlinewidth\":0,\"ticks\":\"\"},\"colorscale\":[[0.0,\"#0d0887\"],[0.1111111111111111,\"#46039f\"],[0.2222222222222222,\"#7201a8\"],[0.3333333333333333,\"#9c179e\"],[0.4444444444444444,\"#bd3786\"],[0.5555555555555556,\"#d8576b\"],[0.6666666666666666,\"#ed7953\"],[0.7777777777777778,\"#fb9f3a\"],[0.8888888888888888,\"#fdca26\"],[1.0,\"#f0f921\"]],\"type\":\"histogram2dcontour\"}],\"mesh3d\":[{\"colorbar\":{\"outlinewidth\":0,\"ticks\":\"\"},\"type\":\"mesh3d\"}],\"parcoords\":[{\"line\":{\"colorbar\":{\"outlinewidth\":0,\"ticks\":\"\"}},\"type\":\"parcoords\"}],\"pie\":[{\"automargin\":true,\"type\":\"pie\"}],\"scatter\":[{\"marker\":{\"colorbar\":{\"outlinewidth\":0,\"ticks\":\"\"}},\"type\":\"scatter\"}],\"scatter3d\":[{\"line\":{\"colorbar\":{\"outlinewidth\":0,\"ticks\":\"\"}},\"marker\":{\"colorbar\":{\"outlinewidth\":0,\"ticks\":\"\"}},\"type\":\"scatter3d\"}],\"scattercarpet\":[{\"marker\":{\"colorbar\":{\"outlinewidth\":0,\"ticks\":\"\"}},\"type\":\"scattercarpet\"}],\"scattergeo\":[{\"marker\":{\"colorbar\":{\"outlinewidth\":0,\"ticks\":\"\"}},\"type\":\"scattergeo\"}],\"scattergl\":[{\"marker\":{\"colorbar\":{\"outlinewidth\":0,\"ticks\":\"\"}},\"type\":\"scattergl\"}],\"scattermapbox\":[{\"marker\":{\"colorbar\":{\"outlinewidth\":0,\"ticks\":\"\"}},\"type\":\"scattermapbox\"}],\"scatterpolar\":[{\"marker\":{\"colorbar\":{\"outlinewidth\":0,\"ticks\":\"\"}},\"type\":\"scatterpolar\"}],\"scatterpolargl\":[{\"marker\":{\"colorbar\":{\"outlinewidth\":0,\"ticks\":\"\"}},\"type\":\"scatterpolargl\"}],\"scatterternary\":[{\"marker\":{\"colorbar\":{\"outlinewidth\":0,\"ticks\":\"\"}},\"type\":\"scatterternary\"}],\"surface\":[{\"colorbar\":{\"outlinewidth\":0,\"ticks\":\"\"},\"colorscale\":[[0.0,\"#0d0887\"],[0.1111111111111111,\"#46039f\"],[0.2222222222222222,\"#7201a8\"],[0.3333333333333333,\"#9c179e\"],[0.4444444444444444,\"#bd3786\"],[0.5555555555555556,\"#d8576b\"],[0.6666666666666666,\"#ed7953\"],[0.7777777777777778,\"#fb9f3a\"],[0.8888888888888888,\"#fdca26\"],[1.0,\"#f0f921\"]],\"type\":\"surface\"}],\"table\":[{\"cells\":{\"fill\":{\"color\":\"#EBF0F8\"},\"line\":{\"color\":\"white\"}},\"header\":{\"fill\":{\"color\":\"#C8D4E3\"},\"line\":{\"color\":\"white\"}},\"type\":\"table\"}]},\"layout\":{\"annotationdefaults\":{\"arrowcolor\":\"#2a3f5f\",\"arrowhead\":0,\"arrowwidth\":1},\"autotypenumbers\":\"strict\",\"coloraxis\":{\"colorbar\":{\"outlinewidth\":0,\"ticks\":\"\"}},\"colorscale\":{\"diverging\":[[0,\"#8e0152\"],[0.1,\"#c51b7d\"],[0.2,\"#de77ae\"],[0.3,\"#f1b6da\"],[0.4,\"#fde0ef\"],[0.5,\"#f7f7f7\"],[0.6,\"#e6f5d0\"],[0.7,\"#b8e186\"],[0.8,\"#7fbc41\"],[0.9,\"#4d9221\"],[1,\"#276419\"]],\"sequential\":[[0.0,\"#0d0887\"],[0.1111111111111111,\"#46039f\"],[0.2222222222222222,\"#7201a8\"],[0.3333333333333333,\"#9c179e\"],[0.4444444444444444,\"#bd3786\"],[0.5555555555555556,\"#d8576b\"],[0.6666666666666666,\"#ed7953\"],[0.7777777777777778,\"#fb9f3a\"],[0.8888888888888888,\"#fdca26\"],[1.0,\"#f0f921\"]],\"sequentialminus\":[[0.0,\"#0d0887\"],[0.1111111111111111,\"#46039f\"],[0.2222222222222222,\"#7201a8\"],[0.3333333333333333,\"#9c179e\"],[0.4444444444444444,\"#bd3786\"],[0.5555555555555556,\"#d8576b\"],[0.6666666666666666,\"#ed7953\"],[0.7777777777777778,\"#fb9f3a\"],[0.8888888888888888,\"#fdca26\"],[1.0,\"#f0f921\"]]},\"colorway\":[\"#636efa\",\"#EF553B\",\"#00cc96\",\"#ab63fa\",\"#FFA15A\",\"#19d3f3\",\"#FF6692\",\"#B6E880\",\"#FF97FF\",\"#FECB52\"],\"font\":{\"color\":\"#2a3f5f\"},\"geo\":{\"bgcolor\":\"white\",\"lakecolor\":\"white\",\"landcolor\":\"#E5ECF6\",\"showlakes\":true,\"showland\":true,\"subunitcolor\":\"white\"},\"hoverlabel\":{\"align\":\"left\"},\"hovermode\":\"closest\",\"mapbox\":{\"style\":\"light\"},\"paper_bgcolor\":\"white\",\"plot_bgcolor\":\"#E5ECF6\",\"polar\":{\"angularaxis\":{\"gridcolor\":\"white\",\"linecolor\":\"white\",\"ticks\":\"\"},\"bgcolor\":\"#E5ECF6\",\"radialaxis\":{\"gridcolor\":\"white\",\"linecolor\":\"white\",\"ticks\":\"\"}},\"scene\":{\"xaxis\":{\"backgroundcolor\":\"#E5ECF6\",\"gridcolor\":\"white\",\"gridwidth\":2,\"linecolor\":\"white\",\"showbackground\":true,\"ticks\":\"\",\"zerolinecolor\":\"white\"},\"yaxis\":{\"backgroundcolor\":\"#E5ECF6\",\"gridcolor\":\"white\",\"gridwidth\":2,\"linecolor\":\"white\",\"showbackground\":true,\"ticks\":\"\",\"zerolinecolor\":\"white\"},\"zaxis\":{\"backgroundcolor\":\"#E5ECF6\",\"gridcolor\":\"white\",\"gridwidth\":2,\"linecolor\":\"white\",\"showbackground\":true,\"ticks\":\"\",\"zerolinecolor\":\"white\"}},\"shapedefaults\":{\"line\":{\"color\":\"#2a3f5f\"}},\"ternary\":{\"aaxis\":{\"gridcolor\":\"white\",\"linecolor\":\"white\",\"ticks\":\"\"},\"baxis\":{\"gridcolor\":\"white\",\"linecolor\":\"white\",\"ticks\":\"\"},\"bgcolor\":\"#E5ECF6\",\"caxis\":{\"gridcolor\":\"white\",\"linecolor\":\"white\",\"ticks\":\"\"}},\"title\":{\"x\":0.05},\"xaxis\":{\"automargin\":true,\"gridcolor\":\"white\",\"linecolor\":\"white\",\"ticks\":\"\",\"title\":{\"standoff\":15},\"zerolinecolor\":\"white\",\"zerolinewidth\":2},\"yaxis\":{\"automargin\":true,\"gridcolor\":\"white\",\"linecolor\":\"white\",\"ticks\":\"\",\"title\":{\"standoff\":15},\"zerolinecolor\":\"white\",\"zerolinewidth\":2}}},\"xaxis\":{\"anchor\":\"y\",\"domain\":[0.0,0.45],\"tickfont\":{\"size\":14}},\"yaxis\":{\"anchor\":\"x\",\"domain\":[0.84375,1.0],\"range\":[0,100],\"title\":{\"text\":\"Distribution percent \",\"font\":{\"size\":16}},\"tickfont\":{\"size\":14}},\"xaxis2\":{\"anchor\":\"y2\",\"domain\":[0.55,1.0]},\"yaxis2\":{\"anchor\":\"x2\",\"domain\":[0.84375,1.0],\"range\":[0,100]},\"xaxis3\":{\"anchor\":\"y3\",\"domain\":[0.0,0.45]},\"yaxis3\":{\"anchor\":\"x3\",\"domain\":[0.5625,0.71875],\"range\":[0,100]},\"xaxis4\":{\"anchor\":\"y4\",\"domain\":[0.55,1.0]},\"yaxis4\":{\"anchor\":\"x4\",\"domain\":[0.5625,0.71875],\"range\":[0,100]},\"xaxis5\":{\"anchor\":\"y5\",\"domain\":[0.0,0.45]},\"yaxis5\":{\"anchor\":\"x5\",\"domain\":[0.28125,0.4375],\"range\":[0,100]},\"xaxis6\":{\"anchor\":\"y6\",\"domain\":[0.55,1.0]},\"yaxis6\":{\"anchor\":\"x6\",\"domain\":[0.28125,0.4375],\"range\":[0,100]},\"xaxis7\":{\"anchor\":\"y7\",\"domain\":[0.0,0.45]},\"yaxis7\":{\"anchor\":\"x7\",\"domain\":[0.0,0.15625],\"range\":[0,100]},\"xaxis8\":{\"anchor\":\"y8\",\"domain\":[0.55,1.0]},\"yaxis8\":{\"anchor\":\"x8\",\"domain\":[0.0,0.15625],\"range\":[0,100]},\"annotations\":[{\"font\":{\"size\":16},\"showarrow\":false,\"text\":\"term\",\"x\":0.225,\"xanchor\":\"center\",\"xref\":\"paper\",\"y\":1.0,\"yanchor\":\"bottom\",\"yref\":\"paper\"},{\"font\":{\"size\":16},\"showarrow\":false,\"text\":\"pub_rec\",\"x\":0.775,\"xanchor\":\"center\",\"xref\":\"paper\",\"y\":1.0,\"yanchor\":\"bottom\",\"yref\":\"paper\"},{\"font\":{\"size\":16},\"showarrow\":false,\"text\":\"home_ownership\",\"x\":0.225,\"xanchor\":\"center\",\"xref\":\"paper\",\"y\":0.71875,\"yanchor\":\"bottom\",\"yref\":\"paper\"},{\"font\":{\"size\":16},\"showarrow\":false,\"text\":\"initial_list_status\",\"x\":0.775,\"xanchor\":\"center\",\"xref\":\"paper\",\"y\":0.71875,\"yanchor\":\"bottom\",\"yref\":\"paper\"},{\"font\":{\"size\":16},\"showarrow\":false,\"text\":\"purpose\",\"x\":0.225,\"xanchor\":\"center\",\"xref\":\"paper\",\"y\":0.4375,\"yanchor\":\"bottom\",\"yref\":\"paper\"},{\"font\":{\"size\":16},\"showarrow\":false,\"text\":\"emp_length\",\"x\":0.775,\"xanchor\":\"center\",\"xref\":\"paper\",\"y\":0.4375,\"yanchor\":\"bottom\",\"yref\":\"paper\"}],\"legend\":{\"x\":1,\"y\":1.0,\"bgcolor\":\"rgba(255, 255, 255, 0)\",\"bordercolor\":\"rgba(255, 255, 255, 0)\"},\"title\":{\"text\":\"Good status\"},\"barmode\":\"group\",\"bargap\":0.15,\"bargroupgap\":0.1,\"height\":1000,\"width\":900},                        {\"responsive\": true}                    ).then(function(){\n",
       "                            \n",
       "var gd = document.getElementById('8051cce2-ae57-4b2c-b6ea-36fb5ee436f0');\n",
       "var x = new MutationObserver(function (mutations, observer) {{\n",
       "        var display = window.getComputedStyle(gd).display;\n",
       "        if (!display || display === 'none') {{\n",
       "            console.log([gd, 'removed!']);\n",
       "            Plotly.purge(gd);\n",
       "            observer.disconnect();\n",
       "        }}\n",
       "}});\n",
       "\n",
       "// Listen for the removal of the full notebook cells\n",
       "var notebookContainer = gd.closest('#notebook-container');\n",
       "if (notebookContainer) {{\n",
       "    x.observe(notebookContainer, {childList: true});\n",
       "}}\n",
       "\n",
       "// Listen for the clearing of the current output cell\n",
       "var outputEl = gd.closest('.output');\n",
       "if (outputEl) {{\n",
       "    x.observe(outputEl, {childList: true});\n",
       "}}\n",
       "\n",
       "                        })                };                });            </script>        </div>"
      ]
     },
     "metadata": {},
     "output_type": "display_data"
    }
   ],
   "source": [
    "df.loc[df[\"home_ownership\"] == \"ANY\",\"home_ownership\"] = 'NONE'\n",
    "var_cat=['term','pub_rec','home_ownership','initial_list_status','purpose','emp_length']\n",
    "fig_ = make_subplots(rows=4, cols=2,subplot_titles =var_cat)\n",
    "fig_ =plot_barplot(df, var_cat[0],\"good_status\", 1,1,fig_,True)\n",
    "fig_ =plot_barplot(df, var_cat[1],\"good_status\", 1,2,fig_, True)\n",
    "fig_ =plot_barplot(df, var_cat[2],\"good_status\", 2,1,fig_, True)\n",
    "fig_ =plot_barplot(df, var_cat[3],\"good_status\", 2,2,fig_, True)\n",
    "fig_ =plot_barplot(df, var_cat[4],\"good_status\", 3,1,fig_, True)\n",
    "fig_ =plot_barplot(df, var_cat[5],\"good_status\", 3,2,fig_, True)\n",
    "# fig_ =plot_barplot(df, var_cat[6],\"good_status\", 4,1,fig_, True)\n",
    "fig_.update_layout(\n",
    "    title=\"Good status\",\n",
    "    xaxis_tickfont_size=14,\n",
    "    yaxis=dict(\n",
    "        title='Distribution percent ',\n",
    "        titlefont_size=16,\n",
    "        tickfont_size=14,\n",
    "    ),\n",
    "    legend=dict(\n",
    "        x=1,\n",
    "        y=1.0,\n",
    "        bgcolor='rgba(255, 255, 255, 0)',\n",
    "        bordercolor='rgba(255, 255, 255, 0)'\n",
    "    ),\n",
    "    barmode='group',\n",
    "    bargap=0.15, # gap between bars of adjacent location coordinates.\n",
    "    bargroupgap=0.1, # gap between bars of the same location coordinate.\n",
    "    height=1000, width=900\n",
    "    )"
   ]
  },
  {
   "cell_type": "markdown",
   "id": "46f85342-952e-426b-8ddb-d7dcb1c9d6fb",
   "metadata": {
    "id": "46f85342-952e-426b-8ddb-d7dcb1c9d6fb",
    "tags": []
   },
   "source": [
    "\n",
    "\n",
    "## ¿Cómo afectan las variables?\n",
    "\n",
    "* Cuando el número de pagos es $>$ 36 meses la probabilidad de incumplimiento es mayor, es decir, un usuario puede inclumir si tiene mas número de pagos al inicio del prestamo.\n",
    "\n",
    "* Si el usuario marca NONE o OTHER o RENT influye negativamente, es decir, aumenta la probabilidad de que incumpla sus obligaciones financieras.\n",
    "\n",
    "* Si el proposito del prestamo es small_business, house, weddlng aumenta la probabilidad de que incumpla sus obligaciones financieras.\n",
    "\n",
    "* A medida que el usuario tiene menor tiempo de trabajo, aumenta la probabilidad de que incumpla sus obligaciones financieras.\n",
    "\n",
    "\n",
    "# Modelos\n",
    "\n",
    "Se plantean diferentes modelos aplicando validación cruzada 80\\% prueba 20\\% test. \n",
    "\n",
    "Luego de ensayar modelos se encontro que el valor de probabilidad de cambio mas adecuado es 0.8, es decir, si la probabilidad >=0.8 __good_status__ 1, por el contrario 0.\n",
    "\n",
    "## Partición de datos"
   ]
  },
  {
   "cell_type": "code",
   "execution_count": 329,
   "id": "3a74f8b5-7581-4ab2-94af-0cc989090544",
   "metadata": {
    "id": "3a74f8b5-7581-4ab2-94af-0cc989090544",
    "outputId": "3843947a-92ba-4748-cb65-00761f6f7b83"
   },
   "outputs": [],
   "source": [
    "df_modelo=df[variables_final].copy()\n",
    "df_modelo.loc[df_modelo[\"home_ownership\"] == \"ANY\",\"home_ownership\"] = 'NONE'\n",
    "X = df_modelo.drop('good_status', axis = 1).copy()\n",
    "X=dummy_creation(X, [\"term\",\"home_ownership\", \"purpose\",'initial_list_status','emp_length'])\n",
    "PCA_5.explained_variance_ratio_\n",
    "y = df_modelo['good_status'].copy()\n",
    "# y= np.where(y==1,0,1)\n",
    "X_train, X_test, y_train, y_test = train_test_split(X, y, test_size = 0.2, random_state = 421)#, stratify = y)\n",
    "X_train, X_test = X_train.copy(), X_test.copy()\n",
    "result=pd.DataFrame({\"\":[\"Filas\", \"Columnas\"] ,\"Trian\":X_train.shape,\"Test\":X_test.shape })"
   ]
  },
  {
   "cell_type": "markdown",
   "id": "6a5a99e9-b88c-4fbf-baa2-ffa44d549ba7",
   "metadata": {
    "id": "6a5a99e9-b88c-4fbf-baa2-ffa44d549ba7"
   },
   "source": [
    "`r kbl(py$result, escape = F, align = \"l\", caption=\"Dimensiones partición\",row.names=F,digits =2) %>%  kable_classic_2(\"striped\", full_width = F)`\n",
    "\n",
    "\n",
    "\n",
    "\n",
    "## Modelo K-nn\n",
    "\n",
    "Se prueban modelos con k= 1 hasta 10 y encontramos la proporción de aciertos mas optima que sea un modelo generalizado.\n"
   ]
  },
  {
   "cell_type": "code",
   "execution_count": null,
   "id": "a06207b8-39b0-47c4-8718-921d27ed6751",
   "metadata": {
    "collapsed": true,
    "id": "a06207b8-39b0-47c4-8718-921d27ed6751",
    "jupyter": {
     "outputs_hidden": true
    },
    "outputId": "e8645e33-beec-45bb-ed97-3c654bfe0f5f",
    "tags": []
   },
   "outputs": [
    {
     "name": "stderr",
     "output_type": "stream",
     "text": [
      "  0%|                                                                                           | 0/10 [00:45<?, ?it/s]\n"
     ]
    },
    {
     "ename": "KeyboardInterrupt",
     "evalue": "",
     "output_type": "error",
     "traceback": [
      "\u001b[1;31m---------------------------------------------------------------------------\u001b[0m",
      "\u001b[1;31mKeyboardInterrupt\u001b[0m                         Traceback (most recent call last)",
      "Input \u001b[1;32mIn [21]\u001b[0m, in \u001b[0;36m<cell line: 3>\u001b[1;34m()\u001b[0m\n\u001b[0;32m      4\u001b[0m neigh \u001b[38;5;241m=\u001b[39m KNeighborsClassifier(n_neighbors\u001b[38;5;241m=\u001b[39mi)\n\u001b[0;32m      5\u001b[0m neigh\u001b[38;5;241m.\u001b[39mfit(X_train, y_train)\n\u001b[1;32m----> 6\u001b[0m score_train\u001b[38;5;241m.\u001b[39mappend(accuracy_score(y_train, \u001b[43mneigh\u001b[49m\u001b[38;5;241;43m.\u001b[39;49m\u001b[43mpredict\u001b[49m\u001b[43m(\u001b[49m\u001b[43mX_train\u001b[49m\u001b[43m)\u001b[49m))\n\u001b[0;32m      7\u001b[0m score_test\u001b[38;5;241m.\u001b[39mappend(accuracy_score(y_test, neigh\u001b[38;5;241m.\u001b[39mpredict(X_test)))\n",
      "File \u001b[1;32mC:\\ProgramData\\Anaconda3\\lib\\site-packages\\sklearn\\neighbors\\_classification.py:214\u001b[0m, in \u001b[0;36mKNeighborsClassifier.predict\u001b[1;34m(self, X)\u001b[0m\n\u001b[0;32m    200\u001b[0m \u001b[38;5;28;01mdef\u001b[39;00m \u001b[38;5;21mpredict\u001b[39m(\u001b[38;5;28mself\u001b[39m, X):\n\u001b[0;32m    201\u001b[0m     \u001b[38;5;124;03m\"\"\"Predict the class labels for the provided data.\u001b[39;00m\n\u001b[0;32m    202\u001b[0m \n\u001b[0;32m    203\u001b[0m \u001b[38;5;124;03m    Parameters\u001b[39;00m\n\u001b[1;32m   (...)\u001b[0m\n\u001b[0;32m    212\u001b[0m \u001b[38;5;124;03m        Class labels for each data sample.\u001b[39;00m\n\u001b[0;32m    213\u001b[0m \u001b[38;5;124;03m    \"\"\"\u001b[39;00m\n\u001b[1;32m--> 214\u001b[0m     neigh_dist, neigh_ind \u001b[38;5;241m=\u001b[39m \u001b[38;5;28;43mself\u001b[39;49m\u001b[38;5;241;43m.\u001b[39;49m\u001b[43mkneighbors\u001b[49m\u001b[43m(\u001b[49m\u001b[43mX\u001b[49m\u001b[43m)\u001b[49m\n\u001b[0;32m    215\u001b[0m     classes_ \u001b[38;5;241m=\u001b[39m \u001b[38;5;28mself\u001b[39m\u001b[38;5;241m.\u001b[39mclasses_\n\u001b[0;32m    216\u001b[0m     _y \u001b[38;5;241m=\u001b[39m \u001b[38;5;28mself\u001b[39m\u001b[38;5;241m.\u001b[39m_y\n",
      "File \u001b[1;32mC:\\ProgramData\\Anaconda3\\lib\\site-packages\\sklearn\\neighbors\\_base.py:752\u001b[0m, in \u001b[0;36mKNeighborsMixin.kneighbors\u001b[1;34m(self, X, n_neighbors, return_distance)\u001b[0m\n\u001b[0;32m    749\u001b[0m     \u001b[38;5;28;01melse\u001b[39;00m:\n\u001b[0;32m    750\u001b[0m         kwds \u001b[38;5;241m=\u001b[39m \u001b[38;5;28mself\u001b[39m\u001b[38;5;241m.\u001b[39meffective_metric_params_\n\u001b[1;32m--> 752\u001b[0m     chunked_results \u001b[38;5;241m=\u001b[39m \u001b[38;5;28;43mlist\u001b[39;49m\u001b[43m(\u001b[49m\n\u001b[0;32m    753\u001b[0m \u001b[43m        \u001b[49m\u001b[43mpairwise_distances_chunked\u001b[49m\u001b[43m(\u001b[49m\n\u001b[0;32m    754\u001b[0m \u001b[43m            \u001b[49m\u001b[43mX\u001b[49m\u001b[43m,\u001b[49m\n\u001b[0;32m    755\u001b[0m \u001b[43m            \u001b[49m\u001b[38;5;28;43mself\u001b[39;49m\u001b[38;5;241;43m.\u001b[39;49m\u001b[43m_fit_X\u001b[49m\u001b[43m,\u001b[49m\n\u001b[0;32m    756\u001b[0m \u001b[43m            \u001b[49m\u001b[43mreduce_func\u001b[49m\u001b[38;5;241;43m=\u001b[39;49m\u001b[43mreduce_func\u001b[49m\u001b[43m,\u001b[49m\n\u001b[0;32m    757\u001b[0m \u001b[43m            \u001b[49m\u001b[43mmetric\u001b[49m\u001b[38;5;241;43m=\u001b[39;49m\u001b[38;5;28;43mself\u001b[39;49m\u001b[38;5;241;43m.\u001b[39;49m\u001b[43meffective_metric_\u001b[49m\u001b[43m,\u001b[49m\n\u001b[0;32m    758\u001b[0m \u001b[43m            \u001b[49m\u001b[43mn_jobs\u001b[49m\u001b[38;5;241;43m=\u001b[39;49m\u001b[43mn_jobs\u001b[49m\u001b[43m,\u001b[49m\n\u001b[0;32m    759\u001b[0m \u001b[43m            \u001b[49m\u001b[38;5;241;43m*\u001b[39;49m\u001b[38;5;241;43m*\u001b[39;49m\u001b[43mkwds\u001b[49m\u001b[43m,\u001b[49m\n\u001b[0;32m    760\u001b[0m \u001b[43m        \u001b[49m\u001b[43m)\u001b[49m\n\u001b[0;32m    761\u001b[0m \u001b[43m    \u001b[49m\u001b[43m)\u001b[49m\n\u001b[0;32m    763\u001b[0m \u001b[38;5;28;01melif\u001b[39;00m \u001b[38;5;28mself\u001b[39m\u001b[38;5;241m.\u001b[39m_fit_method \u001b[38;5;129;01min\u001b[39;00m [\u001b[38;5;124m\"\u001b[39m\u001b[38;5;124mball_tree\u001b[39m\u001b[38;5;124m\"\u001b[39m, \u001b[38;5;124m\"\u001b[39m\u001b[38;5;124mkd_tree\u001b[39m\u001b[38;5;124m\"\u001b[39m]:\n\u001b[0;32m    764\u001b[0m     \u001b[38;5;28;01mif\u001b[39;00m issparse(X):\n",
      "File \u001b[1;32mC:\\ProgramData\\Anaconda3\\lib\\site-packages\\sklearn\\metrics\\pairwise.py:1717\u001b[0m, in \u001b[0;36mpairwise_distances_chunked\u001b[1;34m(X, Y, reduce_func, metric, n_jobs, working_memory, **kwds)\u001b[0m\n\u001b[0;32m   1715\u001b[0m \u001b[38;5;28;01melse\u001b[39;00m:\n\u001b[0;32m   1716\u001b[0m     X_chunk \u001b[38;5;241m=\u001b[39m X[sl]\n\u001b[1;32m-> 1717\u001b[0m D_chunk \u001b[38;5;241m=\u001b[39m pairwise_distances(X_chunk, Y, metric\u001b[38;5;241m=\u001b[39mmetric, n_jobs\u001b[38;5;241m=\u001b[39mn_jobs, \u001b[38;5;241m*\u001b[39m\u001b[38;5;241m*\u001b[39mkwds)\n\u001b[0;32m   1718\u001b[0m \u001b[38;5;28;01mif\u001b[39;00m (X \u001b[38;5;129;01mis\u001b[39;00m Y \u001b[38;5;129;01mor\u001b[39;00m Y \u001b[38;5;129;01mis\u001b[39;00m \u001b[38;5;28;01mNone\u001b[39;00m) \u001b[38;5;129;01mand\u001b[39;00m PAIRWISE_DISTANCE_FUNCTIONS\u001b[38;5;241m.\u001b[39mget(\n\u001b[0;32m   1719\u001b[0m     metric, \u001b[38;5;28;01mNone\u001b[39;00m\n\u001b[0;32m   1720\u001b[0m ) \u001b[38;5;129;01mis\u001b[39;00m euclidean_distances:\n\u001b[0;32m   1721\u001b[0m     \u001b[38;5;66;03m# zeroing diagonal, taking care of aliases of \"euclidean\",\u001b[39;00m\n\u001b[0;32m   1722\u001b[0m     \u001b[38;5;66;03m# i.e. \"l2\"\u001b[39;00m\n\u001b[0;32m   1723\u001b[0m     D_chunk\u001b[38;5;241m.\u001b[39mflat[sl\u001b[38;5;241m.\u001b[39mstart :: _num_samples(X) \u001b[38;5;241m+\u001b[39m \u001b[38;5;241m1\u001b[39m] \u001b[38;5;241m=\u001b[39m \u001b[38;5;241m0\u001b[39m\n",
      "File \u001b[1;32mC:\\ProgramData\\Anaconda3\\lib\\site-packages\\sklearn\\metrics\\pairwise.py:1889\u001b[0m, in \u001b[0;36mpairwise_distances\u001b[1;34m(X, Y, metric, n_jobs, force_all_finite, **kwds)\u001b[0m\n\u001b[0;32m   1886\u001b[0m         \u001b[38;5;28;01mreturn\u001b[39;00m distance\u001b[38;5;241m.\u001b[39msquareform(distance\u001b[38;5;241m.\u001b[39mpdist(X, metric\u001b[38;5;241m=\u001b[39mmetric, \u001b[38;5;241m*\u001b[39m\u001b[38;5;241m*\u001b[39mkwds))\n\u001b[0;32m   1887\u001b[0m     func \u001b[38;5;241m=\u001b[39m partial(distance\u001b[38;5;241m.\u001b[39mcdist, metric\u001b[38;5;241m=\u001b[39mmetric, \u001b[38;5;241m*\u001b[39m\u001b[38;5;241m*\u001b[39mkwds)\n\u001b[1;32m-> 1889\u001b[0m \u001b[38;5;28;01mreturn\u001b[39;00m _parallel_pairwise(X, Y, func, n_jobs, \u001b[38;5;241m*\u001b[39m\u001b[38;5;241m*\u001b[39mkwds)\n",
      "File \u001b[1;32mC:\\ProgramData\\Anaconda3\\lib\\site-packages\\sklearn\\metrics\\pairwise.py:1430\u001b[0m, in \u001b[0;36m_parallel_pairwise\u001b[1;34m(X, Y, func, n_jobs, **kwds)\u001b[0m\n\u001b[0;32m   1427\u001b[0m X, Y, dtype \u001b[38;5;241m=\u001b[39m _return_float_dtype(X, Y)\n\u001b[0;32m   1429\u001b[0m \u001b[38;5;28;01mif\u001b[39;00m effective_n_jobs(n_jobs) \u001b[38;5;241m==\u001b[39m \u001b[38;5;241m1\u001b[39m:\n\u001b[1;32m-> 1430\u001b[0m     \u001b[38;5;28;01mreturn\u001b[39;00m func(X, Y, \u001b[38;5;241m*\u001b[39m\u001b[38;5;241m*\u001b[39mkwds)\n\u001b[0;32m   1432\u001b[0m \u001b[38;5;66;03m# enforce a threading backend to prevent data communication overhead\u001b[39;00m\n\u001b[0;32m   1433\u001b[0m fd \u001b[38;5;241m=\u001b[39m delayed(_dist_wrapper)\n",
      "File \u001b[1;32mC:\\ProgramData\\Anaconda3\\lib\\site-packages\\sklearn\\metrics\\pairwise.py:330\u001b[0m, in \u001b[0;36meuclidean_distances\u001b[1;34m(X, Y, Y_norm_squared, squared, X_norm_squared)\u001b[0m\n\u001b[0;32m    324\u001b[0m     \u001b[38;5;28;01mif\u001b[39;00m Y_norm_squared\u001b[38;5;241m.\u001b[39mshape \u001b[38;5;241m!=\u001b[39m (\u001b[38;5;241m1\u001b[39m, Y\u001b[38;5;241m.\u001b[39mshape[\u001b[38;5;241m0\u001b[39m]):\n\u001b[0;32m    325\u001b[0m         \u001b[38;5;28;01mraise\u001b[39;00m \u001b[38;5;167;01mValueError\u001b[39;00m(\n\u001b[0;32m    326\u001b[0m             \u001b[38;5;124mf\u001b[39m\u001b[38;5;124m\"\u001b[39m\u001b[38;5;124mIncompatible dimensions for Y of shape \u001b[39m\u001b[38;5;132;01m{\u001b[39;00mY\u001b[38;5;241m.\u001b[39mshape\u001b[38;5;132;01m}\u001b[39;00m\u001b[38;5;124m and \u001b[39m\u001b[38;5;124m\"\u001b[39m\n\u001b[0;32m    327\u001b[0m             \u001b[38;5;124mf\u001b[39m\u001b[38;5;124m\"\u001b[39m\u001b[38;5;124mY_norm_squared of shape \u001b[39m\u001b[38;5;132;01m{\u001b[39;00moriginal_shape\u001b[38;5;132;01m}\u001b[39;00m\u001b[38;5;124m.\u001b[39m\u001b[38;5;124m\"\u001b[39m\n\u001b[0;32m    328\u001b[0m         )\n\u001b[1;32m--> 330\u001b[0m \u001b[38;5;28;01mreturn\u001b[39;00m \u001b[43m_euclidean_distances\u001b[49m\u001b[43m(\u001b[49m\u001b[43mX\u001b[49m\u001b[43m,\u001b[49m\u001b[43m \u001b[49m\u001b[43mY\u001b[49m\u001b[43m,\u001b[49m\u001b[43m \u001b[49m\u001b[43mX_norm_squared\u001b[49m\u001b[43m,\u001b[49m\u001b[43m \u001b[49m\u001b[43mY_norm_squared\u001b[49m\u001b[43m,\u001b[49m\u001b[43m \u001b[49m\u001b[43msquared\u001b[49m\u001b[43m)\u001b[49m\n",
      "File \u001b[1;32mC:\\ProgramData\\Anaconda3\\lib\\site-packages\\sklearn\\metrics\\pairwise.py:371\u001b[0m, in \u001b[0;36m_euclidean_distances\u001b[1;34m(X, Y, X_norm_squared, Y_norm_squared, squared)\u001b[0m\n\u001b[0;32m    368\u001b[0m     distances \u001b[38;5;241m=\u001b[39m _euclidean_distances_upcast(X, XX, Y, YY)\n\u001b[0;32m    369\u001b[0m \u001b[38;5;28;01melse\u001b[39;00m:\n\u001b[0;32m    370\u001b[0m     \u001b[38;5;66;03m# if dtype is already float64, no need to chunk and upcast\u001b[39;00m\n\u001b[1;32m--> 371\u001b[0m     distances \u001b[38;5;241m=\u001b[39m \u001b[38;5;241;43m-\u001b[39;49m\u001b[38;5;241;43m2\u001b[39;49m\u001b[43m \u001b[49m\u001b[38;5;241;43m*\u001b[39;49m\u001b[43m \u001b[49m\u001b[43msafe_sparse_dot\u001b[49m\u001b[43m(\u001b[49m\u001b[43mX\u001b[49m\u001b[43m,\u001b[49m\u001b[43m \u001b[49m\u001b[43mY\u001b[49m\u001b[38;5;241;43m.\u001b[39;49m\u001b[43mT\u001b[49m\u001b[43m,\u001b[49m\u001b[43m \u001b[49m\u001b[43mdense_output\u001b[49m\u001b[38;5;241;43m=\u001b[39;49m\u001b[38;5;28;43;01mTrue\u001b[39;49;00m\u001b[43m)\u001b[49m\n\u001b[0;32m    372\u001b[0m     distances \u001b[38;5;241m+\u001b[39m\u001b[38;5;241m=\u001b[39m XX\n\u001b[0;32m    373\u001b[0m     distances \u001b[38;5;241m+\u001b[39m\u001b[38;5;241m=\u001b[39m YY\n",
      "\u001b[1;31mKeyboardInterrupt\u001b[0m: "
     ]
    }
   ],
   "source": [
    "score_train = []\n",
    "score_test=[]\n",
    "for i in tqdm(range(1,11)):\n",
    "    neigh = KNeighborsClassifier(n_neighbors=i)\n",
    "    neigh.fit(X_train, y_train)\n",
    "    score_train.append(accuracy_score(y_train, neigh.predict(X_train)))\n",
    "    score_test.append(accuracy_score(y_test, neigh.predict(X_test)))"
   ]
  },
  {
   "cell_type": "code",
   "execution_count": null,
   "id": "b0dcc9f6-83fb-4bd0-a220-0b0d383b4742",
   "metadata": {
    "id": "b0dcc9f6-83fb-4bd0-a220-0b0d383b4742",
    "outputId": "12311eae-93be-4a6a-8991-f3c5771d796c"
   },
   "outputs": [
    {
     "data": {
      "application/vnd.plotly.v1+json": {
       "config": {
        "plotlyServerURL": "https://plot.ly"
       },
       "data": [
        {
         "name": "Train",
         "type": "scatter",
         "x": [
          1,
          2,
          3,
          4,
          5,
          6,
          7,
          8,
          9,
          10
         ],
         "xaxis": "x",
         "y": [
          99.9131440846812,
          92.01886961335856,
          91.51066305540544,
          90.74387781825895,
          90.47435927186896,
          90.33578762071149,
          90.20616676998763,
          90.17964587981396,
          90.07521987475509,
          90.07555138588228
         ],
         "yaxis": "y"
        },
        {
         "name": "Test",
         "type": "scatter",
         "x": [
          1,
          2,
          3,
          4,
          5,
          6,
          7,
          8,
          9,
          10
         ],
         "xaxis": "x",
         "y": [
          83.49886624322066,
          77.12065558988503,
          87.97820004508506,
          86.22783870155013,
          89.28699295877368,
          88.6372376115524,
          89.76303820296235,
          89.4912017821861,
          89.93277021203241,
          89.82005754975933
         ],
         "yaxis": "y"
        }
       ],
       "layout": {
        "height": 600,
        "template": {
         "data": {
          "bar": [
           {
            "error_x": {
             "color": "#2a3f5f"
            },
            "error_y": {
             "color": "#2a3f5f"
            },
            "marker": {
             "line": {
              "color": "#E5ECF6",
              "width": 0.5
             },
             "pattern": {
              "fillmode": "overlay",
              "size": 10,
              "solidity": 0.2
             }
            },
            "type": "bar"
           }
          ],
          "barpolar": [
           {
            "marker": {
             "line": {
              "color": "#E5ECF6",
              "width": 0.5
             },
             "pattern": {
              "fillmode": "overlay",
              "size": 10,
              "solidity": 0.2
             }
            },
            "type": "barpolar"
           }
          ],
          "carpet": [
           {
            "aaxis": {
             "endlinecolor": "#2a3f5f",
             "gridcolor": "white",
             "linecolor": "white",
             "minorgridcolor": "white",
             "startlinecolor": "#2a3f5f"
            },
            "baxis": {
             "endlinecolor": "#2a3f5f",
             "gridcolor": "white",
             "linecolor": "white",
             "minorgridcolor": "white",
             "startlinecolor": "#2a3f5f"
            },
            "type": "carpet"
           }
          ],
          "choropleth": [
           {
            "colorbar": {
             "outlinewidth": 0,
             "ticks": ""
            },
            "type": "choropleth"
           }
          ],
          "contour": [
           {
            "colorbar": {
             "outlinewidth": 0,
             "ticks": ""
            },
            "colorscale": [
             [
              0,
              "#0d0887"
             ],
             [
              0.1111111111111111,
              "#46039f"
             ],
             [
              0.2222222222222222,
              "#7201a8"
             ],
             [
              0.3333333333333333,
              "#9c179e"
             ],
             [
              0.4444444444444444,
              "#bd3786"
             ],
             [
              0.5555555555555556,
              "#d8576b"
             ],
             [
              0.6666666666666666,
              "#ed7953"
             ],
             [
              0.7777777777777778,
              "#fb9f3a"
             ],
             [
              0.8888888888888888,
              "#fdca26"
             ],
             [
              1,
              "#f0f921"
             ]
            ],
            "type": "contour"
           }
          ],
          "contourcarpet": [
           {
            "colorbar": {
             "outlinewidth": 0,
             "ticks": ""
            },
            "type": "contourcarpet"
           }
          ],
          "heatmap": [
           {
            "colorbar": {
             "outlinewidth": 0,
             "ticks": ""
            },
            "colorscale": [
             [
              0,
              "#0d0887"
             ],
             [
              0.1111111111111111,
              "#46039f"
             ],
             [
              0.2222222222222222,
              "#7201a8"
             ],
             [
              0.3333333333333333,
              "#9c179e"
             ],
             [
              0.4444444444444444,
              "#bd3786"
             ],
             [
              0.5555555555555556,
              "#d8576b"
             ],
             [
              0.6666666666666666,
              "#ed7953"
             ],
             [
              0.7777777777777778,
              "#fb9f3a"
             ],
             [
              0.8888888888888888,
              "#fdca26"
             ],
             [
              1,
              "#f0f921"
             ]
            ],
            "type": "heatmap"
           }
          ],
          "heatmapgl": [
           {
            "colorbar": {
             "outlinewidth": 0,
             "ticks": ""
            },
            "colorscale": [
             [
              0,
              "#0d0887"
             ],
             [
              0.1111111111111111,
              "#46039f"
             ],
             [
              0.2222222222222222,
              "#7201a8"
             ],
             [
              0.3333333333333333,
              "#9c179e"
             ],
             [
              0.4444444444444444,
              "#bd3786"
             ],
             [
              0.5555555555555556,
              "#d8576b"
             ],
             [
              0.6666666666666666,
              "#ed7953"
             ],
             [
              0.7777777777777778,
              "#fb9f3a"
             ],
             [
              0.8888888888888888,
              "#fdca26"
             ],
             [
              1,
              "#f0f921"
             ]
            ],
            "type": "heatmapgl"
           }
          ],
          "histogram": [
           {
            "marker": {
             "pattern": {
              "fillmode": "overlay",
              "size": 10,
              "solidity": 0.2
             }
            },
            "type": "histogram"
           }
          ],
          "histogram2d": [
           {
            "colorbar": {
             "outlinewidth": 0,
             "ticks": ""
            },
            "colorscale": [
             [
              0,
              "#0d0887"
             ],
             [
              0.1111111111111111,
              "#46039f"
             ],
             [
              0.2222222222222222,
              "#7201a8"
             ],
             [
              0.3333333333333333,
              "#9c179e"
             ],
             [
              0.4444444444444444,
              "#bd3786"
             ],
             [
              0.5555555555555556,
              "#d8576b"
             ],
             [
              0.6666666666666666,
              "#ed7953"
             ],
             [
              0.7777777777777778,
              "#fb9f3a"
             ],
             [
              0.8888888888888888,
              "#fdca26"
             ],
             [
              1,
              "#f0f921"
             ]
            ],
            "type": "histogram2d"
           }
          ],
          "histogram2dcontour": [
           {
            "colorbar": {
             "outlinewidth": 0,
             "ticks": ""
            },
            "colorscale": [
             [
              0,
              "#0d0887"
             ],
             [
              0.1111111111111111,
              "#46039f"
             ],
             [
              0.2222222222222222,
              "#7201a8"
             ],
             [
              0.3333333333333333,
              "#9c179e"
             ],
             [
              0.4444444444444444,
              "#bd3786"
             ],
             [
              0.5555555555555556,
              "#d8576b"
             ],
             [
              0.6666666666666666,
              "#ed7953"
             ],
             [
              0.7777777777777778,
              "#fb9f3a"
             ],
             [
              0.8888888888888888,
              "#fdca26"
             ],
             [
              1,
              "#f0f921"
             ]
            ],
            "type": "histogram2dcontour"
           }
          ],
          "mesh3d": [
           {
            "colorbar": {
             "outlinewidth": 0,
             "ticks": ""
            },
            "type": "mesh3d"
           }
          ],
          "parcoords": [
           {
            "line": {
             "colorbar": {
              "outlinewidth": 0,
              "ticks": ""
             }
            },
            "type": "parcoords"
           }
          ],
          "pie": [
           {
            "automargin": true,
            "type": "pie"
           }
          ],
          "scatter": [
           {
            "marker": {
             "colorbar": {
              "outlinewidth": 0,
              "ticks": ""
             }
            },
            "type": "scatter"
           }
          ],
          "scatter3d": [
           {
            "line": {
             "colorbar": {
              "outlinewidth": 0,
              "ticks": ""
             }
            },
            "marker": {
             "colorbar": {
              "outlinewidth": 0,
              "ticks": ""
             }
            },
            "type": "scatter3d"
           }
          ],
          "scattercarpet": [
           {
            "marker": {
             "colorbar": {
              "outlinewidth": 0,
              "ticks": ""
             }
            },
            "type": "scattercarpet"
           }
          ],
          "scattergeo": [
           {
            "marker": {
             "colorbar": {
              "outlinewidth": 0,
              "ticks": ""
             }
            },
            "type": "scattergeo"
           }
          ],
          "scattergl": [
           {
            "marker": {
             "colorbar": {
              "outlinewidth": 0,
              "ticks": ""
             }
            },
            "type": "scattergl"
           }
          ],
          "scattermapbox": [
           {
            "marker": {
             "colorbar": {
              "outlinewidth": 0,
              "ticks": ""
             }
            },
            "type": "scattermapbox"
           }
          ],
          "scatterpolar": [
           {
            "marker": {
             "colorbar": {
              "outlinewidth": 0,
              "ticks": ""
             }
            },
            "type": "scatterpolar"
           }
          ],
          "scatterpolargl": [
           {
            "marker": {
             "colorbar": {
              "outlinewidth": 0,
              "ticks": ""
             }
            },
            "type": "scatterpolargl"
           }
          ],
          "scatterternary": [
           {
            "marker": {
             "colorbar": {
              "outlinewidth": 0,
              "ticks": ""
             }
            },
            "type": "scatterternary"
           }
          ],
          "surface": [
           {
            "colorbar": {
             "outlinewidth": 0,
             "ticks": ""
            },
            "colorscale": [
             [
              0,
              "#0d0887"
             ],
             [
              0.1111111111111111,
              "#46039f"
             ],
             [
              0.2222222222222222,
              "#7201a8"
             ],
             [
              0.3333333333333333,
              "#9c179e"
             ],
             [
              0.4444444444444444,
              "#bd3786"
             ],
             [
              0.5555555555555556,
              "#d8576b"
             ],
             [
              0.6666666666666666,
              "#ed7953"
             ],
             [
              0.7777777777777778,
              "#fb9f3a"
             ],
             [
              0.8888888888888888,
              "#fdca26"
             ],
             [
              1,
              "#f0f921"
             ]
            ],
            "type": "surface"
           }
          ],
          "table": [
           {
            "cells": {
             "fill": {
              "color": "#EBF0F8"
             },
             "line": {
              "color": "white"
             }
            },
            "header": {
             "fill": {
              "color": "#C8D4E3"
             },
             "line": {
              "color": "white"
             }
            },
            "type": "table"
           }
          ]
         },
         "layout": {
          "annotationdefaults": {
           "arrowcolor": "#2a3f5f",
           "arrowhead": 0,
           "arrowwidth": 1
          },
          "autotypenumbers": "strict",
          "coloraxis": {
           "colorbar": {
            "outlinewidth": 0,
            "ticks": ""
           }
          },
          "colorscale": {
           "diverging": [
            [
             0,
             "#8e0152"
            ],
            [
             0.1,
             "#c51b7d"
            ],
            [
             0.2,
             "#de77ae"
            ],
            [
             0.3,
             "#f1b6da"
            ],
            [
             0.4,
             "#fde0ef"
            ],
            [
             0.5,
             "#f7f7f7"
            ],
            [
             0.6,
             "#e6f5d0"
            ],
            [
             0.7,
             "#b8e186"
            ],
            [
             0.8,
             "#7fbc41"
            ],
            [
             0.9,
             "#4d9221"
            ],
            [
             1,
             "#276419"
            ]
           ],
           "sequential": [
            [
             0,
             "#0d0887"
            ],
            [
             0.1111111111111111,
             "#46039f"
            ],
            [
             0.2222222222222222,
             "#7201a8"
            ],
            [
             0.3333333333333333,
             "#9c179e"
            ],
            [
             0.4444444444444444,
             "#bd3786"
            ],
            [
             0.5555555555555556,
             "#d8576b"
            ],
            [
             0.6666666666666666,
             "#ed7953"
            ],
            [
             0.7777777777777778,
             "#fb9f3a"
            ],
            [
             0.8888888888888888,
             "#fdca26"
            ],
            [
             1,
             "#f0f921"
            ]
           ],
           "sequentialminus": [
            [
             0,
             "#0d0887"
            ],
            [
             0.1111111111111111,
             "#46039f"
            ],
            [
             0.2222222222222222,
             "#7201a8"
            ],
            [
             0.3333333333333333,
             "#9c179e"
            ],
            [
             0.4444444444444444,
             "#bd3786"
            ],
            [
             0.5555555555555556,
             "#d8576b"
            ],
            [
             0.6666666666666666,
             "#ed7953"
            ],
            [
             0.7777777777777778,
             "#fb9f3a"
            ],
            [
             0.8888888888888888,
             "#fdca26"
            ],
            [
             1,
             "#f0f921"
            ]
           ]
          },
          "colorway": [
           "#636efa",
           "#EF553B",
           "#00cc96",
           "#ab63fa",
           "#FFA15A",
           "#19d3f3",
           "#FF6692",
           "#B6E880",
           "#FF97FF",
           "#FECB52"
          ],
          "font": {
           "color": "#2a3f5f"
          },
          "geo": {
           "bgcolor": "white",
           "lakecolor": "white",
           "landcolor": "#E5ECF6",
           "showlakes": true,
           "showland": true,
           "subunitcolor": "white"
          },
          "hoverlabel": {
           "align": "left"
          },
          "hovermode": "closest",
          "mapbox": {
           "style": "light"
          },
          "paper_bgcolor": "white",
          "plot_bgcolor": "#E5ECF6",
          "polar": {
           "angularaxis": {
            "gridcolor": "white",
            "linecolor": "white",
            "ticks": ""
           },
           "bgcolor": "#E5ECF6",
           "radialaxis": {
            "gridcolor": "white",
            "linecolor": "white",
            "ticks": ""
           }
          },
          "scene": {
           "xaxis": {
            "backgroundcolor": "#E5ECF6",
            "gridcolor": "white",
            "gridwidth": 2,
            "linecolor": "white",
            "showbackground": true,
            "ticks": "",
            "zerolinecolor": "white"
           },
           "yaxis": {
            "backgroundcolor": "#E5ECF6",
            "gridcolor": "white",
            "gridwidth": 2,
            "linecolor": "white",
            "showbackground": true,
            "ticks": "",
            "zerolinecolor": "white"
           },
           "zaxis": {
            "backgroundcolor": "#E5ECF6",
            "gridcolor": "white",
            "gridwidth": 2,
            "linecolor": "white",
            "showbackground": true,
            "ticks": "",
            "zerolinecolor": "white"
           }
          },
          "shapedefaults": {
           "line": {
            "color": "#2a3f5f"
           }
          },
          "ternary": {
           "aaxis": {
            "gridcolor": "white",
            "linecolor": "white",
            "ticks": ""
           },
           "baxis": {
            "gridcolor": "white",
            "linecolor": "white",
            "ticks": ""
           },
           "bgcolor": "#E5ECF6",
           "caxis": {
            "gridcolor": "white",
            "linecolor": "white",
            "ticks": ""
           }
          },
          "title": {
           "x": 0.05
          },
          "xaxis": {
           "automargin": true,
           "gridcolor": "white",
           "linecolor": "white",
           "ticks": "",
           "title": {
            "standoff": 15
           },
           "zerolinecolor": "white",
           "zerolinewidth": 2
          },
          "yaxis": {
           "automargin": true,
           "gridcolor": "white",
           "linecolor": "white",
           "ticks": "",
           "title": {
            "standoff": 15
           },
           "zerolinecolor": "white",
           "zerolinewidth": 2
          }
         }
        },
        "title": {
         "text": "Porcentaje de aciertos \n modelo K-nn"
        },
        "width": 800,
        "xaxis": {
         "anchor": "y",
         "autorange": true,
         "domain": [
          0,
          1
         ],
         "range": [
          0.4318801089918257,
          10.568119891008175
         ],
         "tickfont": {
          "size": 14
         },
         "title": {
          "font": {
           "size": 16
          },
          "text": "Numero de K"
         },
         "type": "linear"
        },
        "yaxis": {
         "anchor": "x",
         "autorange": true,
         "domain": [
          0,
          1
         ],
         "range": [
          75.5980804475201,
          101.43571922704614
         ],
         "tickfont": {
          "size": 14
         },
         "title": {
          "font": {
           "size": 16
          },
          "text": "Score "
         },
         "type": "linear"
        }
       }
      },
      "image/png": "[encoded data removed]",
      "text/html": [
       "<div>                            <div id=\"40df1de1-9224-4e41-9f10-aadf2aaf9b8d\" class=\"plotly-graph-div\" style=\"height:600px; width:800px;\"></div>            <script type=\"text/javascript\">                require([\"plotly\"], function(Plotly) {                    window.PLOTLYENV=window.PLOTLYENV || {};                                    if (document.getElementById(\"40df1de1-9224-4e41-9f10-aadf2aaf9b8d\")) {                    Plotly.newPlot(                        \"40df1de1-9224-4e41-9f10-aadf2aaf9b8d\",                        [{\"name\":\"Train\",\"x\":[1,2,3,4,5,6,7,8,9,10],\"y\":[99.9131440846812,92.01886961335856,91.51066305540544,90.74387781825895,90.47435927186896,90.33578762071149,90.20616676998763,90.17964587981396,90.07521987475509,90.07555138588228],\"type\":\"scatter\",\"xaxis\":\"x\",\"yaxis\":\"y\"},{\"name\":\"Test\",\"x\":[1,2,3,4,5,6,7,8,9,10],\"y\":[83.49886624322066,77.12065558988503,87.97820004508506,86.22783870155013,89.28699295877368,88.6372376115524,89.76303820296235,89.4912017821861,89.93277021203241,89.82005754975933],\"type\":\"scatter\",\"xaxis\":\"x\",\"yaxis\":\"y\"}],                        {\"template\":{\"data\":{\"bar\":[{\"error_x\":{\"color\":\"#2a3f5f\"},\"error_y\":{\"color\":\"#2a3f5f\"},\"marker\":{\"line\":{\"color\":\"#E5ECF6\",\"width\":0.5},\"pattern\":{\"fillmode\":\"overlay\",\"size\":10,\"solidity\":0.2}},\"type\":\"bar\"}],\"barpolar\":[{\"marker\":{\"line\":{\"color\":\"#E5ECF6\",\"width\":0.5},\"pattern\":{\"fillmode\":\"overlay\",\"size\":10,\"solidity\":0.2}},\"type\":\"barpolar\"}],\"carpet\":[{\"aaxis\":{\"endlinecolor\":\"#2a3f5f\",\"gridcolor\":\"white\",\"linecolor\":\"white\",\"minorgridcolor\":\"white\",\"startlinecolor\":\"#2a3f5f\"},\"baxis\":{\"endlinecolor\":\"#2a3f5f\",\"gridcolor\":\"white\",\"linecolor\":\"white\",\"minorgridcolor\":\"white\",\"startlinecolor\":\"#2a3f5f\"},\"type\":\"carpet\"}],\"choropleth\":[{\"colorbar\":{\"outlinewidth\":0,\"ticks\":\"\"},\"type\":\"choropleth\"}],\"contour\":[{\"colorbar\":{\"outlinewidth\":0,\"ticks\":\"\"},\"colorscale\":[[0.0,\"#0d0887\"],[0.1111111111111111,\"#46039f\"],[0.2222222222222222,\"#7201a8\"],[0.3333333333333333,\"#9c179e\"],[0.4444444444444444,\"#bd3786\"],[0.5555555555555556,\"#d8576b\"],[0.6666666666666666,\"#ed7953\"],[0.7777777777777778,\"#fb9f3a\"],[0.8888888888888888,\"#fdca26\"],[1.0,\"#f0f921\"]],\"type\":\"contour\"}],\"contourcarpet\":[{\"colorbar\":{\"outlinewidth\":0,\"ticks\":\"\"},\"type\":\"contourcarpet\"}],\"heatmap\":[{\"colorbar\":{\"outlinewidth\":0,\"ticks\":\"\"},\"colorscale\":[[0.0,\"#0d0887\"],[0.1111111111111111,\"#46039f\"],[0.2222222222222222,\"#7201a8\"],[0.3333333333333333,\"#9c179e\"],[0.4444444444444444,\"#bd3786\"],[0.5555555555555556,\"#d8576b\"],[0.6666666666666666,\"#ed7953\"],[0.7777777777777778,\"#fb9f3a\"],[0.8888888888888888,\"#fdca26\"],[1.0,\"#f0f921\"]],\"type\":\"heatmap\"}],\"heatmapgl\":[{\"colorbar\":{\"outlinewidth\":0,\"ticks\":\"\"},\"colorscale\":[[0.0,\"#0d0887\"],[0.1111111111111111,\"#46039f\"],[0.2222222222222222,\"#7201a8\"],[0.3333333333333333,\"#9c179e\"],[0.4444444444444444,\"#bd3786\"],[0.5555555555555556,\"#d8576b\"],[0.6666666666666666,\"#ed7953\"],[0.7777777777777778,\"#fb9f3a\"],[0.8888888888888888,\"#fdca26\"],[1.0,\"#f0f921\"]],\"type\":\"heatmapgl\"}],\"histogram\":[{\"marker\":{\"pattern\":{\"fillmode\":\"overlay\",\"size\":10,\"solidity\":0.2}},\"type\":\"histogram\"}],\"histogram2d\":[{\"colorbar\":{\"outlinewidth\":0,\"ticks\":\"\"},\"colorscale\":[[0.0,\"#0d0887\"],[0.1111111111111111,\"#46039f\"],[0.2222222222222222,\"#7201a8\"],[0.3333333333333333,\"#9c179e\"],[0.4444444444444444,\"#bd3786\"],[0.5555555555555556,\"#d8576b\"],[0.6666666666666666,\"#ed7953\"],[0.7777777777777778,\"#fb9f3a\"],[0.8888888888888888,\"#fdca26\"],[1.0,\"#f0f921\"]],\"type\":\"histogram2d\"}],\"histogram2dcontour\":[{\"colorbar\":{\"outlinewidth\":0,\"ticks\":\"\"},\"colorscale\":[[0.0,\"#0d0887\"],[0.1111111111111111,\"#46039f\"],[0.2222222222222222,\"#7201a8\"],[0.3333333333333333,\"#9c179e\"],[0.4444444444444444,\"#bd3786\"],[0.5555555555555556,\"#d8576b\"],[0.6666666666666666,\"#ed7953\"],[0.7777777777777778,\"#fb9f3a\"],[0.8888888888888888,\"#fdca26\"],[1.0,\"#f0f921\"]],\"type\":\"histogram2dcontour\"}],\"mesh3d\":[{\"colorbar\":{\"outlinewidth\":0,\"ticks\":\"\"},\"type\":\"mesh3d\"}],\"parcoords\":[{\"line\":{\"colorbar\":{\"outlinewidth\":0,\"ticks\":\"\"}},\"type\":\"parcoords\"}],\"pie\":[{\"automargin\":true,\"type\":\"pie\"}],\"scatter\":[{\"marker\":{\"colorbar\":{\"outlinewidth\":0,\"ticks\":\"\"}},\"type\":\"scatter\"}],\"scatter3d\":[{\"line\":{\"colorbar\":{\"outlinewidth\":0,\"ticks\":\"\"}},\"marker\":{\"colorbar\":{\"outlinewidth\":0,\"ticks\":\"\"}},\"type\":\"scatter3d\"}],\"scattercarpet\":[{\"marker\":{\"colorbar\":{\"outlinewidth\":0,\"ticks\":\"\"}},\"type\":\"scattercarpet\"}],\"scattergeo\":[{\"marker\":{\"colorbar\":{\"outlinewidth\":0,\"ticks\":\"\"}},\"type\":\"scattergeo\"}],\"scattergl\":[{\"marker\":{\"colorbar\":{\"outlinewidth\":0,\"ticks\":\"\"}},\"type\":\"scattergl\"}],\"scattermapbox\":[{\"marker\":{\"colorbar\":{\"outlinewidth\":0,\"ticks\":\"\"}},\"type\":\"scattermapbox\"}],\"scatterpolar\":[{\"marker\":{\"colorbar\":{\"outlinewidth\":0,\"ticks\":\"\"}},\"type\":\"scatterpolar\"}],\"scatterpolargl\":[{\"marker\":{\"colorbar\":{\"outlinewidth\":0,\"ticks\":\"\"}},\"type\":\"scatterpolargl\"}],\"scatterternary\":[{\"marker\":{\"colorbar\":{\"outlinewidth\":0,\"ticks\":\"\"}},\"type\":\"scatterternary\"}],\"surface\":[{\"colorbar\":{\"outlinewidth\":0,\"ticks\":\"\"},\"colorscale\":[[0.0,\"#0d0887\"],[0.1111111111111111,\"#46039f\"],[0.2222222222222222,\"#7201a8\"],[0.3333333333333333,\"#9c179e\"],[0.4444444444444444,\"#bd3786\"],[0.5555555555555556,\"#d8576b\"],[0.6666666666666666,\"#ed7953\"],[0.7777777777777778,\"#fb9f3a\"],[0.8888888888888888,\"#fdca26\"],[1.0,\"#f0f921\"]],\"type\":\"surface\"}],\"table\":[{\"cells\":{\"fill\":{\"color\":\"#EBF0F8\"},\"line\":{\"color\":\"white\"}},\"header\":{\"fill\":{\"color\":\"#C8D4E3\"},\"line\":{\"color\":\"white\"}},\"type\":\"table\"}]},\"layout\":{\"annotationdefaults\":{\"arrowcolor\":\"#2a3f5f\",\"arrowhead\":0,\"arrowwidth\":1},\"autotypenumbers\":\"strict\",\"coloraxis\":{\"colorbar\":{\"outlinewidth\":0,\"ticks\":\"\"}},\"colorscale\":{\"diverging\":[[0,\"#8e0152\"],[0.1,\"#c51b7d\"],[0.2,\"#de77ae\"],[0.3,\"#f1b6da\"],[0.4,\"#fde0ef\"],[0.5,\"#f7f7f7\"],[0.6,\"#e6f5d0\"],[0.7,\"#b8e186\"],[0.8,\"#7fbc41\"],[0.9,\"#4d9221\"],[1,\"#276419\"]],\"sequential\":[[0.0,\"#0d0887\"],[0.1111111111111111,\"#46039f\"],[0.2222222222222222,\"#7201a8\"],[0.3333333333333333,\"#9c179e\"],[0.4444444444444444,\"#bd3786\"],[0.5555555555555556,\"#d8576b\"],[0.6666666666666666,\"#ed7953\"],[0.7777777777777778,\"#fb9f3a\"],[0.8888888888888888,\"#fdca26\"],[1.0,\"#f0f921\"]],\"sequentialminus\":[[0.0,\"#0d0887\"],[0.1111111111111111,\"#46039f\"],[0.2222222222222222,\"#7201a8\"],[0.3333333333333333,\"#9c179e\"],[0.4444444444444444,\"#bd3786\"],[0.5555555555555556,\"#d8576b\"],[0.6666666666666666,\"#ed7953\"],[0.7777777777777778,\"#fb9f3a\"],[0.8888888888888888,\"#fdca26\"],[1.0,\"#f0f921\"]]},\"colorway\":[\"#636efa\",\"#EF553B\",\"#00cc96\",\"#ab63fa\",\"#FFA15A\",\"#19d3f3\",\"#FF6692\",\"#B6E880\",\"#FF97FF\",\"#FECB52\"],\"font\":{\"color\":\"#2a3f5f\"},\"geo\":{\"bgcolor\":\"white\",\"lakecolor\":\"white\",\"landcolor\":\"#E5ECF6\",\"showlakes\":true,\"showland\":true,\"subunitcolor\":\"white\"},\"hoverlabel\":{\"align\":\"left\"},\"hovermode\":\"closest\",\"mapbox\":{\"style\":\"light\"},\"paper_bgcolor\":\"white\",\"plot_bgcolor\":\"#E5ECF6\",\"polar\":{\"angularaxis\":{\"gridcolor\":\"white\",\"linecolor\":\"white\",\"ticks\":\"\"},\"bgcolor\":\"#E5ECF6\",\"radialaxis\":{\"gridcolor\":\"white\",\"linecolor\":\"white\",\"ticks\":\"\"}},\"scene\":{\"xaxis\":{\"backgroundcolor\":\"#E5ECF6\",\"gridcolor\":\"white\",\"gridwidth\":2,\"linecolor\":\"white\",\"showbackground\":true,\"ticks\":\"\",\"zerolinecolor\":\"white\"},\"yaxis\":{\"backgroundcolor\":\"#E5ECF6\",\"gridcolor\":\"white\",\"gridwidth\":2,\"linecolor\":\"white\",\"showbackground\":true,\"ticks\":\"\",\"zerolinecolor\":\"white\"},\"zaxis\":{\"backgroundcolor\":\"#E5ECF6\",\"gridcolor\":\"white\",\"gridwidth\":2,\"linecolor\":\"white\",\"showbackground\":true,\"ticks\":\"\",\"zerolinecolor\":\"white\"}},\"shapedefaults\":{\"line\":{\"color\":\"#2a3f5f\"}},\"ternary\":{\"aaxis\":{\"gridcolor\":\"white\",\"linecolor\":\"white\",\"ticks\":\"\"},\"baxis\":{\"gridcolor\":\"white\",\"linecolor\":\"white\",\"ticks\":\"\"},\"bgcolor\":\"#E5ECF6\",\"caxis\":{\"gridcolor\":\"white\",\"linecolor\":\"white\",\"ticks\":\"\"}},\"title\":{\"x\":0.05},\"xaxis\":{\"automargin\":true,\"gridcolor\":\"white\",\"linecolor\":\"white\",\"ticks\":\"\",\"title\":{\"standoff\":15},\"zerolinecolor\":\"white\",\"zerolinewidth\":2},\"yaxis\":{\"automargin\":true,\"gridcolor\":\"white\",\"linecolor\":\"white\",\"ticks\":\"\",\"title\":{\"standoff\":15},\"zerolinecolor\":\"white\",\"zerolinewidth\":2}}},\"xaxis\":{\"anchor\":\"y\",\"domain\":[0.0,1.0],\"title\":{\"text\":\"Numero de K\",\"font\":{\"size\":16}},\"tickfont\":{\"size\":14}},\"yaxis\":{\"anchor\":\"x\",\"domain\":[0.0,1.0],\"title\":{\"text\":\"Score \",\"font\":{\"size\":16}},\"tickfont\":{\"size\":14}},\"title\":{\"text\":\"Porcentaje de aciertos \\n modelo K-nn\"},\"height\":600,\"width\":800},                        {\"responsive\": true}                    ).then(function(){\n",
       "                            \n",
       "var gd = document.getElementById('40df1de1-9224-4e41-9f10-aadf2aaf9b8d');\n",
       "var x = new MutationObserver(function (mutations, observer) {{\n",
       "        var display = window.getComputedStyle(gd).display;\n",
       "        if (!display || display === 'none') {{\n",
       "            console.log([gd, 'removed!']);\n",
       "            Plotly.purge(gd);\n",
       "            observer.disconnect();\n",
       "        }}\n",
       "}});\n",
       "\n",
       "// Listen for the removal of the full notebook cells\n",
       "var notebookContainer = gd.closest('#notebook-container');\n",
       "if (notebookContainer) {{\n",
       "    x.observe(notebookContainer, {childList: true});\n",
       "}}\n",
       "\n",
       "// Listen for the clearing of the current output cell\n",
       "var outputEl = gd.closest('.output');\n",
       "if (outputEl) {{\n",
       "    x.observe(outputEl, {childList: true});\n",
       "}}\n",
       "\n",
       "                        })                };                });            </script>        </div>"
      ]
     },
     "metadata": {},
     "output_type": "display_data"
    }
   ],
   "source": [
    "scores_knn=pd.read_csv(\"score_knn.csv\")\n",
    "fig = make_subplots(rows=1, cols=1)\n",
    "fig.add_trace(\n",
    "    go.Scatter(x=scores_knn['Unnamed: 0']+1, y=scores_knn[\"Train\"]*100,name=\"Train\"),row=1, col=1\n",
    ")\n",
    "\n",
    "fig.add_trace(\n",
    "    go.Scatter(x=scores_knn['Unnamed: 0']+1, y=scores_knn[\"Test\"]*100,name=\"Test\"),  row=1, col=1\n",
    ")\n",
    "fig.update_layout(height=600, width=800,\n",
    "                      yaxis=dict(\n",
    "        title='Score ',\n",
    "        titlefont_size=16,\n",
    "        tickfont_size=14,\n",
    "    ),xaxis=dict(\n",
    "        title='Numero de K',\n",
    "        titlefont_size=16,\n",
    "        tickfont_size=14,\n",
    "    ),title_text=\"Porcentaje de aciertos \\n modelo K-nn\")\n",
    "fig.show()"
   ]
  },
  {
   "cell_type": "markdown",
   "id": "2969f6f1-158a-4311-9c67-6437abcb18ca",
   "metadata": {
    "id": "2969f6f1-158a-4311-9c67-6437abcb18ca"
   },
   "source": [
    "En la figura anterior se observa que un $K=9$ es aporpiado debido a que el modelo se generaliza bien pues la proporción de aciertos es mas homogenea entre los datos de prueba y entrenamiento, sin embargo, "
   ]
  },
  {
   "cell_type": "code",
   "execution_count": null,
   "id": "63563a56-4ab8-4762-be44-125292de4a02",
   "metadata": {
    "id": "63563a56-4ab8-4762-be44-125292de4a02"
   },
   "outputs": [],
   "source": [
    "neigh = KNeighborsClassifier(n_neighbors=9)\n",
    "neigh.fit(X_train, y_train)\n",
    "prob_train=neigh.predict_proba(X_train)[:,0]\n",
    "prob_test=neigh.predict_proba(X_test)[:,0]"
   ]
  },
  {
   "cell_type": "code",
   "execution_count": null,
   "id": "8efe2cfd-2f3c-4ed4-9f73-f264ca8d5281",
   "metadata": {
    "id": "8efe2cfd-2f3c-4ed4-9f73-f264ca8d5281",
    "outputId": "cb479d45-5a3e-4718-92c2-54bf15f1a9ea"
   },
   "outputs": [
    {
     "data": {
      "text/html": [
       "<div>\n",
       "<style scoped>\n",
       "    .dataframe tbody tr th:only-of-type {\n",
       "        vertical-align: middle;\n",
       "    }\n",
       "\n",
       "    .dataframe tbody tr th {\n",
       "        vertical-align: top;\n",
       "    }\n",
       "\n",
       "    .dataframe thead th {\n",
       "        text-align: right;\n",
       "    }\n",
       "</style>\n",
       "<table border=\"1\" class=\"dataframe\">\n",
       "  <thead>\n",
       "    <tr style=\"text-align: right;\">\n",
       "      <th></th>\n",
       "      <th>Población</th>\n",
       "      <th>Aciertos</th>\n",
       "    </tr>\n",
       "  </thead>\n",
       "  <tbody>\n",
       "    <tr>\n",
       "      <th>0</th>\n",
       "      <td>Train</td>\n",
       "      <td>10.041804</td>\n",
       "    </tr>\n",
       "    <tr>\n",
       "      <th>1</th>\n",
       "      <td>Test</td>\n",
       "      <td>9.836500</td>\n",
       "    </tr>\n",
       "  </tbody>\n",
       "</table>\n",
       "</div>"
      ],
      "text/plain": [
       "  Población   Aciertos\n",
       "0     Train  10.041804\n",
       "1      Test   9.836500"
      ]
     },
     "metadata": {},
     "output_type": "display_data"
    },
    {
     "data": {
      "text/html": [
       "<div>\n",
       "<style scoped>\n",
       "    .dataframe tbody tr th:only-of-type {\n",
       "        vertical-align: middle;\n",
       "    }\n",
       "\n",
       "    .dataframe tbody tr th {\n",
       "        vertical-align: top;\n",
       "    }\n",
       "\n",
       "    .dataframe thead th {\n",
       "        text-align: right;\n",
       "    }\n",
       "</style>\n",
       "<table border=\"1\" class=\"dataframe\">\n",
       "  <thead>\n",
       "    <tr style=\"text-align: right;\">\n",
       "      <th>Predicción</th>\n",
       "      <th>0</th>\n",
       "    </tr>\n",
       "    <tr>\n",
       "      <th>Real</th>\n",
       "      <th></th>\n",
       "    </tr>\n",
       "  </thead>\n",
       "  <tbody>\n",
       "    <tr>\n",
       "      <th>0</th>\n",
       "      <td>0.100418</td>\n",
       "    </tr>\n",
       "    <tr>\n",
       "      <th>1</th>\n",
       "      <td>0.899582</td>\n",
       "    </tr>\n",
       "  </tbody>\n",
       "</table>\n",
       "</div>"
      ],
      "text/plain": [
       "Predicción         0\n",
       "Real                \n",
       "0           0.100418\n",
       "1           0.899582"
      ]
     },
     "metadata": {},
     "output_type": "display_data"
    },
    {
     "data": {
      "text/html": [
       "<div>\n",
       "<style scoped>\n",
       "    .dataframe tbody tr th:only-of-type {\n",
       "        vertical-align: middle;\n",
       "    }\n",
       "\n",
       "    .dataframe tbody tr th {\n",
       "        vertical-align: top;\n",
       "    }\n",
       "\n",
       "    .dataframe thead th {\n",
       "        text-align: right;\n",
       "    }\n",
       "</style>\n",
       "<table border=\"1\" class=\"dataframe\">\n",
       "  <thead>\n",
       "    <tr style=\"text-align: right;\">\n",
       "      <th>Predicción</th>\n",
       "      <th>0</th>\n",
       "    </tr>\n",
       "    <tr>\n",
       "      <th>Real</th>\n",
       "      <th></th>\n",
       "    </tr>\n",
       "  </thead>\n",
       "  <tbody>\n",
       "    <tr>\n",
       "      <th>0</th>\n",
       "      <td>0.098365</td>\n",
       "    </tr>\n",
       "    <tr>\n",
       "      <th>1</th>\n",
       "      <td>0.901635</td>\n",
       "    </tr>\n",
       "  </tbody>\n",
       "</table>\n",
       "</div>"
      ],
      "text/plain": [
       "Predicción         0\n",
       "Real                \n",
       "0           0.098365\n",
       "1           0.901635"
      ]
     },
     "metadata": {},
     "output_type": "display_data"
    }
   ],
   "source": [
    "prob_train=pd.read_csv(\"train_knn.csv\")[\"Train\"]\n",
    "prob_test=pd.read_csv(\"test_knn.csv\")[\"Test\"]\n",
    "prop_=0.2\n",
    "predict_train_kn=np.where(prob_train>=1-prop_,1,0  )\n",
    "predict_test_kn=np.where(prob_test>=1-prop_,1,0  )\n",
    "tasa_acierto_1=accuracy_score(y_train, predict_train_kn)*100\n",
    "tasa_acierto_2=accuracy_score(y_test,predict_test_kn )*100\n",
    "result=pd.DataFrame({\"Población\":[\"Train\", \"Test\"], \"Aciertos\": [tasa_acierto_1,tasa_acierto_2 ] })\n",
    "display(result)\n",
    "display(pd.crosstab(y_train,predict_train_kn ,margins=False, normalize=True,   rownames=['Real'],\n",
    "    colnames=['Predicción']))\n",
    "display(pd.crosstab(y_test,predict_test_kn , margins=False, normalize=True,  rownames=['Real'],\n",
    "    colnames=['Predicción']))"
   ]
  },
  {
   "cell_type": "markdown",
   "id": "4382bf80-5702-4c9a-b26d-f954709e305a",
   "metadata": {
    "id": "4382bf80-5702-4c9a-b26d-f954709e305a"
   },
   "source": [
    "## Modelo Naive Bayes\n",
    "\n",
    "De las variables que se escogieron se probo eliminando variables y para el modelo las variables selecionadas son: __target_time__, __pub_rec__, __loan_amnt__, __int_rate__, __open_acc__, __home_ownership__."
   ]
  },
  {
   "cell_type": "code",
   "execution_count": null,
   "id": "d30eeb32",
   "metadata": {
    "id": "d30eeb32",
    "outputId": "44e26b94-b886-4816-8d78-b7249d59de85",
    "tags": []
   },
   "outputs": [
    {
     "data": {
      "text/html": [
       "<div>\n",
       "<style scoped>\n",
       "    .dataframe tbody tr th:only-of-type {\n",
       "        vertical-align: middle;\n",
       "    }\n",
       "\n",
       "    .dataframe tbody tr th {\n",
       "        vertical-align: top;\n",
       "    }\n",
       "\n",
       "    .dataframe thead th {\n",
       "        text-align: right;\n",
       "    }\n",
       "</style>\n",
       "<table border=\"1\" class=\"dataframe\">\n",
       "  <thead>\n",
       "    <tr style=\"text-align: right;\">\n",
       "      <th></th>\n",
       "      <th>Población</th>\n",
       "      <th>Aciertos</th>\n",
       "    </tr>\n",
       "  </thead>\n",
       "  <tbody>\n",
       "    <tr>\n",
       "      <th>0</th>\n",
       "      <td>Train</td>\n",
       "      <td>85.113161</td>\n",
       "    </tr>\n",
       "    <tr>\n",
       "      <th>1</th>\n",
       "      <td>Test</td>\n",
       "      <td>85.200164</td>\n",
       "    </tr>\n",
       "  </tbody>\n",
       "</table>\n",
       "</div>"
      ],
      "text/plain": [
       "  Población   Aciertos\n",
       "0     Train  85.113161\n",
       "1      Test  85.200164"
      ]
     },
     "metadata": {},
     "output_type": "display_data"
    },
    {
     "data": {
      "text/html": [
       "<div>\n",
       "<style scoped>\n",
       "    .dataframe tbody tr th:only-of-type {\n",
       "        vertical-align: middle;\n",
       "    }\n",
       "\n",
       "    .dataframe tbody tr th {\n",
       "        vertical-align: top;\n",
       "    }\n",
       "\n",
       "    .dataframe thead tr th {\n",
       "        text-align: left;\n",
       "    }\n",
       "\n",
       "    .dataframe thead tr:last-of-type th {\n",
       "        text-align: right;\n",
       "    }\n",
       "</style>\n",
       "<table border=\"1\" class=\"dataframe\">\n",
       "  <thead>\n",
       "    <tr>\n",
       "      <th></th>\n",
       "      <th colspan=\"2\" halign=\"left\">Train</th>\n",
       "      <th colspan=\"2\" halign=\"left\">Test</th>\n",
       "    </tr>\n",
       "    <tr>\n",
       "      <th>predicción</th>\n",
       "      <th>0</th>\n",
       "      <th>1</th>\n",
       "      <th>0</th>\n",
       "      <th>1</th>\n",
       "    </tr>\n",
       "    <tr>\n",
       "      <th>Real</th>\n",
       "      <th></th>\n",
       "      <th></th>\n",
       "      <th></th>\n",
       "      <th></th>\n",
       "    </tr>\n",
       "  </thead>\n",
       "  <tbody>\n",
       "    <tr>\n",
       "      <th>0</th>\n",
       "      <td>0.042642</td>\n",
       "      <td>0.057776</td>\n",
       "      <td>0.041783</td>\n",
       "      <td>0.056582</td>\n",
       "    </tr>\n",
       "    <tr>\n",
       "      <th>1</th>\n",
       "      <td>0.091093</td>\n",
       "      <td>0.808489</td>\n",
       "      <td>0.091417</td>\n",
       "      <td>0.810218</td>\n",
       "    </tr>\n",
       "  </tbody>\n",
       "</table>\n",
       "</div>"
      ],
      "text/plain": [
       "               Train                Test          \n",
       "predicción         0         1         0         1\n",
       "Real                                              \n",
       "0           0.042642  0.057776  0.041783  0.056582\n",
       "1           0.091093  0.808489  0.091417  0.810218"
      ]
     },
     "execution_count": 278,
     "metadata": {},
     "output_type": "execute_result"
    }
   ],
   "source": [
    "var_=[\n",
    "    'target_time', \n",
    "      'pub_rec', \n",
    "      'loan_amnt', \n",
    "      'int_rate', \n",
    "       'open_acc', \n",
    "       'home_ownership:NONE', 'home_ownership:OTHER', 'home_ownership:OWN',\n",
    "       'home_ownership:RENT', \n",
    "     ]\n",
    "X_train_pca=X_train[var_]\n",
    "# X_train_pca=PCA_5.transform(X_train)\n",
    "X_test_pca=X_test[var_]\n",
    "# X_test_pca=PCA_5.transform(X_test)\n",
    "clf = GaussianNB()\n",
    "clf.fit(X_train_pca, y_train)\n",
    "prop_=0.8\n",
    "predict_train_nb= clf.predict_proba(X_train_pca)[:,1]\n",
    "predict_test_nb= clf.predict_proba(X_test_pca)[:,1]\n",
    "predict_train_nb=np.where(predict_train_nb>=prop_,1,0  )\n",
    "predict_test_nb=np.where(predict_test_nb>=prop_,1,0  )\n",
    "tasa_acierto_1=accuracy_score(y_train, predict_train_nb)*100\n",
    "tasa_acierto_2=accuracy_score(y_test,predict_test_nb )*100\n",
    "result=pd.DataFrame({\"Población\":[\"Train\", \"Test\"], \"Aciertos\": [tasa_acierto_1,tasa_acierto_2 ] })\n",
    "display(result)\n",
    "errores_bayes=pd.concat([pd.crosstab(y_train,predict_train_nb ,margins=False, normalize=True, colnames=[\"predicción\"],  rownames=['Real']),\n",
    "           pd.crosstab(y_test,predict_test_nb , margins=False, normalize=True, colnames=[\"predicción\"], rownames=['Real'])\n",
    "    ],axis=1,keys=[\"Train\", \"Test\"])"
   ]
  },
  {
   "cell_type": "markdown",
   "id": "a984775e-db95-4358-8452-0c5b916945c6",
   "metadata": {
    "id": "a984775e-db95-4358-8452-0c5b916945c6"
   },
   "source": [
    "`r kbl(py$result, escape = F, align = \"c\", caption=\"Validación modelo Naive Bayes\",row.names=F,digits =2) %>%  kable_classic_2(\"striped\", full_width = F)`\n",
    "\n",
    "Se observa una tasa de acierto homogenea entre los datos de prueba y entrenamiento.\n",
    "\n",
    "\n",
    "## Modelo logístico \n",
    "\n",
    "Para este modelo se encontraron las variables apropiadas:  __target_time__, __pub_rec__, __loan_amnt__, __int_rate__, __open_acc__, __home_ownership__, __emp_length__."
   ]
  },
  {
   "cell_type": "code",
   "execution_count": 330,
   "id": "28bece39-0e3a-4663-97b8-4eac614681c1",
   "metadata": {
    "id": "28bece39-0e3a-4663-97b8-4eac614681c1"
   },
   "outputs": [],
   "source": [
    "c_1=[    'target_time', \n",
    "      'pub_rec', \n",
    "      'loan_amnt', \n",
    "      'int_rate', \n",
    "       'open_acc',\"home_ownership\",\"emp_length\",\"good_status\"]\n",
    "df_modelo[c_1].to_csv(\"datos_modelo.csv\")"
   ]
  },
  {
   "cell_type": "code",
   "execution_count": 331,
   "id": "8cb5a9d6-cc9d-48b3-a2c5-0b3488c5fb61",
   "metadata": {
    "id": "8cb5a9d6-cc9d-48b3-a2c5-0b3488c5fb61",
    "outputId": "f237f351-e783-48c8-8648-410876bf69d5"
   },
   "outputs": [],
   "source": [
    "var_=[\n",
    "    'target_time', \n",
    "      'pub_rec', \n",
    "      'loan_amnt', \n",
    "      'int_rate', \n",
    "       'open_acc', \n",
    "       'home_ownership:NONE', 'home_ownership:OTHER', 'home_ownership:OWN',\n",
    "       'home_ownership:RENT', \n",
    "      'emp_length:10+ years', 'emp_length:2 years',\n",
    "       'emp_length:3 years', 'emp_length:4 years', 'emp_length:5 years',\n",
    "       'emp_length:6 years', 'emp_length:7 years', 'emp_length:8 years',\n",
    "       'emp_length:9 years', 'emp_length:< 1 year'\n",
    "     ]\n",
    "X_train_pca=X_train[var_]\n",
    "# X_train_pca=PCA_5.transform(X_train)\n",
    "X_test_pca=X_test[var_]\n",
    "# X_test_pca=PCA_5.transform(X_test)\n",
    "Modelo = LogisticRegression()#C=1e-09,class_weight=\"balanced\",solver=\"sag\")\n",
    "Modelo.fit(X_train_pca, y_train)\n",
    "prop_=0.8\n",
    "predict_train_log= Modelo.predict_proba(X_train_pca)[:,1]\n",
    "predict_test_log= Modelo.predict_proba(X_test_pca)[:,1]\n",
    "predict_train_log=np.where(predict_train_log>=prop_,1,0  )\n",
    "predict_test_log=np.where(predict_test_log>=prop_,1,0  )\n",
    "tasa_acierto_1=accuracy_score(y_train, predict_train_log)*100\n",
    "tasa_acierto_2=accuracy_score(y_test,predict_test_log )*100\n",
    "result=pd.DataFrame({\"Población\":[\"Train\", \"Test\"], \"Aciertos\": [tasa_acierto_1,tasa_acierto_2 ] })\n",
    "errores_logistico=pd.concat([pd.crosstab(y_train,predict_train_log ,margins=False, normalize=True, colnames=[\"predicción\"],  rownames=['Real']),\n",
    "           pd.crosstab(y_test,predict_test_log , margins=False, normalize=True, colnames=[\"predicción\"], rownames=['Real'])\n",
    "    ],axis=1,keys=[\"Train\", \"Test\"])"
   ]
  },
  {
   "cell_type": "markdown",
   "id": "17c3a163-72dd-4704-9e67-a70d95a4ce3f",
   "metadata": {
    "id": "17c3a163-72dd-4704-9e67-a70d95a4ce3f"
   },
   "source": [
    "`r kbl(py$result, escape = F, align = \"c\", caption=\"Validación modelo logístico\",row.names=F,digits =2) %>%  kable_classic_2(\"striped\", full_width = F)`\n",
    "\n",
    "Esto es menor al modelo de bayes, luego se deben analizar los tipos de errores en cada modelo.\n",
    "\n",
    "\n",
    "`r kbl(py$errores_logistico*100, escape = F, align = \"c\", caption=\"Tabla comparativa modelo logístico\",row.names=F,digits =2) %>%  kable_classic_2(\"striped\", full_width = F)`\n",
    "\n",
    "\n",
    "`r kbl(py$errores_bayes*100, escape = F, align = \"c\", caption=\"Tabla comparativa modelo Naive Bayes\",row.names=F,digits =2) %>%  kable_classic_2(\"striped\", full_width = F)`\n",
    "\n",
    "\n",
    "De las tablas anteriores, el modelo logistico sera selecionado debido a que tiene mayor proporción de aciertos en la categoría 0 de __good_status__ "
   ]
  },
  {
   "cell_type": "markdown",
   "id": "eae593c4-42eb-4ff1-8629-d5867b2ec9f1",
   "metadata": {
    "id": "eae593c4-42eb-4ff1-8629-d5867b2ec9f1"
   },
   "source": [
    "# Score\n",
    "\n",
    "Luego de "
   ]
  },
  {
   "cell_type": "code",
   "execution_count": 470,
   "id": "0ff58b05-f93e-402a-9da7-f04246bb1447",
   "metadata": {
    "id": "0ff58b05-f93e-402a-9da7-f04246bb1447"
   },
   "outputs": [],
   "source": [
    "\n",
    "# function to calculate WoE and IV of categorical features\n",
    "# The function takes 3 arguments: a dataframe (X_train_prepr), a string (column name), and a dataframe (y_train_prepr).\n",
    "def woe_discrete(df, cat_variabe_name, y_df):\n",
    "    df = pd.concat([df[cat_variabe_name], y_df], axis = 1)\n",
    "    df = pd.concat([df.groupby(df.columns.values[0], as_index = False)[df.columns.values[1]].count(),\n",
    "                    df.groupby(df.columns.values[0], as_index = False)[df.columns.values[1]].mean()], axis = 1)\n",
    "    df = df.iloc[:, [0, 1, 3]]\n",
    "    df.columns = [df.columns.values[0], 'n_obs', 'prop_good']\n",
    "    df['prop_n_obs'] = df['n_obs'] / df['n_obs'].sum()\n",
    "    df['n_good'] = df['prop_good'] * df['n_obs']\n",
    "    df['n_bad'] = (1 - df['prop_good']) * df['n_obs']\n",
    "    df['prop_n_good'] = df['n_good'] / df['n_good'].sum()\n",
    "    df['prop_n_bad'] = df['n_bad'] / df['n_bad'].sum()\n",
    "    df['WoE'] = np.log(df['prop_n_good'] / df['prop_n_bad'])\n",
    "    df = df.sort_values(['WoE'])\n",
    "    df = df.reset_index(drop = True)\n",
    "    df['diff_prop_good'] = df['prop_good'].diff().abs()\n",
    "    df['diff_WoE'] = df['WoE'].diff().abs()\n",
    "    df['IV'] = (df['prop_n_good'] - df['prop_n_bad']) * df['WoE']\n",
    "    df['IV'] = df['IV'].sum()\n",
    "    return df\n",
    "\n",
    "'''\n",
    "function to calculate WoE & IV of continuous variables\n",
    "This is same as the function we defined earlier for discrete variables\n",
    "The only difference are the 2 commented lines of code in the function that results in the df\n",
    "being sorted by continuous variable values\n",
    "'''\n",
    "def continua_categorica(df_,variable,y_df ):\n",
    "    quantiles_=list(df_[variable].quantile([0.15,0.3,0.45,0.6,0.75,0.9]))\n",
    "    new_var=[variable+str(quantiles_[0])]\n",
    "    df_[variable+str(quantiles_[0])]=np.where(df_[variable]<quantiles_[0],1,0 )\n",
    "    for i in range(1,len(quantiles_)-1):\n",
    "        new_var.append(variable+str(quantiles_[i]))\n",
    "        df_[variable+str(quantiles_[i]) ]=np.where((df_[variable]<=quantiles_[i]) & (df_[variable]>quantiles_[i-1]),1,0 )    \n",
    "    df_[variable+str(quantiles_[5])]=np.where(df_[variable]>=quantiles_[5],1,0)\n",
    "    new_var.append(variable+str(quantiles_[5]) )\n",
    "    woes=[]\n",
    "    for vars_ in new_var:\n",
    "        woe_temp=[*list(woe_ordered_continuous(df_,vars_,y_df )[\"WoE\"] ),vars_]\n",
    "        woes.append(woe_temp)\n",
    "    return woes\n",
    "    \n",
    "def woe_ordered_continuous(df, continuous_variabe_name, y_df):\n",
    "    df = pd.concat([df[continuous_variabe_name], y_df], axis = 1)\n",
    "    df = pd.concat([df.groupby(df.columns.values[0], as_index = False)[df.columns.values[1]].count(),\n",
    "                    df.groupby(df.columns.values[0], as_index = False)[df.columns.values[1]].mean()], axis = 1)\n",
    "    df = df.iloc[:, [0, 1, 3]]\n",
    "    df.columns = [df.columns.values[0], 'n_obs', 'prop_good']\n",
    "    df['prop_n_obs'] = df['n_obs'] / df['n_obs'].sum()\n",
    "    df['n_good'] = df['prop_good'] * df['n_obs']\n",
    "    df['n_bad'] = (1 - df['prop_good']) * df['n_obs']\n",
    "    df['prop_n_good'] = df['n_good'] / df['n_good'].sum()\n",
    "    df['prop_n_bad'] = df['n_bad'] / df['n_bad'].sum()\n",
    "    df['WoE'] = np.log(df['prop_n_good'] / df['prop_n_bad'])\n",
    "    #df = df.sort_values(['WoE'])\n",
    "    #df = df.reset_index(drop = True)\n",
    "    df['diff_prop_good'] = df['prop_good'].diff().abs()\n",
    "    df['diff_WoE'] = df['WoE'].diff().abs()\n",
    "    df['IV'] = (df['prop_n_good'] - df['prop_n_bad']) * df['WoE']\n",
    "    df['IV'] = df['IV'].sum()\n",
    "    return df\n",
    "\n",
    "# We set the default style of the graphs to the seaborn style. \n",
    "sns.set()\n",
    "# function to plot WoE value\n",
    "def plot_by_woe(df_WoE, rotation_of_x_axis_labels = 0):\n",
    "    x = np.array(df_WoE.iloc[:, 0].apply(str))\n",
    "    y = df_WoE['WoE']\n",
    "    plt.figure(figsize=(18, 6))\n",
    "    plt.plot(x, y, marker = 'o', linestyle = '--', color = 'k')\n",
    "    plt.xlabel(df_WoE.columns[0])\n",
    "    plt.ylabel('Weight of Evidence')\n",
    "    plt.title(str('Weight of Evidence by ' + df_WoE.columns[0]))\n",
    "    plt.xticks(rotation = rotation_of_x_axis_labels)\n",
    "\n",
    "# create a list of all the reference categories, i.e. one category from each of the global features\n",
    "ref_categories = ['mths_since_last_credit_pull_d:>75', 'mths_since_issue_d:>122', 'mths_since_earliest_cr_line:>434', 'total_rev_hi_lim:>79,780', \n",
    "                  'total_rec_int:>7,260', 'total_pymnt:>25,000', 'out_prncp:>15,437', 'revol_util:>1.0', 'inq_last_6mths:>4', 'dti:>35.191', \n",
    "                  'annual_inc:>150K', 'int_rate:>20.281', 'term:60', 'purpose:major_purch__car__home_impr', 'verification_status:Not Verified', \n",
    "                  'home_ownership:MORTGAGE', 'grade:G']\t\n",
    "\n",
    "# custom transformer class to create new categorical dummy features\n"
   ]
  },
  {
   "cell_type": "code",
   "execution_count": 491,
   "id": "bd9107dc-ee27-4aa2-9b65-b8eb1cc12dbf",
   "metadata": {},
   "outputs": [
    {
     "data": {
      "text/plain": [
       "array([[-1.85678953e+00,  3.74305921e-01,  1.54796890e-05,\n",
       "        -2.18634923e-02,  6.47884788e-02, -2.31828540e-04,\n",
       "        -2.38346650e-04,  1.73869495e-01,  4.69616208e-01,\n",
       "         6.13493095e-01,  1.38253909e-01,  1.34751690e-01,\n",
       "         1.03530301e-01,  8.69450373e-02,  5.39932023e-02,\n",
       "         8.61363845e-02,  7.80262467e-02,  3.73778789e-02,\n",
       "         9.21680987e-02]])"
      ]
     },
     "execution_count": 491,
     "metadata": {},
     "output_type": "execute_result"
    }
   ],
   "source": [
    "Modelo.coef_"
   ]
  },
  {
   "cell_type": "code",
   "execution_count": 487,
   "id": "94e0bee2-24bf-4818-9adb-8177fca5839f",
   "metadata": {},
   "outputs": [],
   "source": [
    "coef_cat=[*Modelo.coef_.tolist()[0][0:2],*Modelo.coef_.tolist()[0][5:]] #[]\n",
    "coef_count=Modelo.coef_.tolist()[0][2:5]\n",
    "\n",
    "#Variables categoricas\n",
    "woes_cat=[]\n",
    "woes_cat.append(list(woe_discrete(X_train, var_[0] , y_train)[\"WoE\"]) )\n",
    "woes_cat.append(list(woe_discrete(X_train, var_[1] , y_train)[\"WoE\"]) )\n",
    "for i in var_[5:len(var_)]:\n",
    "    woes_cat.append(list(woe_discrete(X_train, i , y_train)[\"WoE\"]) )\n",
    "\n",
    "#Variables continuas\n",
    "woes_count=[]\n",
    "woes_count.append(continua_categorica(X_train,'loan_amnt', y_train))\n",
    "woes_count.append(continua_categorica(X_train,\"int_rate\", y_train))\n",
    "woes_count.append(continua_categorica(X_train,\"open_acc\", y_train))\n",
    "\n",
    "pd.DataFrame(woes_count[0])[2]\n",
    "\n",
    "Factor=20/np.log(2)\n",
    "offset= 600-Factor*np.log(50)\n",
    "print('factor:', round(Factor,2), '|offset:', round(offset,2))\n",
    "\n",
    "#Calculo score Variables categoricas\n",
    "#Home Owner\n",
    "score_cat1=(pd.Series(coef_cat)*pd.DataFrame(woes_cat)[0]+Modelo.intercept_/7)*Factor+offset/7\n",
    "score_cat2=(pd.Series(coef_cat)*pd.DataFrame(woes_cat)[1]+Modelo.intercept_/7)*Factor+offset/7\n",
    "score_cat=score_cat2+score_cat1\n",
    "score_count=[]\n",
    "for var_counts in range(0,3):\n",
    "    score_temp1=(coef_count[var_counts]*pd.DataFrame(woes_count[var_conts])[0]+Modelo.intercept_/7)*Factor+offset/7\n",
    "    score_temp2=(coef_count[var_counts]*pd.DataFrame(woes_count[var_conts])[1]+Modelo.intercept_/7)*Factor+offset/7    \n",
    "    score_count=[*score_count,*list(score_temp1+score_temp2) ]\n",
    "\n",
    "var_cat=[*var_[0:2],*var_[5:]]\n",
    "var_num=[*list(pd.DataFrame(woes_count[0])[2]),*list(pd.DataFrame(woes_count[1])[2]),\n",
    "        *list(pd.DataFrame(woes_count[2])[2])]\n",
    "variables_score=[*var_cat,*var_num]\n",
    "beta_scores=pd.DataFrame({\"Variables\":variables_score,\"Score\":[*score_cat,*score_count]} )"
   ]
  },
  {
   "cell_type": "code",
   "execution_count": 490,
   "id": "8eed3f9e-c8df-4c08-ad21-096f636ebfd5",
   "metadata": {},
   "outputs": [
    {
     "data": {
      "text/html": [
       "<div>\n",
       "<style scoped>\n",
       "    .dataframe tbody tr th:only-of-type {\n",
       "        vertical-align: middle;\n",
       "    }\n",
       "\n",
       "    .dataframe tbody tr th {\n",
       "        vertical-align: top;\n",
       "    }\n",
       "\n",
       "    .dataframe thead th {\n",
       "        text-align: right;\n",
       "    }\n",
       "</style>\n",
       "<table border=\"1\" class=\"dataframe\">\n",
       "  <thead>\n",
       "    <tr style=\"text-align: right;\">\n",
       "      <th></th>\n",
       "      <th>Variables</th>\n",
       "      <th>Score</th>\n",
       "    </tr>\n",
       "  </thead>\n",
       "  <tbody>\n",
       "    <tr>\n",
       "      <th>0</th>\n",
       "      <td>target_time</td>\n",
       "      <td>186.661434</td>\n",
       "    </tr>\n",
       "    <tr>\n",
       "      <th>1</th>\n",
       "      <td>pub_rec</td>\n",
       "      <td>152.408948</td>\n",
       "    </tr>\n",
       "    <tr>\n",
       "      <th>2</th>\n",
       "      <td>home_ownership:NONE</td>\n",
       "      <td>151.820012</td>\n",
       "    </tr>\n",
       "    <tr>\n",
       "      <th>3</th>\n",
       "      <td>home_ownership:OTHER</td>\n",
       "      <td>151.821072</td>\n",
       "    </tr>\n",
       "    <tr>\n",
       "      <th>4</th>\n",
       "      <td>home_ownership:OWN</td>\n",
       "      <td>151.944662</td>\n",
       "    </tr>\n",
       "    <tr>\n",
       "      <th>5</th>\n",
       "      <td>home_ownership:RENT</td>\n",
       "      <td>151.192573</td>\n",
       "    </tr>\n",
       "    <tr>\n",
       "      <th>6</th>\n",
       "      <td>emp_length:10+ years</td>\n",
       "      <td>152.669925</td>\n",
       "    </tr>\n",
       "    <tr>\n",
       "      <th>7</th>\n",
       "      <td>emp_length:2 years</td>\n",
       "      <td>151.662309</td>\n",
       "    </tr>\n",
       "    <tr>\n",
       "      <th>8</th>\n",
       "      <td>emp_length:3 years</td>\n",
       "      <td>151.765259</td>\n",
       "    </tr>\n",
       "    <tr>\n",
       "      <th>9</th>\n",
       "      <td>emp_length:4 years</td>\n",
       "      <td>151.804180</td>\n",
       "    </tr>\n",
       "    <tr>\n",
       "      <th>10</th>\n",
       "      <td>emp_length:5 years</td>\n",
       "      <td>151.665729</td>\n",
       "    </tr>\n",
       "    <tr>\n",
       "      <th>11</th>\n",
       "      <td>emp_length:6 years</td>\n",
       "      <td>151.655331</td>\n",
       "    </tr>\n",
       "    <tr>\n",
       "      <th>12</th>\n",
       "      <td>emp_length:7 years</td>\n",
       "      <td>151.750444</td>\n",
       "    </tr>\n",
       "    <tr>\n",
       "      <th>13</th>\n",
       "      <td>emp_length:8 years</td>\n",
       "      <td>151.778249</td>\n",
       "    </tr>\n",
       "    <tr>\n",
       "      <th>14</th>\n",
       "      <td>emp_length:9 years</td>\n",
       "      <td>151.728834</td>\n",
       "    </tr>\n",
       "    <tr>\n",
       "      <th>15</th>\n",
       "      <td>emp_length:&lt; 1 year</td>\n",
       "      <td>151.551193</td>\n",
       "    </tr>\n",
       "    <tr>\n",
       "      <th>16</th>\n",
       "      <td>loan_amnt6200.0</td>\n",
       "      <td>151.817383</td>\n",
       "    </tr>\n",
       "    <tr>\n",
       "      <th>17</th>\n",
       "      <td>loan_amnt10000.0</td>\n",
       "      <td>151.817341</td>\n",
       "    </tr>\n",
       "    <tr>\n",
       "      <th>18</th>\n",
       "      <td>loan_amnt12000.0</td>\n",
       "      <td>151.817334</td>\n",
       "    </tr>\n",
       "    <tr>\n",
       "      <th>19</th>\n",
       "      <td>loan_amnt15425.0</td>\n",
       "      <td>151.817339</td>\n",
       "    </tr>\n",
       "    <tr>\n",
       "      <th>20</th>\n",
       "      <td>loan_amnt20000.0</td>\n",
       "      <td>151.817315</td>\n",
       "    </tr>\n",
       "    <tr>\n",
       "      <th>21</th>\n",
       "      <td>loan_amnt27975.0</td>\n",
       "      <td>151.817295</td>\n",
       "    </tr>\n",
       "    <tr>\n",
       "      <th>22</th>\n",
       "      <td>int_rate8.9</td>\n",
       "      <td>151.744975</td>\n",
       "    </tr>\n",
       "    <tr>\n",
       "      <th>23</th>\n",
       "      <td>int_rate11.67</td>\n",
       "      <td>151.804377</td>\n",
       "    </tr>\n",
       "    <tr>\n",
       "      <th>24</th>\n",
       "      <td>int_rate13.35</td>\n",
       "      <td>151.814494</td>\n",
       "    </tr>\n",
       "    <tr>\n",
       "      <th>25</th>\n",
       "      <td>int_rate14.99</td>\n",
       "      <td>151.806639</td>\n",
       "    </tr>\n",
       "    <tr>\n",
       "      <th>26</th>\n",
       "      <td>int_rate16.99</td>\n",
       "      <td>151.840928</td>\n",
       "    </tr>\n",
       "    <tr>\n",
       "      <th>27</th>\n",
       "      <td>int_rate19.72</td>\n",
       "      <td>151.869652</td>\n",
       "    </tr>\n",
       "    <tr>\n",
       "      <th>28</th>\n",
       "      <td>open_acc7.0</td>\n",
       "      <td>152.031747</td>\n",
       "    </tr>\n",
       "    <tr>\n",
       "      <th>29</th>\n",
       "      <td>open_acc9.0</td>\n",
       "      <td>151.855721</td>\n",
       "    </tr>\n",
       "    <tr>\n",
       "      <th>30</th>\n",
       "      <td>open_acc10.0</td>\n",
       "      <td>151.825740</td>\n",
       "    </tr>\n",
       "    <tr>\n",
       "      <th>31</th>\n",
       "      <td>open_acc12.0</td>\n",
       "      <td>151.849016</td>\n",
       "    </tr>\n",
       "    <tr>\n",
       "      <th>32</th>\n",
       "      <td>open_acc14.0</td>\n",
       "      <td>151.747408</td>\n",
       "    </tr>\n",
       "    <tr>\n",
       "      <th>33</th>\n",
       "      <td>open_acc18.0</td>\n",
       "      <td>151.662290</td>\n",
       "    </tr>\n",
       "  </tbody>\n",
       "</table>\n",
       "</div>"
      ],
      "text/plain": [
       "               Variables       Score\n",
       "0            target_time  186.661434\n",
       "1                pub_rec  152.408948\n",
       "2    home_ownership:NONE  151.820012\n",
       "3   home_ownership:OTHER  151.821072\n",
       "4     home_ownership:OWN  151.944662\n",
       "5    home_ownership:RENT  151.192573\n",
       "6   emp_length:10+ years  152.669925\n",
       "7     emp_length:2 years  151.662309\n",
       "8     emp_length:3 years  151.765259\n",
       "9     emp_length:4 years  151.804180\n",
       "10    emp_length:5 years  151.665729\n",
       "11    emp_length:6 years  151.655331\n",
       "12    emp_length:7 years  151.750444\n",
       "13    emp_length:8 years  151.778249\n",
       "14    emp_length:9 years  151.728834\n",
       "15   emp_length:< 1 year  151.551193\n",
       "16       loan_amnt6200.0  151.817383\n",
       "17      loan_amnt10000.0  151.817341\n",
       "18      loan_amnt12000.0  151.817334\n",
       "19      loan_amnt15425.0  151.817339\n",
       "20      loan_amnt20000.0  151.817315\n",
       "21      loan_amnt27975.0  151.817295\n",
       "22           int_rate8.9  151.744975\n",
       "23         int_rate11.67  151.804377\n",
       "24         int_rate13.35  151.814494\n",
       "25         int_rate14.99  151.806639\n",
       "26         int_rate16.99  151.840928\n",
       "27         int_rate19.72  151.869652\n",
       "28           open_acc7.0  152.031747\n",
       "29           open_acc9.0  151.855721\n",
       "30          open_acc10.0  151.825740\n",
       "31          open_acc12.0  151.849016\n",
       "32          open_acc14.0  151.747408\n",
       "33          open_acc18.0  151.662290"
      ]
     },
     "execution_count": 490,
     "metadata": {},
     "output_type": "execute_result"
    }
   ],
   "source": [
    "beta_scores"
   ]
  },
  {
   "cell_type": "markdown",
   "id": "e7c5e27a-80fb-46b6-b9ae-644e2cc763b9",
   "metadata": {
    "id": "e7c5e27a-80fb-46b6-b9ae-644e2cc763b9"
   },
   "source": [
    "de notebook a R markdwon "
   ]
  },
  {
   "cell_type": "code",
   "execution_count": null,
   "id": "e38d9045-85c4-4395-af69-3a627536920d",
   "metadata": {
    "id": "e38d9045-85c4-4395-af69-3a627536920d",
    "outputId": "4e86105d-4a3a-4bc8-a8d1-ba8332052a7e"
   },
   "outputs": [
    {
     "name": "stdout",
     "output_type": "stream",
     "text": [
      "[jupytext] Reading informe_prueba.ipynb in format ipynb\n",
      "[jupytext] Writing informe_prueba.Rmd (destination file replaced)\n"
     ]
    }
   ],
   "source": [
    "import jupytext\n",
    "!jupytext --to rmarkdown informe_prueba.ipynb"
   ]
  }
 ],
 "metadata": {
  "colab": {
   "provenance": []
  },
  "jupytext": {
   "cell_metadata_filter": "echo,name,results,tags,fig.cap,warning,language,message,-all",
   "main_language": "python",
   "notebook_metadata_filter": "-all"
  },
  "kernelspec": {
   "display_name": "Python 3 (ipykernel)",
   "language": "python",
   "name": "python3"
  },
  "language_info": {
   "codemirror_mode": {
    "name": "ipython",
    "version": 3
   },
   "file_extension": ".py",
   "mimetype": "text/x-python",
   "name": "python",
   "nbconvert_exporter": "python",
   "pygments_lexer": "ipython3",
   "version": "3.9.12"
  }
 },
 "nbformat": 4,
 "nbformat_minor": 5
}
