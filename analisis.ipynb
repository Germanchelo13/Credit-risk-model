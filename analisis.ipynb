{
 "cells": [
  {
   "cell_type": "code",
   "execution_count": 1,
   "id": "7832b367-b6da-4c6f-84d9-ea5de4c53e1c",
   "metadata": {},
   "outputs": [],
   "source": [
    "import pandas as pd\n",
    "import numpy as np\n",
    "import seaborn as sns"
   ]
  },
  {
   "cell_type": "code",
   "execution_count": 2,
   "id": "57238b2b-e2e5-4d99-a325-13fec7285171",
   "metadata": {},
   "outputs": [],
   "source": [
    "variables_eliminar=\"\"\"funded_amnt_inv\n",
    "grade\n",
    "sub_grade\n",
    "préstamo \n",
    "emp_title\n",
    "verification_status\n",
    "purpose\n",
    "zip_code\n",
    "addr_state\n",
    "dti\n",
    "delinq_2yrs\n",
    "inq_last_6mths\n",
    "revol_bal\n",
    "revol_util\n",
    "total_acc\n",
    "out_prncp\n",
    "out_prncp_inv\n",
    "out_prncp_inv\n",
    "total_pymnt\n",
    "total_rec_prncp\n",
    "total_rec_int\n",
    "total_rec_late_fee\n",
    "recoveries\n",
    "collection_recovery_fee\n",
    "last_pymnt_amnt\n",
    "last_credit_pull_d\n",
    "collections_12_mths_ex_med\n",
    "policy_code\n",
    "tot_coll_amt\n",
    "total_rev_hi_lim\"\"\"\n",
    "variables_eliminar=np.array(variables_eliminar.replace(\" \", \"\").split(\"\\n\"))\n",
    "variables_eliminar.shape=(5,6)\n",
    "variables_eliminar=pd.DataFrame(variables_eliminar)\n",
    "variables_eliminar.columns=[\" \"]*6\n",
    "variables=\"\"\"__loan_amnt__:El monto indicado del préstamo solicitado por el prestatario. Si en algún momento, el departamento de crédito reduce el monto del préstamo, entonces se reflejará en este valor.\n",
    "\n",
    "__funded_amnt__: El monto total comprometido con ese préstamo en ese momento.\n",
    "\n",
    "__term__: El número de pagos del préstamo. Los valores son en meses y pueden ser 36 o 60.\n",
    "\n",
    "__int_rate__: tasa de interés del préstamo.\n",
    "\n",
    "__installment__:cuota El pago mensual adeudado por el prestatario si el préstamo se origina.\n",
    "\n",
    "__emp_length__: años trabajo\n",
    "\n",
    "__home_ownership__: El estado de propiedad de la vivienda proporcionado por el prestatario durante el registro. Nuestros valores son: ALQUILER, PROPIEDAD, HIPOTECA, OTRO.\n",
    "\n",
    "__annual_inc__: Los ingresos anuales autoinformados proporcionados por el prestatario durante el registro.\n",
    "\n",
    "__pymnt_plan__: indica si se a establecido un plan de pago.\n",
    "\n",
    "__earliest_cr_line__: El mes en que se abrió la primera línea de crédito reportada del prestatario.\n",
    "\n",
    "__open_acc__: El número de líneas de crédito abiertas en el archivo de crédito del prestatario.\n",
    "\n",
    "__pub_rec__: numero de derogatory public records.\n",
    "\n",
    "__initial_list_status__: El estado inicial de listado del préstamo. Los valores posibles son – W, F\n",
    "\n",
    "__acc_now_delinq__:El número de cuentas en las que el prestatario está ahora en mora.\n",
    "\n",
    "__purpose__: fdfgsf\n",
    "\n",
    "__tot_cur_bal__:Saldo corriente total de todas las cuentas\n",
    "\"\"\".split(\"\\n\")\n",
    "#.replace(\"__\",\"\")\n",
    "variables=pd.Series(variables)\n",
    "variables_= variables[~(variables==\"\")].apply(lambda x: x.split(\":\")[0])\n",
    "descripcion_=variables[~(variables==\"\")].apply(lambda x: x.split(\":\")[1])\n",
    "result=pd.DataFrame({\"Variables\": variables_, \"Descripción\":descripcion_ })\n",
    "result=result.reset_index()\n",
    "variables_=pd.Series(variables_).apply(lambda x: x.replace(\"__\",\"\" ))"
   ]
  },
  {
   "cell_type": "code",
   "execution_count": null,
   "id": "0911651a-7eba-4c2a-8786-72b5d557832f",
   "metadata": {},
   "outputs": [],
   "source": []
  },
  {
   "cell_type": "code",
   "execution_count": 3,
   "id": "ffdfb18f-df28-43f9-a689-754a6e70f327",
   "metadata": {},
   "outputs": [
    {
     "name": "stderr",
     "output_type": "stream",
     "text": [
      "C:\\Users\\German\\AppData\\Local\\Temp\\ipykernel_10388\\3755368906.py:1: DtypeWarning: Columns (19) have mixed types. Specify dtype option on import or set low_memory=False.\n",
      "  df=pd.read_csv('loan_data_2007_2014.csv')\n"
     ]
    }
   ],
   "source": [
    "df=pd.read_csv('loan_data_2007_2014.csv')"
   ]
  },
  {
   "cell_type": "code",
   "execution_count": 4,
   "id": "aba552f5-cbbf-4337-94d6-641c8cae96f8",
   "metadata": {},
   "outputs": [
    {
     "data": {
      "text/html": [
       "<div>\n",
       "<style scoped>\n",
       "    .dataframe tbody tr th:only-of-type {\n",
       "        vertical-align: middle;\n",
       "    }\n",
       "\n",
       "    .dataframe tbody tr th {\n",
       "        vertical-align: top;\n",
       "    }\n",
       "\n",
       "    .dataframe thead th {\n",
       "        text-align: right;\n",
       "    }\n",
       "</style>\n",
       "<table border=\"1\" class=\"dataframe\">\n",
       "  <thead>\n",
       "    <tr style=\"text-align: right;\">\n",
       "      <th></th>\n",
       "      <th>Variables</th>\n",
       "      <th>Total</th>\n",
       "    </tr>\n",
       "  </thead>\n",
       "  <tbody>\n",
       "    <tr>\n",
       "      <th>0</th>\n",
       "      <td>Menos del 20% NA</td>\n",
       "      <td>48</td>\n",
       "    </tr>\n",
       "    <tr>\n",
       "      <th>1</th>\n",
       "      <td>Mas del 20% NA</td>\n",
       "      <td>22</td>\n",
       "    </tr>\n",
       "  </tbody>\n",
       "</table>\n",
       "</div>"
      ],
      "text/plain": [
       "          Variables  Total\n",
       "0  Menos del 20% NA     48\n",
       "1    Mas del 20% NA     22"
      ]
     },
     "execution_count": 4,
     "metadata": {},
     "output_type": "execute_result"
    }
   ],
   "source": [
    "drop_columns=[\"id\", \"member_id\", \"url\", \"title\"]\n",
    "df=df.drop(labels=drop_columns,axis=1 )\n",
    "total_na=df.isna().sum()\n",
    "filtro=total_na< df.shape[0]*0.2\n",
    "total_na=total_na[filtro]\n",
    "result=pd.DataFrame({\"Variables\":[\"Menos del 20% NA\",\" Mas del 20% NA\"],\n",
    "\"Total\":[total_na.shape[0], 70-total_na.shape[0] ]} )\n",
    "#print(result.to_markdown(index=False,tablefmt=\"grid\",numalign=\"center\",stralign =\"center\",floatfmt=\".0f\"))\n",
    "result"
   ]
  },
  {
   "cell_type": "code",
   "execution_count": 5,
   "id": "22b43f94-03e1-4199-9d3b-695f43f0ac98",
   "metadata": {
    "tags": []
   },
   "outputs": [
    {
     "data": {
      "text/html": [
       "<div>\n",
       "<style scoped>\n",
       "    .dataframe tbody tr th:only-of-type {\n",
       "        vertical-align: middle;\n",
       "    }\n",
       "\n",
       "    .dataframe tbody tr th {\n",
       "        vertical-align: top;\n",
       "    }\n",
       "\n",
       "    .dataframe thead th {\n",
       "        text-align: right;\n",
       "    }\n",
       "</style>\n",
       "<table border=\"1\" class=\"dataframe\">\n",
       "  <thead>\n",
       "    <tr style=\"text-align: right;\">\n",
       "      <th></th>\n",
       "      <th>loan_status</th>\n",
       "      <th>good_status</th>\n",
       "      <th>Frec</th>\n",
       "    </tr>\n",
       "  </thead>\n",
       "  <tbody>\n",
       "    <tr>\n",
       "      <th>0</th>\n",
       "      <td>Current</td>\n",
       "      <td>1</td>\n",
       "      <td>224226</td>\n",
       "    </tr>\n",
       "    <tr>\n",
       "      <th>1</th>\n",
       "      <td>Fully Paid</td>\n",
       "      <td>1</td>\n",
       "      <td>184739</td>\n",
       "    </tr>\n",
       "    <tr>\n",
       "      <th>2</th>\n",
       "      <td>Charged Off</td>\n",
       "      <td>0</td>\n",
       "      <td>42475</td>\n",
       "    </tr>\n",
       "    <tr>\n",
       "      <th>3</th>\n",
       "      <td>Late (31-120 days)</td>\n",
       "      <td>0</td>\n",
       "      <td>6900</td>\n",
       "    </tr>\n",
       "    <tr>\n",
       "      <th>4</th>\n",
       "      <td>In Grace Period</td>\n",
       "      <td>1</td>\n",
       "      <td>3146</td>\n",
       "    </tr>\n",
       "    <tr>\n",
       "      <th>5</th>\n",
       "      <td>Does not meet the credit policy. Status:Fully ...</td>\n",
       "      <td>1</td>\n",
       "      <td>1988</td>\n",
       "    </tr>\n",
       "    <tr>\n",
       "      <th>6</th>\n",
       "      <td>Late (16-30 days)</td>\n",
       "      <td>1</td>\n",
       "      <td>1218</td>\n",
       "    </tr>\n",
       "    <tr>\n",
       "      <th>7</th>\n",
       "      <td>Default</td>\n",
       "      <td>0</td>\n",
       "      <td>832</td>\n",
       "    </tr>\n",
       "    <tr>\n",
       "      <th>8</th>\n",
       "      <td>Does not meet the credit policy. Status:Charge...</td>\n",
       "      <td>0</td>\n",
       "      <td>761</td>\n",
       "    </tr>\n",
       "  </tbody>\n",
       "</table>\n",
       "</div>"
      ],
      "text/plain": [
       "                                         loan_status  good_status    Frec\n",
       "0                                            Current            1  224226\n",
       "1                                         Fully Paid            1  184739\n",
       "2                                        Charged Off            0   42475\n",
       "3                                 Late (31-120 days)            0    6900\n",
       "4                                    In Grace Period            1    3146\n",
       "5  Does not meet the credit policy. Status:Fully ...            1    1988\n",
       "6                                  Late (16-30 days)            1    1218\n",
       "7                                            Default            0     832\n",
       "8  Does not meet the credit policy. Status:Charge...            0     761"
      ]
     },
     "execution_count": 5,
     "metadata": {},
     "output_type": "execute_result"
    }
   ],
   "source": [
    "table_frec=pd.DataFrame(df[\"loan_status\"].value_counts())\n",
    "status_mora=['Charged Off', 'Default', 'Late (31-120 days)','Does not meet the credit policy. Status:Charged Off']\n",
    "table_frec[\"good_status\"]=1\n",
    "filtro=pd.Series(table_frec.index).isin( status_mora)\n",
    "table_frec.loc[list(filtro), \"good_status\"]=0\n",
    "table_frec=table_frec.reset_index()\n",
    "table_frec.columns=[\"loan_status\", \"Frec\", \"good_status\" ]\n",
    "table_frec[[\"loan_status\", \"good_status\",\"Frec\" ]]"
   ]
  },
  {
   "cell_type": "code",
   "execution_count": 6,
   "id": "a08720df-bd2a-4c54-8570-b407002a3382",
   "metadata": {},
   "outputs": [],
   "source": [
    "status_mora=['Charged Off', 'Default', 'Late (31-120 days)','Does not meet the credit policy. Status:Charged Off']\n",
    "df['issue_d']=pd.to_datetime(df['issue_d'], format = \"%b-%y\")\n",
    "df['last_pymnt_d']=pd.to_datetime(df['last_pymnt_d'], format = \"%b-%y\")\n",
    "df[\"month_last\"]= ((df.last_pymnt_d - df.issue_d)/np.timedelta64(1, 'M'))\n",
    "df['target_time']=0\n",
    "df.loc[df[\"month_last\"]<=12,'target_time']=1\n",
    "df[\"good_status\"]=1\n",
    "df.loc[df[\"loan_status\"].isin(status_mora),\"good_status\"]=0\n",
    "df=df[ [*variables_, \"good_status\",\"target_time\" ]] \n",
    "df=df[~df.isna().any(axis=1)]"
   ]
  },
  {
   "cell_type": "code",
   "execution_count": 7,
   "id": "7420b080-c18c-4d0e-8de6-5bc5e9e0cecf",
   "metadata": {},
   "outputs": [],
   "source": [
    "tabla_1=df.good_status.value_counts(normalize=True)*100\n",
    "tabla_2=df.good_status.value_counts()\n",
    "tabla_3=df.target_time.value_counts(normalize=True)*100\n",
    "tabla_4=df.target_time.value_counts()\n",
    "table_final=pd.DataFrame({\"good status\":[1,0],\"Frecuencia\":tabla_2, \n",
    "                          \"Frec %\":tabla_1, \"target time\":[0,1],\n",
    "                         \"Frecuencia \":tabla_4, \"Frec % \":tabla_3 } )"
   ]
  },
  {
   "cell_type": "code",
   "execution_count": 9,
   "id": "8764dfa7-0236-49bb-b104-45c63c4dd04e",
   "metadata": {},
   "outputs": [],
   "source": [
    "from scipy.stats import chi2_contingency\n",
    "X=df.drop(labels=\"good_status\",axis=1)\n",
    "Y=df[\"good_status\"]\n",
    "\n",
    "X_train_cat = X.select_dtypes(include = 'object').copy()\n",
    "X_train_num = X.select_dtypes(include = 'number').copy()\n",
    "# define an empty dictionary to store chi-squared test results\n",
    "chi2_check = {}\n",
    "\n",
    "# loop over each column in the training set to calculate chi-statistic with the target variable\n",
    "for column in X_train_cat:\n",
    "    chi, p, dof, ex = chi2_contingency(pd.crosstab(Y, X_train_cat[column]))\n",
    "    chi2_check.setdefault('Feature',[]).append(column)\n",
    "    chi2_check.setdefault('p-value',[]).append(round(p, 10))\n",
    "\n",
    "# convert the dictionary to a DF\n",
    "chi2_result = pd.DataFrame(data = chi2_check)\n",
    "chi2_result.sort_values(by = ['p-value'], ascending = True, ignore_index = True, inplace = True)\n"
   ]
  },
  {
   "cell_type": "code",
   "execution_count": 13,
   "id": "05aad2a7-71ec-4c0a-bce5-96b23b997291",
   "metadata": {},
   "outputs": [
    {
     "data": {
      "text/html": [
       "<div>\n",
       "<style scoped>\n",
       "    .dataframe tbody tr th:only-of-type {\n",
       "        vertical-align: middle;\n",
       "    }\n",
       "\n",
       "    .dataframe tbody tr th {\n",
       "        vertical-align: top;\n",
       "    }\n",
       "\n",
       "    .dataframe thead th {\n",
       "        text-align: right;\n",
       "    }\n",
       "</style>\n",
       "<table border=\"1\" class=\"dataframe\">\n",
       "  <thead>\n",
       "    <tr style=\"text-align: right;\">\n",
       "      <th></th>\n",
       "      <th>Feature</th>\n",
       "      <th>p-value</th>\n",
       "    </tr>\n",
       "  </thead>\n",
       "  <tbody>\n",
       "    <tr>\n",
       "      <th>0</th>\n",
       "      <td>term</td>\n",
       "      <td>0.000000</td>\n",
       "    </tr>\n",
       "    <tr>\n",
       "      <th>1</th>\n",
       "      <td>emp_length</td>\n",
       "      <td>0.000000</td>\n",
       "    </tr>\n",
       "    <tr>\n",
       "      <th>2</th>\n",
       "      <td>home_ownership</td>\n",
       "      <td>0.000000</td>\n",
       "    </tr>\n",
       "    <tr>\n",
       "      <th>3</th>\n",
       "      <td>earliest_cr_line</td>\n",
       "      <td>0.000000</td>\n",
       "    </tr>\n",
       "    <tr>\n",
       "      <th>4</th>\n",
       "      <td>initial_list_status</td>\n",
       "      <td>0.000000</td>\n",
       "    </tr>\n",
       "    <tr>\n",
       "      <th>5</th>\n",
       "      <td>purpose</td>\n",
       "      <td>0.000000</td>\n",
       "    </tr>\n",
       "    <tr>\n",
       "      <th>6</th>\n",
       "      <td>pymnt_plan</td>\n",
       "      <td>0.136062</td>\n",
       "    </tr>\n",
       "    <tr>\n",
       "      <th>7</th>\n",
       "      <td>application_type</td>\n",
       "      <td>1.000000</td>\n",
       "    </tr>\n",
       "  </tbody>\n",
       "</table>\n",
       "</div>"
      ],
      "text/plain": [
       "               Feature   p-value\n",
       "0                 term  0.000000\n",
       "1           emp_length  0.000000\n",
       "2       home_ownership  0.000000\n",
       "3     earliest_cr_line  0.000000\n",
       "4  initial_list_status  0.000000\n",
       "5              purpose  0.000000\n",
       "6           pymnt_plan  0.136062\n",
       "7     application_type  1.000000"
      ]
     },
     "execution_count": 13,
     "metadata": {},
     "output_type": "execute_result"
    }
   ],
   "source": []
  },
  {
   "cell_type": "code",
   "execution_count": 12,
   "id": "2ee14603-878e-4b30-94cf-3de045155aff",
   "metadata": {},
   "outputs": [
    {
     "data": {
      "text/plain": [
       "<AxesSubplot:>"
      ]
     },
     "execution_count": 12,
     "metadata": {},
     "output_type": "execute_result"
    },
    {
     "data": {
      "image/png": "[encoded data removed]",
      "text/plain": [
       "<Figure size 432x288 with 2 Axes>"
      ]
     },
     "metadata": {
      "needs_background": "light"
     },
     "output_type": "display_data"
    }
   ],
   "source": [
    "import matplotlib.pyplot as plt\n",
    "corrmat = X_train_num.corr()\n",
    "# plt.figure(figsize=(10,10))\n",
    "sns.heatmap(corrmat)"
   ]
  },
  {
   "cell_type": "code",
   "execution_count": 27,
   "id": "c3d9e6c1-5ea4-493f-bdbd-2fb920c1c62d",
   "metadata": {
    "tags": []
   },
   "outputs": [
    {
     "data": {
      "text/plain": [
       "0.0    375407\n",
       "1.0      1551\n",
       "2.0        87\n",
       "3.0        11\n",
       "4.0         4\n",
       "5.0         2\n",
       "Name: acc_now_delinq, dtype: int64"
      ]
     },
     "execution_count": 27,
     "metadata": {},
     "output_type": "execute_result"
    }
   ],
   "source": [
    "df.acc_now_delinq.value_counts()"
   ]
  },
  {
   "cell_type": "code",
   "execution_count": 26,
   "id": "622c403a-11aa-4573-83dd-d5cc39f9e444",
   "metadata": {},
   "outputs": [
    {
     "data": {
      "text/plain": [
       "<AxesSubplot:xlabel='good_status', ylabel='tot_cur_bal'>"
      ]
     },
     "execution_count": 26,
     "metadata": {},
     "output_type": "execute_result"
    },
    {
     "data": {
      "image/png": "[encoded data removed]",
      "text/plain": [
       "<Figure size 1080x1080 with 9 Axes>"
      ]
     },
     "metadata": {
      "needs_background": "light"
     },
     "output_type": "display_data"
    }
   ],
   "source": [
    "vars_=['loan_amnt',  'int_rate',  'annual_inc',\n",
    "       'open_acc', 'pub_rec', 'acc_now_delinq', 'tot_cur_bal']\n",
    "fig, axs = plt.subplots(ncols=3,nrows=3,figsize=(15, 15))\n",
    "sns.boxplot(data=df, x=\"good_status\", y=vars_[0], ax=axs[0, 0],showfliers = False)\n",
    "sns.boxplot(data=df, x=\"good_status\", y=vars_[1], ax=axs[0, 1],showfliers = False)\n",
    "sns.boxplot(data=df, x=\"good_status\", y=vars_[2], ax=axs[0, 2],showfliers = False)\n",
    "sns.boxplot(data=df, x=\"good_status\", y=vars_[3], ax=axs[1, 1],showfliers = False)\n",
    "sns.boxplot(data=df, x=\"good_status\", y=vars_[4], ax=axs[1, 2],showfliers = False)\n",
    "sns.boxplot(data=df, x=\"good_status\", y=vars_[5], ax=axs[1, 0],showfliers = False)\n",
    "sns.boxplot(data=df, x=\"good_status\", y=vars_[6], ax=axs[2, 1],showfliers = False)\n"
   ]
  }
 ],
 "metadata": {
  "kernelspec": {
   "display_name": "Python 3 (ipykernel)",
   "language": "python",
   "name": "python3"
  },
  "language_info": {
   "codemirror_mode": {
    "name": "ipython",
    "version": 3
   },
   "file_extension": ".py",
   "mimetype": "text/x-python",
   "name": "python",
   "nbconvert_exporter": "python",
   "pygments_lexer": "ipython3",
   "version": "3.9.12"
  }
 },
 "nbformat": 4,
 "nbformat_minor": 5
}
